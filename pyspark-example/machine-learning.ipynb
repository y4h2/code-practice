{
 "cells": [
  {
   "cell_type": "code",
   "execution_count": 1,
   "metadata": {
    "collapsed": true
   },
   "outputs": [],
   "source": [
    "import json \n",
    "import pyspark as ps\n",
    "import numpy as np"
   ]
  },
  {
   "cell_type": "code",
   "execution_count": 2,
   "metadata": {
    "collapsed": false
   },
   "outputs": [
    {
     "name": "stdout",
     "output_type": "stream",
     "text": [
      "-1\r\n",
      "-1\r\n",
      "-1\r\n",
      "-1\r\n",
      "-1\r\n",
      "-1\r\n",
      "-1\r\n",
      "-1\r\n",
      "-1\r\n",
      "-1\r\n"
     ]
    }
   ],
   "source": [
    "!head data/churn/upsell.data"
   ]
  },
  {
   "cell_type": "code",
   "execution_count": 3,
   "metadata": {
    "collapsed": false
   },
   "outputs": [
    {
     "name": "stdout",
     "output_type": "stream",
     "text": [
      "Var1\tVar2\tVar3\tVar4\tVar5\tVar6\tVar7\tVar8\tVar9\tVar10\tVar11\tVar12\tVar13\tVar14\tVar15\tVar16\tVar17\tVar18\tVar19\tVar20\tVar21\tVar22\tVar23\tVar24\tVar25\tVar26\tVar27\tVar28\tVar29\tVar30\tVar31\tVar32\tVar33\tVar34\tVar35\tVar36\tVar37\tVar38\tVar39\tVar40\tVar41\tVar42\tVar43\tVar44\tVar45\tVar46\tVar47\tVar48\tVar49\tVar50\tVar51\tVar52\tVar53\tVar54\tVar55\tVar56\tVar57\tVar58\tVar59\tVar60\tVar61\tVar62\tVar63\tVar64\tVar65\tVar66\tVar67\tVar68\tVar69\tVar70\tVar71\tVar72\tVar73\tVar74\tVar75\tVar76\tVar77\tVar78\tVar79\tVar80\tVar81\tVar82\tVar83\tVar84\tVar85\tVar86\tVar87\tVar88\tVar89\tVar90\tVar91\tVar92\tVar93\tVar94\tVar95\tVar96\tVar97\tVar98\tVar99\tVar100\tVar101\tVar102\tVar103\tVar104\tVar105\tVar106\tVar107\tVar108\tVar109\tVar110\tVar111\tVar112\tVar113\tVar114\tVar115\tVar116\tVar117\tVar118\tVar119\tVar120\tVar121\tVar122\tVar123\tVar124\tVar125\tVar126\tVar127\tVar128\tVar129\tVar130\tVar131\tVar132\tVar133\tVar134\tVar135\tVar136\tVar137\tVar138\tVar139\tVar140\tVar141\tVar142\tVar143\tVar144\tVar145\tVar146\tVar147\tVar148\tVar149\tVar150\tVar151\tVar152\tVar153\tVar154\tVar155\tVar156\tVar157\tVar158\tVar159\tVar160\tVar161\tVar162\tVar163\tVar164\tVar165\tVar166\tVar167\tVar168\tVar169\tVar170\tVar171\tVar172\tVar173\tVar174\tVar175\tVar176\tVar177\tVar178\tVar179\tVar180\tVar181\tVar182\tVar183\tVar184\tVar185\tVar186\tVar187\tVar188\tVar189\tVar190\tVar191\tVar192\tVar193\tVar194\tVar195\tVar196\tVar197\tVar198\tVar199\tVar200\tVar201\tVar202\tVar203\tVar204\tVar205\tVar206\tVar207\tVar208\tVar209\tVar210\tVar211\tVar212\tVar213\tVar214\tVar215\tVar216\tVar217\tVar218\tVar219\tVar220\tVar221\tVar222\tVar223\tVar224\tVar225\tVar226\tVar227\tVar228\tVar229\tVar230\r",
      "\r\n",
      "\t\t\t\t\t1526\t7\t\t\t\t\t\t184\t\t\t\t\t\t\t\t464\t580\t\t14\t128\t\t\t166.56\t\t\t\t\t\t\t0\t\t\t3570\t\t\t\t\t\t0\t\t\t\t\t\t\t\t\t\t\t\t\t4.076907\t\t\t\t\t\t\t\t9\t\t\t\t\t\t\t\t36\t35\t\t1350864\t\t0\t\t\t7333.11\t\t5\t\t12\t\t\t\t\t\t\t\t\t\t\t\t\t\t\t\t\t\t\t\t\t\t\t\t104\t\t\t168\t117625.6\t\t\t\t\t\t1175\t\t\t\t6\t\t720\t8\t\t\t\t\t\t0\t1212385\t69134\t\t\t\t\t\t185\t\t\t0\t9\t\t\t\t\t397579\t\t\t\t1812252\t\t\t\t\t\t\t142\t\t\t38418\t\t\t\t\t\t\t\t\t\t0\t\t\t\t\t\t\t\t0\t\t\t\t\t\t\t\t462\t\t\tbZkvyxLkBI\tRO12\t\ttaul\t1K8T\tlK27\tka_ns41\tnQUveAzAF7\t\t\tdXGu\t9_Y1\tFbIm\tVpdQ\thaYg\tme75fM6ugJ\tkIsH\t\tuKAI\tL84s\tXfqtO3UdzaXh_\t\t\t\tXTbPUYD\tsH5Z\tcJvF\tFzaX\t1YVfGrO\toslk\tfXVEsaq\tjySVZNlOJy\t\t\txb3V\tRAYp\tF2FyR07IdsN7I\t\t\r",
      "\r\n",
      "\t\t\t\t\t525\t0\t\t\t\t\t\t0\t\t\t\t\t\t\t\t168\t210\t\t2\t24\t\t\t353.52\t\t\t\t\t\t\t0\t\t\t4764966\t\t\t\t\t\t0\t\t\t\t\t\t\t\t\t\t\t\t\t5.408032\t\t\t\t\t\t\t\t9\t\t\t\t\t\t\t3\t26\t0\t\t2872928\t\t3\t\t\t151098.9\t\t25\t\t2\t\t\t\t\t\t\t\t\t58158\t\t\t\t\t\t\t\t\t\t\t\t\t\t\t40\t\t\t40\t-356411.6\t\t\t\t\t\t590\t\t\t\t72\t\t0\t\t\t\t\t\t\t8\t4136430\t357038\t\t\t\t\t\t0\t\t\t0\t9\t\t\t\t\t278334\t\t\t\t10439160\t\t\t\t\t\t\t32\t\t\t238572\t\t\t\t\t\t\t\t\t\t0\t\t\t\t\t\t\t\t0\t\t\t\t\t\t\t\t\t\t\tCEat0G8rTN\tRO12\t\ttaul\t1K8T\t2Ix5\tqEdASpP\ty2LIM01bE1\t\t\tlg1t\t9_Y1\tk13i\tsJzTlal\tzm5i\tme75fM6ugJ\tkIsH\t\tuKAI\tL84s\tNhsEn4L\t\t\t\tkZJyVg2\t\t\tFzaX\t0AJo2f2\toslk\t2Kb5FSF\tLM8l689qOp\t\t\tfKCe\tRAYp\tF2FyR07IdsN7I\t\t\r",
      "\r\n",
      "\t\t\t\t\t5236\t7\t\t\t\t\t\t904\t\t\t\t\t\t\t\t1212\t1515\t\t26\t816\t\t\t220.08\t\t\t\t\t\t\t0\t\t\t5883894\t\t\t\t\t\t0\t\t\t\t\t\t\t\t\t\t\t\t\t6.599658\t\t\t\t\t\t\t\t9\t\t\t\t\t\t\t\t130\t518\t\t1675776\t\t0\t\t\t16211.58\t\t40\t\t58\t\t\t\t\t\t\t\t\t\t\t\t\t\t\t\t\t\t\t\t\t\t\t\t312\t\t\t336\t405104\t\t\t\t\t\t3230\t\t\t\t114\t\t5967\t-28\t\t\t\t\t\t0\t3478905\t248932\t\t\t\t\t\t800\t\t\t0\t36\t\t\t\t\t320565\t\t\t\t9826360\t\t\t\t\t\t\t206\t\t\t434946\t\t\t\t\t\t\t\t\t\t0\t\t\t\t\t\t\t\t0\t\t\t\t\t\t\t\t\t\t\teOQt0GoOh3\tAERks4l\tSEuy\ttaul\t1K8T\tffXs\tNldASpP\ty4g9XoZ\tvynJTq9\tsmXZ\t4bTR\t9_Y1\tMGOA\tVpdQ\thaYg\tDHn_WUyBhW_whjA88g9bvA64_\tkIsH\t\tuKAI\tL84s\tUbxQ8lZ\t\tTTGHfSv\t\tpMWAe2U\tbHR7\tUYBR\tFzaX\tJFM1BiF\tAl6ZaUT\tNKv4yOc\tjySVZNlOJy\t\tkG3k\tQu4f\t02N6s8f\tib5G6X1eUxUn6\tam7c\t\r",
      "\r\n",
      "\t\t\t\t\t\t0\t\t\t\t\t\t0\t\t\t\t\t\t\t\t\t0\t\t\t0\t\t\t22.08\t\t\t\t\t\t\t0\t\t\t0\t\t\t\t\t\t0\t\t\t\t\t\t\t\t\t\t\t\t\t1.98825\t\t\t\t\t\t\t\t9\t\t\t\t\t\t\t\t12\t0\t\t0\t\t0\t\t\t\t\t0\t\t0\t\t\t\t\t\t\t\t\t\t\t\t\t\t\t\t\t\t\t\t\t\t\t\t\t\t\t0\t-275703.6\t\t\t\t\t\t\t\t\t\t0\t\t0\t-14\t\t\t\t\t\t0\t0\t0\t\t\t\t\t\t0\t\t\t0\t\t\t\t\t\t\t\t\t\t0\t\t\t\t\t\t\t0\t\t\t0\t\t\t\t\t\t\t\t\t\t0\t\t\t\t\t\t\t\t0\t\t\t\t\t\t\t\t\t\t\tjg69tYsGvO\tRO12\t\ttaul\t1K8T\tssAy\t_ybO0dd\t4hMlgkf58mhwh\t\t\tW8mQ\t9_Y1\tYULl\tVpdQ\t\tme75fM6ugJ\tkIsH\t\tuKAI\tMtgm\tNhsEn4L\t\t\t\tkq0dQfu\teKej\tUYBR\tFzaX\tL91KIiz\toslk\tCE7uk3u\tLM8l689qOp\t\t\tFSa2\tRAYp\tF2FyR07IdsN7I\t\t\r",
      "\r\n",
      "\t\t\t\t\t1029\t7\t\t\t\t\t\t3216\t\t\t\t\t\t\t\t64\t80\t\t4\t64\t\t\t200\t\t\t\t\t\t\t0\t\t\t0\t\t\t\t\t\t0\t\t\t\t\t\t\t\t\t\t\t\t\t4.552446\t\t\t\t\t\t\t\t18\t\t\t\t\t\t\t3\t82\t224\t\t784448\t\t0\t\t\t37423.5\t\t0\t\t0\t\t\t\t\t\t\t\t\t89754\t\t\t\t\t\t\t\t\t\t\t\t\t\t\t32\t\t\t56\t10714.84\t\t\t\t\t\t215\t\t\t\t0\t\t15111\t58\t\t\t\t\t\t0\t150650\t66046\t\t\t\t\t\t3255\t\t\t0\t9\t\t\t\t\t267162\t\t\t\t644836\t\t\t\t\t\t\t2\t\t\t0\t\t\t\t\t\t\t\t\t\t0\t\t\t\t\t\t\t\t0\t\t\t\t\t\t\t\t\t\t\tIXSgUHShse\tRO12\tSEuy\ttaul\t1K8T\tuNkU\tEKR938I\tThrHXVS\t0v21jmy\tsmXZ\txklU\t9_Y1\tRVjC\tsJzTlal\t6JmL\tme75fM6ugJ\tkIsH\t\tuKAI\tL84s\tXfqtO3UdzaXh_\t\tSJs3duv\t\t11p4mKe\tH3p7\tUYBR\tFzaX\tOrnLfvc\toslk\t1J2cvxe\tLM8l689qOp\t\tkG3k\tFSa2\tRAYp\tF2FyR07IdsN7I\tmj86\t\r",
      "\r\n",
      "\t\t\t\t\t658\t7\t\t\t\t\t\t3156\t\t\t\t\t\t\t\t224\t280\t\t2\t72\t\t\t200\t\t\t\t\t\t\t5\t\t\t0\t\t\t\t\t\t0\t\t\t\t\t\t\t\t\t\t\t\t\t0.1664174\t\t\t\t\t\t\t\t9\t\t\t\t\t\t\t\t126\t196\t\t209048\t\t0\t\t\t11370.72\t\t0\t\t10\t\t\t\t\t\t\t\t\t\t\t\t\t\t\t\t\t\t\t\t\t\t\t\t32\t\t\t64\t369814\t\t\t\t\t\t755\t\t\t\t0\t\t1935\t\t\t\t\t\t\t8\t641020\t43684\t\t\t\t\t\t355\t\t\t0\t9\t\t\t\t\t2639\t\t\t\t745620\t\t\t\t\t\t\t68\t\t\t61368\t\t\t\t\t\t\t\t\t\t0\t\t\t\t\t\t\t\t0\t\t\t\t\t\t\t\t\t\t\tm9SrEy7Rm6\t2Knk1KF\t\ttaul\t1K8T\tlK27\tfayYfhR\tetM739XNb0Rf0\t\t\tae6C\t9_Y1\tyrDU\tVpdQ\twMei\tDHn_WUyBhW_whjA88g9bvA64_\tkIsH\t\tuKAI\tL84s\t3vzwTT0wY25GE\t\t\t\tteAHwXo\tykzL\tUYBR\tFzaX\tKbkKEj0\tzCkv\tQqVuch3\tLM8l689qOp\t\t\tQcbd\t02N6s8f\tZy3gnGM\tam7c\t\r",
      "\r\n",
      "\t\t\t\t\t1680\t7\t\t\t\t\t\t2952\t\t\t\t\t\t\t\t308\t385\t\t4\t128\t\t\t176.56\t\t\t\t\t\t\t0\t\t\t13158\t\t\t\t\t\t0\t\t\t\t\t\t\t\t\t\t\t\t\t5.448622\t\t\t\t\t\t\t\t9\t\t\t\t\t\t\t\t114\t392\t\t1030800\t\t0\t\t\t31655.4\t\t5\t\t16\t\t\t\t\t\t\t\t\t\t\t\t\t\t\t\t\t\t\t\t\t\t\t\t88\t\t\t176\t-808528\t\t\t\t\t\t1080\t\t\t\t24\t\t13194\t-24\t\t\t\t\t\t0\t1664450\t104978\t\t\t\t\t\t1665\t\t\t0\t18\t\t\t\t\t47019\t\t\t\t2345424\t\t\t\t\t\t\t52\t\t\t417438\t\t\t\t\t\t\t\t\t\t0\t\t\t\t\t\t\t\t0\t\t\t\t\t\t\t\t228\t\t\tQu0qrQKzJV\t2Knk1KF\tlvza\ttaul\t1K8T\tEJC9\tofiZR7x\tLJF4fPp\tQYxAlFM\tsmXZ\t5Rb0\t9_Y1\t15m3\tVpdQ\thaYg\tme75fM6ugJ\tkIsH\t\tuKAI\tMtgm\tXfqtO3UdzaXh_\t\tRQAGE01\t\t11p4mKe\tNvHl\tUYBR\tFzaX\tJO03372\toslk\tXlgxB9z\tLM8l689qOp\t\tkG3k\tFSa2\tRAYp\t55YFVY9\tam7c\t\r",
      "\r\n",
      "\t\t\t\t\t77\t0\t\t\t\t\t\t0\t\t\t\t\t\t\t\t32\t40\t\t2\t16\t\t\t230.56\t\t\t\t\t\t\t0\t\t\t3776496\t\t\t\t\t\t0\t\t\t\t\t\t\t\t\t\t\t\t\t5.067507\t\t\t\t\t\t\t\t9\t\t\t\t\t\t\t\t18\t0\t\t0\t\t3\t\t\t402441\t\t0\t\t2\t\t\t\t\t\t\t\t\t\t\t\t\t\t\t\t\t\t\t\t\t\t\t\t8\t\t\t0\t101923.6\t\t\t\t\t\t215\t\t\t\t12\t\t0\t-8\t\t\t\t\t\t8\t3839825\t1284128\t\t\t\t\t\t0\t\t\t0\t0\t\t\t\t\t4233600\t\t\t\t10577000\t\t\t\t\t\t\t6\t\t\t3628800\t\t\t\t\t\t\t\t\t\t0\t\t\t\t\t\t\t\t0\t\t\t\t\t\t\t\t\t\t\teOQgUHShse\tRO12\t\tLfvqpCtLOY\t1K8T\tBxva\tXlthli9\tGaiUdPAZp_\t\t\tMx5G\t9_Y1\tRVjC\tVpdQ\tIYzP\tme75fM6ugJ\tkIsH\t\tuKAI\tMtgm\tNhsEn4L\t\t\t\t7WwuNea\t9haV\tUYBR\t\tU8IKsQe\toslk\tR2LdzOv\t\t\t\tFSa2\tRAYp\tF2FyR07IdsN7I\t\t\r",
      "\r\n",
      "\t\t\t\t\t1176\t7\t\t\t\t\t\t2912\t\t\t\t\t\t\t\t200\t250\t\t2\t64\t\t\t300.32\t\t\t\t\t\t\t0\t\t\t6014460\t\t\t\t\t\t0\t\t\t\t\t\t\t\t\t\t\t\t\t2.045717\t\t\t\t\t\t\t\t27\t\t\t\t\t\t\t3\t72\t91\t\t1933712\t\t0\t\t\t117761.7\t\t40\t\t2\t\t\t\t\t\t\t\t\t45645\t\t\t\t\t\t\t\t\t\t\t\t\t\t\t56\t\t\t40\t161314.4\t\t\t\t\t\t790\t\t\t\t90\t\t2754\t\t\t\t\t\t\t0\t3830510\t203586\t\t\t\t\t\t3080\t\t\t0\t0\t\t\t\t\t114695\t\t\t\t10405680\t\t\t\t\t\t\t26\t\t\t98310\t\t\t\t\t\t\t\t\t\t0\t\t\t\t\t\t\t\t0\t\t\t\t\t\t\t\t\t\t\t4e7Wq69R_D\tRO12\tSEuy\ttaul\t1K8T\t0Xwj\t6CXYbuk\tokUBQrgaYWgG0\tz1Qe5zX\tsmXZ\t1G9T\tHLqf\tPx52\tVpdQ\tIYzP\tKxdu\tsBgB\t\t7A3j\tL84s\t9pUnzWLbztKTo\t\tyBN8Pcy\t\tkq0YABQ\t\t\tFzaX\tROeipLp\tzCkv\tK2SqEo9\tjySVZNlOJy\t\tkG3k\tPM2D\t6fzt\tam14IcfM7tWLrUmRT52KtA\tam7c\t\r",
      "\r\n"
     ]
    }
   ],
   "source": [
    "!head data/churn/orange_small_train.data"
   ]
  },
  {
   "cell_type": "code",
   "execution_count": 4,
   "metadata": {
    "collapsed": false
   },
   "outputs": [
    {
     "name": "stdout",
     "output_type": "stream",
     "text": [
      "   50001 data/churn/orange_small_train.data\r\n"
     ]
    }
   ],
   "source": [
    "!wc -l data/churn/orange_small_train.data"
   ]
  },
  {
   "cell_type": "code",
   "execution_count": 5,
   "metadata": {
    "collapsed": false
   },
   "outputs": [],
   "source": [
    "sc = ps.SparkContext()"
   ]
  },
  {
   "cell_type": "code",
   "execution_count": 6,
   "metadata": {
    "collapsed": true
   },
   "outputs": [],
   "source": [
    "import os, ipdb\n",
    "\n",
    "# need to get local path since we are reading local files\n",
    "cwd = os.getcwd()"
   ]
  },
  {
   "cell_type": "code",
   "execution_count": 7,
   "metadata": {
    "collapsed": true
   },
   "outputs": [],
   "source": [
    "churn_rdd = sc.textFile('file://' + cwd + '/data/churn/small_combined.tsv')"
   ]
  },
  {
   "cell_type": "code",
   "execution_count": 8,
   "metadata": {
    "collapsed": true
   },
   "outputs": [],
   "source": [
    "header = churn_rdd.first()\n",
    "\n",
    "# first 190 numeric, last 40 categorical\n",
    "churn_rows = churn_rdd.filter(lambda x: x != header).map(lambda x: x.split('\\t')[:190])"
   ]
  },
  {
   "cell_type": "code",
   "execution_count": 9,
   "metadata": {
    "collapsed": false
   },
   "outputs": [
    {
     "data": {
      "text/plain": [
       "[u'-1',\n",
       " u'',\n",
       " u'',\n",
       " u'',\n",
       " u'',\n",
       " u'',\n",
       " u'1526',\n",
       " u'7',\n",
       " u'',\n",
       " u'',\n",
       " u'',\n",
       " u'',\n",
       " u'',\n",
       " u'184',\n",
       " u'',\n",
       " u'',\n",
       " u'',\n",
       " u'',\n",
       " u'',\n",
       " u'',\n",
       " u'',\n",
       " u'464',\n",
       " u'580',\n",
       " u'',\n",
       " u'14',\n",
       " u'128',\n",
       " u'',\n",
       " u'',\n",
       " u'166.56',\n",
       " u'',\n",
       " u'',\n",
       " u'',\n",
       " u'',\n",
       " u'',\n",
       " u'',\n",
       " u'0',\n",
       " u'',\n",
       " u'',\n",
       " u'3570',\n",
       " u'',\n",
       " u'',\n",
       " u'',\n",
       " u'',\n",
       " u'',\n",
       " u'0',\n",
       " u'',\n",
       " u'',\n",
       " u'',\n",
       " u'',\n",
       " u'',\n",
       " u'',\n",
       " u'',\n",
       " u'',\n",
       " u'',\n",
       " u'',\n",
       " u'',\n",
       " u'',\n",
       " u'4.076907',\n",
       " u'',\n",
       " u'',\n",
       " u'',\n",
       " u'',\n",
       " u'',\n",
       " u'',\n",
       " u'',\n",
       " u'9',\n",
       " u'',\n",
       " u'',\n",
       " u'',\n",
       " u'',\n",
       " u'',\n",
       " u'',\n",
       " u'',\n",
       " u'36',\n",
       " u'35',\n",
       " u'',\n",
       " u'1350864',\n",
       " u'',\n",
       " u'0',\n",
       " u'',\n",
       " u'',\n",
       " u'7333.11',\n",
       " u'',\n",
       " u'5',\n",
       " u'',\n",
       " u'12',\n",
       " u'',\n",
       " u'',\n",
       " u'',\n",
       " u'',\n",
       " u'',\n",
       " u'',\n",
       " u'',\n",
       " u'',\n",
       " u'',\n",
       " u'',\n",
       " u'',\n",
       " u'',\n",
       " u'',\n",
       " u'',\n",
       " u'',\n",
       " u'',\n",
       " u'',\n",
       " u'',\n",
       " u'',\n",
       " u'',\n",
       " u'',\n",
       " u'',\n",
       " u'',\n",
       " u'104',\n",
       " u'',\n",
       " u'',\n",
       " u'168',\n",
       " u'117625.6',\n",
       " u'',\n",
       " u'',\n",
       " u'',\n",
       " u'',\n",
       " u'',\n",
       " u'1175',\n",
       " u'',\n",
       " u'',\n",
       " u'',\n",
       " u'6',\n",
       " u'',\n",
       " u'720',\n",
       " u'8',\n",
       " u'',\n",
       " u'',\n",
       " u'',\n",
       " u'',\n",
       " u'',\n",
       " u'0',\n",
       " u'1212385',\n",
       " u'69134',\n",
       " u'',\n",
       " u'',\n",
       " u'',\n",
       " u'',\n",
       " u'',\n",
       " u'185',\n",
       " u'',\n",
       " u'',\n",
       " u'0',\n",
       " u'9',\n",
       " u'',\n",
       " u'',\n",
       " u'',\n",
       " u'',\n",
       " u'397579',\n",
       " u'',\n",
       " u'',\n",
       " u'',\n",
       " u'1812252',\n",
       " u'',\n",
       " u'',\n",
       " u'',\n",
       " u'',\n",
       " u'',\n",
       " u'',\n",
       " u'142',\n",
       " u'',\n",
       " u'',\n",
       " u'38418',\n",
       " u'',\n",
       " u'',\n",
       " u'',\n",
       " u'',\n",
       " u'',\n",
       " u'',\n",
       " u'',\n",
       " u'',\n",
       " u'',\n",
       " u'0',\n",
       " u'',\n",
       " u'',\n",
       " u'',\n",
       " u'',\n",
       " u'',\n",
       " u'',\n",
       " u'',\n",
       " u'0',\n",
       " u'',\n",
       " u'',\n",
       " u'',\n",
       " u'',\n",
       " u'',\n",
       " u'',\n",
       " u'',\n",
       " u'462']"
      ]
     },
     "execution_count": 9,
     "metadata": {},
     "output_type": "execute_result"
    }
   ],
   "source": [
    "churn_rows.first()"
   ]
  },
  {
   "cell_type": "markdown",
   "metadata": {},
   "source": [
    "## Preprocessing\n",
    "* convert types\n",
    "* filter out null columns\n",
    "* imputing missing values"
   ]
  },
  {
   "cell_type": "code",
   "execution_count": 10,
   "metadata": {
    "collapsed": true
   },
   "outputs": [],
   "source": [
    "rdd_typed = churn_rows.map(lambda row: dict(zip(header.split('\\t')[:190], \\\n",
    "                                                           map(lambda x: None if x == '' else float(x), row))))"
   ]
  },
  {
   "cell_type": "code",
   "execution_count": 11,
   "metadata": {
    "collapsed": false
   },
   "outputs": [
    {
     "data": {
      "text/plain": [
       "{u'Var1': None,\n",
       " u'Var10': None,\n",
       " u'Var100': None,\n",
       " u'Var101': None,\n",
       " u'Var102': None,\n",
       " u'Var103': None,\n",
       " u'Var104': None,\n",
       " u'Var105': None,\n",
       " u'Var106': None,\n",
       " u'Var107': None,\n",
       " u'Var108': None,\n",
       " u'Var109': 104.0,\n",
       " u'Var11': None,\n",
       " u'Var110': None,\n",
       " u'Var111': None,\n",
       " u'Var112': 168.0,\n",
       " u'Var113': 117625.6,\n",
       " u'Var114': None,\n",
       " u'Var115': None,\n",
       " u'Var116': None,\n",
       " u'Var117': None,\n",
       " u'Var118': None,\n",
       " u'Var119': 1175.0,\n",
       " u'Var12': None,\n",
       " u'Var120': None,\n",
       " u'Var121': None,\n",
       " u'Var122': None,\n",
       " u'Var123': 6.0,\n",
       " u'Var124': None,\n",
       " u'Var125': 720.0,\n",
       " u'Var126': 8.0,\n",
       " u'Var127': None,\n",
       " u'Var128': None,\n",
       " u'Var129': None,\n",
       " u'Var13': 184.0,\n",
       " u'Var130': None,\n",
       " u'Var131': None,\n",
       " u'Var132': 0.0,\n",
       " u'Var133': 1212385.0,\n",
       " u'Var134': 69134.0,\n",
       " u'Var135': None,\n",
       " u'Var136': None,\n",
       " u'Var137': None,\n",
       " u'Var138': None,\n",
       " u'Var139': None,\n",
       " u'Var14': None,\n",
       " u'Var140': 185.0,\n",
       " u'Var141': None,\n",
       " u'Var142': None,\n",
       " u'Var143': 0.0,\n",
       " u'Var144': 9.0,\n",
       " u'Var145': None,\n",
       " u'Var146': None,\n",
       " u'Var147': None,\n",
       " u'Var148': None,\n",
       " u'Var149': 397579.0,\n",
       " u'Var15': None,\n",
       " u'Var150': None,\n",
       " u'Var151': None,\n",
       " u'Var152': None,\n",
       " u'Var153': 1812252.0,\n",
       " u'Var154': None,\n",
       " u'Var155': None,\n",
       " u'Var156': None,\n",
       " u'Var157': None,\n",
       " u'Var158': None,\n",
       " u'Var159': None,\n",
       " u'Var16': None,\n",
       " u'Var160': 142.0,\n",
       " u'Var161': None,\n",
       " u'Var162': None,\n",
       " u'Var163': 38418.0,\n",
       " u'Var164': None,\n",
       " u'Var165': None,\n",
       " u'Var166': None,\n",
       " u'Var167': None,\n",
       " u'Var168': None,\n",
       " u'Var169': None,\n",
       " u'Var17': None,\n",
       " u'Var170': None,\n",
       " u'Var171': None,\n",
       " u'Var172': None,\n",
       " u'Var173': 0.0,\n",
       " u'Var174': None,\n",
       " u'Var175': None,\n",
       " u'Var176': None,\n",
       " u'Var177': None,\n",
       " u'Var178': None,\n",
       " u'Var179': None,\n",
       " u'Var18': None,\n",
       " u'Var180': None,\n",
       " u'Var181': 0.0,\n",
       " u'Var182': None,\n",
       " u'Var183': None,\n",
       " u'Var184': None,\n",
       " u'Var185': None,\n",
       " u'Var186': None,\n",
       " u'Var187': None,\n",
       " u'Var188': None,\n",
       " u'Var189': 462.0,\n",
       " u'Var19': None,\n",
       " u'Var2': None,\n",
       " u'Var20': None,\n",
       " u'Var21': 464.0,\n",
       " u'Var22': 580.0,\n",
       " u'Var23': None,\n",
       " u'Var24': 14.0,\n",
       " u'Var25': 128.0,\n",
       " u'Var26': None,\n",
       " u'Var27': None,\n",
       " u'Var28': 166.56,\n",
       " u'Var29': None,\n",
       " u'Var3': None,\n",
       " u'Var30': None,\n",
       " u'Var31': None,\n",
       " u'Var32': None,\n",
       " u'Var33': None,\n",
       " u'Var34': None,\n",
       " u'Var35': 0.0,\n",
       " u'Var36': None,\n",
       " u'Var37': None,\n",
       " u'Var38': 3570.0,\n",
       " u'Var39': None,\n",
       " u'Var4': None,\n",
       " u'Var40': None,\n",
       " u'Var41': None,\n",
       " u'Var42': None,\n",
       " u'Var43': None,\n",
       " u'Var44': 0.0,\n",
       " u'Var45': None,\n",
       " u'Var46': None,\n",
       " u'Var47': None,\n",
       " u'Var48': None,\n",
       " u'Var49': None,\n",
       " u'Var5': None,\n",
       " u'Var50': None,\n",
       " u'Var51': None,\n",
       " u'Var52': None,\n",
       " u'Var53': None,\n",
       " u'Var54': None,\n",
       " u'Var55': None,\n",
       " u'Var56': None,\n",
       " u'Var57': 4.076907,\n",
       " u'Var58': None,\n",
       " u'Var59': None,\n",
       " u'Var6': 1526.0,\n",
       " u'Var60': None,\n",
       " u'Var61': None,\n",
       " u'Var62': None,\n",
       " u'Var63': None,\n",
       " u'Var64': None,\n",
       " u'Var65': 9.0,\n",
       " u'Var66': None,\n",
       " u'Var67': None,\n",
       " u'Var68': None,\n",
       " u'Var69': None,\n",
       " u'Var7': 7.0,\n",
       " u'Var70': None,\n",
       " u'Var71': None,\n",
       " u'Var72': None,\n",
       " u'Var73': 36.0,\n",
       " u'Var74': 35.0,\n",
       " u'Var75': None,\n",
       " u'Var76': 1350864.0,\n",
       " u'Var77': None,\n",
       " u'Var78': 0.0,\n",
       " u'Var79': None,\n",
       " u'Var8': None,\n",
       " u'Var80': None,\n",
       " u'Var81': 7333.11,\n",
       " u'Var82': None,\n",
       " u'Var83': 5.0,\n",
       " u'Var84': None,\n",
       " u'Var85': 12.0,\n",
       " u'Var86': None,\n",
       " u'Var87': None,\n",
       " u'Var88': None,\n",
       " u'Var89': None,\n",
       " u'Var9': None,\n",
       " u'Var90': None,\n",
       " u'Var91': None,\n",
       " u'Var92': None,\n",
       " u'Var93': None,\n",
       " u'Var94': None,\n",
       " u'Var95': None,\n",
       " u'Var96': None,\n",
       " u'Var97': None,\n",
       " u'Var98': None,\n",
       " u'Var99': None,\n",
       " u'label': -1.0}"
      ]
     },
     "execution_count": 11,
     "metadata": {},
     "output_type": "execute_result"
    }
   ],
   "source": [
    "rdd_typed.first()"
   ]
  },
  {
   "cell_type": "code",
   "execution_count": 12,
   "metadata": {
    "collapsed": true
   },
   "outputs": [],
   "source": [
    "from collections import Counter\n",
    "\n",
    "class CounterAccumulatorParam(ps.accumulators.AccumulatorParam):\n",
    "    def zero(self, initialValue):\n",
    "        return Counter()\n",
    "\n",
    "    def addInPlace(self, v1, v2):\n",
    "        v1 += v2\n",
    "        return v1\n",
    "\n",
    "accum = sc.accumulator(Counter(), CounterAccumulatorParam())\n",
    "\n",
    "def count_null(record):\n",
    "    global accum\n",
    "    \n",
    "    c = Counter()\n",
    "    \n",
    "    for key, value in record.items():\n",
    "            # since columns are initially strings\n",
    "            # empty string signals missing value\n",
    "            if value == None:\n",
    "                c[key] += 1\n",
    "                \n",
    "    accum.add(c)"
   ]
  },
  {
   "cell_type": "code",
   "execution_count": 13,
   "metadata": {
    "collapsed": true
   },
   "outputs": [],
   "source": [
    "rdd_typed.foreach(count_null)"
   ]
  },
  {
   "cell_type": "code",
   "execution_count": 14,
   "metadata": {
    "collapsed": false
   },
   "outputs": [
    {
     "data": {
      "text/plain": [
       "Counter({u'Var20': 50000, u'Var185': 50000, u'Var52': 50000, u'Var55': 50000, u'Var48': 50000, u'Var42': 50000, u'Var141': 50000, u'Var79': 50000, u'Var8': 50000, u'Var15': 50000, u'Var167': 50000, u'Var169': 50000, u'Var32': 50000, u'Var31': 50000, u'Var39': 50000, u'Var175': 50000, u'Var118': 49829, u'Var92': 49829, u'Var64': 49762, u'Var45': 49656, u'Var102': 49549, u'Var62': 49442, u'Var98': 49442, u'Var12': 49442, u'Var56': 49354, u'Var89': 49354, u'Var178': 49354, u'Var136': 49306, u'Var63': 49306, u'Var66': 49306, u'Var156': 49306, u'Var116': 49298, u'Var110': 49298, u'Var29': 49298, u'Var186': 49298, u'Var187': 49298, u'Var180': 49298, u'Var121': 49298, u'Var129': 49298, u'Var58': 49298, u'Var50': 49298, u'Var53': 49298, u'Var137': 49298, u'Var131': 49298, u'Var41': 49298, u'Var47': 49298, u'Var77': 49298, u'Var142': 49298, u'Var154': 49298, u'Var1': 49298, u'Var9': 49298, u'Var90': 49298, u'Var86': 49298, u'Var87': 49298, u'Var168': 49298, u'Var100': 49298, u'Var108': 49298, u'Var30': 49298, u'Var115': 49180, u'Var59': 49180, u'Var104': 49180, u'Var105': 49180, u'Var33': 49153, u'Var61': 49153, u'Var151': 49153, u'Var165': 49127, u'Var101': 49127, u'Var158': 49127, u'Var127': 48917, u'Var128': 48917, u'Var88': 48917, u'Var171': 48917, u'Var111': 48871, u'Var71': 48871, u'Var157': 48871, u'Var91': 48871, u'Var130': 48760, u'Var3': 48760, u'Var14': 48760, u'Var11': 48760, u'Var84': 48760, u'Var176': 48760, u'Var114': 48759, u'Var68': 48759, u'Var188': 48759, u'Var184': 48759, u'Var183': 48759, u'Var122': 48759, u'Var54': 48759, u'Var43': 48759, u'Var40': 48759, u'Var46': 48759, u'Var75': 48759, u'Var2': 48759, u'Var95': 48759, u'Var96': 48759, u'Var159': 48759, u'Var49': 48759, u'Var162': 48759, u'Var36': 48759, u'Var34': 48759, u'Var170': 48759, u'Var177': 48759, u'Var26': 48513, u'Var27': 48513, u'Var23': 48513, u'Var120': 48513, u'Var139': 48513, u'Var148': 48513, u'Var70': 48513, u'Var146': 48513, u'Var147': 48513, u'Var60': 48513, u'Var67': 48513, u'Var5': 48513, u'Var97': 48513, u'Var93': 48513, u'Var16': 48513, u'Var10': 48513, u'Var69': 48513, u'Var80': 48513, u'Var166': 48513, u'Var107': 48513, u'Var103': 48513, u'Var172': 48513, u'Var117': 48421, u'Var182': 48421, u'Var124': 48421, u'Var138': 48421, u'Var135': 48421, u'Var145': 48421, u'Var150': 48421, u'Var152': 48421, u'Var155': 48421, u'Var4': 48421, u'Var99': 48421, u'Var17': 48421, u'Var19': 48421, u'Var18': 48421, u'Var82': 48421, u'Var164': 48421, u'Var161': 48421, u'Var106': 48421, u'Var37': 48421, u'Var174': 48421, u'Var179': 48421, u'Var51': 46253, u'Var189': 28978, u'Var72': 22380, u'Var94': 22380, u'Var126': 13920, u'Var24': 7230, u'Var149': 7230, u'Var109': 7230, u'Var125': 5539, u'Var74': 5539, u'Var140': 5539, u'Var65': 5539, u'Var7': 5539, u'Var13': 5539, u'Var119': 5529, u'Var21': 5529, u'Var144': 5529, u'Var6': 5529, u'Var81': 5529, u'Var28': 5011, u'Var112': 5009, u'Var25': 5009, u'Var22': 5009, u'Var181': 5009, u'Var123': 5009, u'Var134': 5009, u'Var133': 5009, u'Var44': 5009, u'Var76': 5009, u'Var143': 5009, u'Var78': 5009, u'Var153': 5009, u'Var85': 5009, u'Var83': 5009, u'Var160': 5009, u'Var163': 5009, u'Var132': 5009, u'Var35': 5009, u'Var38': 5009, u'Var173': 5009})"
      ]
     },
     "execution_count": 14,
     "metadata": {},
     "output_type": "execute_result"
    }
   ],
   "source": [
    "accum.value"
   ]
  },
  {
   "cell_type": "code",
   "execution_count": 15,
   "metadata": {
    "collapsed": true
   },
   "outputs": [],
   "source": [
    "columns_to_drop = [ k for k, v in accum.value.items() if v > 15000]"
   ]
  },
  {
   "cell_type": "code",
   "execution_count": 16,
   "metadata": {
    "collapsed": true
   },
   "outputs": [],
   "source": [
    "columns_to_keep = set(header.split('\\t')[:190]) - set(columns_to_drop)"
   ]
  },
  {
   "cell_type": "code",
   "execution_count": 17,
   "metadata": {
    "collapsed": false
   },
   "outputs": [
    {
     "data": {
      "text/plain": [
       "40"
      ]
     },
     "execution_count": 17,
     "metadata": {},
     "output_type": "execute_result"
    }
   ],
   "source": [
    "len(columns_to_keep)"
   ]
  },
  {
   "cell_type": "code",
   "execution_count": 18,
   "metadata": {
    "collapsed": true
   },
   "outputs": [],
   "source": [
    "from pyspark.sql.types import *\n",
    "\n",
    "sqlContext = ps.HiveContext(sc)"
   ]
  },
  {
   "cell_type": "code",
   "execution_count": 19,
   "metadata": {
    "collapsed": false
   },
   "outputs": [],
   "source": [
    "df = sqlContext.jsonRDD(rdd_typed.map(lambda row: json.dumps(row)))"
   ]
  },
  {
   "cell_type": "code",
   "execution_count": 20,
   "metadata": {
    "collapsed": false
   },
   "outputs": [
    {
     "name": "stdout",
     "output_type": "stream",
     "text": [
      "root\n",
      " |-- Var1: double (nullable = true)\n",
      " |-- Var10: double (nullable = true)\n",
      " |-- Var100: double (nullable = true)\n",
      " |-- Var101: double (nullable = true)\n",
      " |-- Var102: double (nullable = true)\n",
      " |-- Var103: double (nullable = true)\n",
      " |-- Var104: double (nullable = true)\n",
      " |-- Var105: double (nullable = true)\n",
      " |-- Var106: double (nullable = true)\n",
      " |-- Var107: double (nullable = true)\n",
      " |-- Var108: double (nullable = true)\n",
      " |-- Var109: double (nullable = true)\n",
      " |-- Var11: double (nullable = true)\n",
      " |-- Var110: double (nullable = true)\n",
      " |-- Var111: double (nullable = true)\n",
      " |-- Var112: double (nullable = true)\n",
      " |-- Var113: double (nullable = true)\n",
      " |-- Var114: double (nullable = true)\n",
      " |-- Var115: double (nullable = true)\n",
      " |-- Var116: double (nullable = true)\n",
      " |-- Var117: double (nullable = true)\n",
      " |-- Var118: double (nullable = true)\n",
      " |-- Var119: double (nullable = true)\n",
      " |-- Var12: double (nullable = true)\n",
      " |-- Var120: double (nullable = true)\n",
      " |-- Var121: double (nullable = true)\n",
      " |-- Var122: double (nullable = true)\n",
      " |-- Var123: double (nullable = true)\n",
      " |-- Var124: double (nullable = true)\n",
      " |-- Var125: double (nullable = true)\n",
      " |-- Var126: double (nullable = true)\n",
      " |-- Var127: double (nullable = true)\n",
      " |-- Var128: double (nullable = true)\n",
      " |-- Var129: double (nullable = true)\n",
      " |-- Var13: double (nullable = true)\n",
      " |-- Var130: double (nullable = true)\n",
      " |-- Var131: double (nullable = true)\n",
      " |-- Var132: double (nullable = true)\n",
      " |-- Var133: double (nullable = true)\n",
      " |-- Var134: double (nullable = true)\n",
      " |-- Var135: double (nullable = true)\n",
      " |-- Var136: double (nullable = true)\n",
      " |-- Var137: double (nullable = true)\n",
      " |-- Var138: double (nullable = true)\n",
      " |-- Var139: double (nullable = true)\n",
      " |-- Var14: double (nullable = true)\n",
      " |-- Var140: double (nullable = true)\n",
      " |-- Var141: string (nullable = true)\n",
      " |-- Var142: double (nullable = true)\n",
      " |-- Var143: double (nullable = true)\n",
      " |-- Var144: double (nullable = true)\n",
      " |-- Var145: double (nullable = true)\n",
      " |-- Var146: double (nullable = true)\n",
      " |-- Var147: double (nullable = true)\n",
      " |-- Var148: double (nullable = true)\n",
      " |-- Var149: double (nullable = true)\n",
      " |-- Var15: string (nullable = true)\n",
      " |-- Var150: double (nullable = true)\n",
      " |-- Var151: double (nullable = true)\n",
      " |-- Var152: double (nullable = true)\n",
      " |-- Var153: double (nullable = true)\n",
      " |-- Var154: double (nullable = true)\n",
      " |-- Var155: double (nullable = true)\n",
      " |-- Var156: double (nullable = true)\n",
      " |-- Var157: double (nullable = true)\n",
      " |-- Var158: double (nullable = true)\n",
      " |-- Var159: double (nullable = true)\n",
      " |-- Var16: double (nullable = true)\n",
      " |-- Var160: double (nullable = true)\n",
      " |-- Var161: double (nullable = true)\n",
      " |-- Var162: double (nullable = true)\n",
      " |-- Var163: double (nullable = true)\n",
      " |-- Var164: double (nullable = true)\n",
      " |-- Var165: double (nullable = true)\n",
      " |-- Var166: double (nullable = true)\n",
      " |-- Var167: string (nullable = true)\n",
      " |-- Var168: double (nullable = true)\n",
      " |-- Var169: string (nullable = true)\n",
      " |-- Var17: double (nullable = true)\n",
      " |-- Var170: double (nullable = true)\n",
      " |-- Var171: double (nullable = true)\n",
      " |-- Var172: double (nullable = true)\n",
      " |-- Var173: double (nullable = true)\n",
      " |-- Var174: double (nullable = true)\n",
      " |-- Var175: string (nullable = true)\n",
      " |-- Var176: double (nullable = true)\n",
      " |-- Var177: double (nullable = true)\n",
      " |-- Var178: double (nullable = true)\n",
      " |-- Var179: double (nullable = true)\n",
      " |-- Var18: double (nullable = true)\n",
      " |-- Var180: double (nullable = true)\n",
      " |-- Var181: double (nullable = true)\n",
      " |-- Var182: double (nullable = true)\n",
      " |-- Var183: double (nullable = true)\n",
      " |-- Var184: double (nullable = true)\n",
      " |-- Var185: string (nullable = true)\n",
      " |-- Var186: double (nullable = true)\n",
      " |-- Var187: double (nullable = true)\n",
      " |-- Var188: double (nullable = true)\n",
      " |-- Var189: double (nullable = true)\n",
      " |-- Var19: double (nullable = true)\n",
      " |-- Var2: double (nullable = true)\n",
      " |-- Var20: string (nullable = true)\n",
      " |-- Var21: double (nullable = true)\n",
      " |-- Var22: double (nullable = true)\n",
      " |-- Var23: double (nullable = true)\n",
      " |-- Var24: double (nullable = true)\n",
      " |-- Var25: double (nullable = true)\n",
      " |-- Var26: double (nullable = true)\n",
      " |-- Var27: double (nullable = true)\n",
      " |-- Var28: double (nullable = true)\n",
      " |-- Var29: double (nullable = true)\n",
      " |-- Var3: double (nullable = true)\n",
      " |-- Var30: double (nullable = true)\n",
      " |-- Var31: string (nullable = true)\n",
      " |-- Var32: string (nullable = true)\n",
      " |-- Var33: double (nullable = true)\n",
      " |-- Var34: double (nullable = true)\n",
      " |-- Var35: double (nullable = true)\n",
      " |-- Var36: double (nullable = true)\n",
      " |-- Var37: double (nullable = true)\n",
      " |-- Var38: double (nullable = true)\n",
      " |-- Var39: string (nullable = true)\n",
      " |-- Var4: double (nullable = true)\n",
      " |-- Var40: double (nullable = true)\n",
      " |-- Var41: double (nullable = true)\n",
      " |-- Var42: string (nullable = true)\n",
      " |-- Var43: double (nullable = true)\n",
      " |-- Var44: double (nullable = true)\n",
      " |-- Var45: double (nullable = true)\n",
      " |-- Var46: double (nullable = true)\n",
      " |-- Var47: double (nullable = true)\n",
      " |-- Var48: string (nullable = true)\n",
      " |-- Var49: double (nullable = true)\n",
      " |-- Var5: double (nullable = true)\n",
      " |-- Var50: double (nullable = true)\n",
      " |-- Var51: double (nullable = true)\n",
      " |-- Var52: string (nullable = true)\n",
      " |-- Var53: double (nullable = true)\n",
      " |-- Var54: double (nullable = true)\n",
      " |-- Var55: string (nullable = true)\n",
      " |-- Var56: double (nullable = true)\n",
      " |-- Var57: double (nullable = true)\n",
      " |-- Var58: double (nullable = true)\n",
      " |-- Var59: double (nullable = true)\n",
      " |-- Var6: double (nullable = true)\n",
      " |-- Var60: double (nullable = true)\n",
      " |-- Var61: double (nullable = true)\n",
      " |-- Var62: double (nullable = true)\n",
      " |-- Var63: double (nullable = true)\n",
      " |-- Var64: double (nullable = true)\n",
      " |-- Var65: double (nullable = true)\n",
      " |-- Var66: double (nullable = true)\n",
      " |-- Var67: double (nullable = true)\n",
      " |-- Var68: double (nullable = true)\n",
      " |-- Var69: double (nullable = true)\n",
      " |-- Var7: double (nullable = true)\n",
      " |-- Var70: double (nullable = true)\n",
      " |-- Var71: double (nullable = true)\n",
      " |-- Var72: double (nullable = true)\n",
      " |-- Var73: double (nullable = true)\n",
      " |-- Var74: double (nullable = true)\n",
      " |-- Var75: double (nullable = true)\n",
      " |-- Var76: double (nullable = true)\n",
      " |-- Var77: double (nullable = true)\n",
      " |-- Var78: double (nullable = true)\n",
      " |-- Var79: string (nullable = true)\n",
      " |-- Var8: string (nullable = true)\n",
      " |-- Var80: double (nullable = true)\n",
      " |-- Var81: double (nullable = true)\n",
      " |-- Var82: double (nullable = true)\n",
      " |-- Var83: double (nullable = true)\n",
      " |-- Var84: double (nullable = true)\n",
      " |-- Var85: double (nullable = true)\n",
      " |-- Var86: double (nullable = true)\n",
      " |-- Var87: double (nullable = true)\n",
      " |-- Var88: double (nullable = true)\n",
      " |-- Var89: double (nullable = true)\n",
      " |-- Var9: double (nullable = true)\n",
      " |-- Var90: double (nullable = true)\n",
      " |-- Var91: double (nullable = true)\n",
      " |-- Var92: double (nullable = true)\n",
      " |-- Var93: double (nullable = true)\n",
      " |-- Var94: double (nullable = true)\n",
      " |-- Var95: double (nullable = true)\n",
      " |-- Var96: double (nullable = true)\n",
      " |-- Var97: double (nullable = true)\n",
      " |-- Var98: double (nullable = true)\n",
      " |-- Var99: double (nullable = true)\n",
      " |-- label: double (nullable = true)\n",
      "\n"
     ]
    }
   ],
   "source": [
    "df.printSchema()"
   ]
  },
  {
   "cell_type": "code",
   "execution_count": 21,
   "metadata": {
    "collapsed": true
   },
   "outputs": [],
   "source": [
    "df_subset = df.select(list(columns_to_keep))"
   ]
  },
  {
   "cell_type": "code",
   "execution_count": 22,
   "metadata": {
    "collapsed": false,
    "scrolled": true
   },
   "outputs": [
    {
     "name": "stdout",
     "output_type": "stream",
     "text": [
      "+-----+---------+------+----------+---------+---------+------+--------+------+-----+------+-----+-----+---------+------+-----+----+------+-----+-----+------+------+------+-----+------+---------+---------+-----+-------+------+------+-------+---------+------+-----+------+------+---------+-----+------+\n",
      "|Var65|   Var113|Var112|    Var153|   Var134|   Var133|Var132|   Var81|Var123|Var74| Var28|Var24|Var25|    Var38| Var21|Var44|Var7|  Var6|Var83|label|Var160| Var22|Var143|Var35|Var181|    Var76|   Var149|Var73| Var125|Var126|Var119| Var140|   Var163|Var144|Var78| Var13|Var109|    Var57|Var85|Var173|\n",
      "+-----+---------+------+----------+---------+---------+------+--------+------+-----+------+-----+-----+---------+------+-----+----+------+-----+-----+------+------+------+-----+------+---------+---------+-----+-------+------+------+-------+---------+------+-----+------+------+---------+-----+------+\n",
      "|  9.0| 117625.6| 168.0| 1812252.0|  69134.0|1212385.0|   0.0| 7333.11|   6.0| 35.0|166.56| 14.0|128.0|   3570.0| 464.0|  0.0| 7.0|1526.0|  5.0| -1.0| 142.0| 580.0|   0.0|  0.0|   0.0|1350864.0| 397579.0| 36.0|  720.0|   8.0|1175.0|  185.0|  38418.0|   9.0|  0.0| 184.0| 104.0| 4.076907| 12.0|   0.0|\n",
      "|  9.0|-356411.6|  40.0|1.043916E7| 357038.0|4136430.0|   8.0|151098.9|  72.0|  0.0|353.52|  2.0| 24.0|4764966.0| 168.0|  0.0| 0.0| 525.0| 25.0| -1.0|  32.0| 210.0|   0.0|  0.0|   0.0|2872928.0| 278334.0| 26.0|    0.0|  null| 590.0|    0.0| 238572.0|   9.0|  3.0|   0.0|  40.0| 5.408032|  2.0|   0.0|\n",
      "|  9.0| 405104.0| 336.0| 9826360.0| 248932.0|3478905.0|   0.0|16211.58| 114.0|518.0|220.08| 26.0|816.0|5883894.0|1212.0|  0.0| 7.0|5236.0| 40.0| -1.0| 206.0|1515.0|   0.0|  0.0|   0.0|1675776.0| 320565.0|130.0| 5967.0| -28.0|3230.0|  800.0| 434946.0|  36.0|  0.0| 904.0| 312.0| 6.599658| 58.0|   0.0|\n",
      "|  9.0|-275703.6|   0.0|       0.0|      0.0|      0.0|   0.0|    null|   0.0|  0.0| 22.08| null|  0.0|      0.0|  null|  0.0| 0.0|  null|  0.0| -1.0|   0.0|   0.0|   0.0|  0.0|   0.0|      0.0|     null| 12.0|    0.0| -14.0|  null|    0.0|      0.0|  null|  0.0|   0.0|  null|  1.98825|  0.0|   0.0|\n",
      "| 18.0| 10714.84|  56.0|  644836.0|  66046.0| 150650.0|   0.0| 37423.5|   0.0|224.0| 200.0|  4.0| 64.0|      0.0|  64.0|  0.0| 7.0|1029.0|  0.0| -1.0|   2.0|  80.0|   0.0|  0.0|   0.0| 784448.0| 267162.0| 82.0|15111.0|  58.0| 215.0| 3255.0|      0.0|   9.0|  0.0|3216.0|  32.0| 4.552446|  0.0|   0.0|\n",
      "|  9.0| 369814.0|  64.0|  745620.0|  43684.0| 641020.0|   8.0|11370.72|   0.0|196.0| 200.0|  2.0| 72.0|      0.0| 224.0|  0.0| 7.0| 658.0|  0.0| -1.0|  68.0| 280.0|   0.0|  5.0|   0.0| 209048.0|   2639.0|126.0| 1935.0|  null| 755.0|  355.0|  61368.0|   9.0|  0.0|3156.0|  32.0|0.1664174| 10.0|   0.0|\n",
      "|  9.0|-808528.0| 176.0| 2345424.0| 104978.0|1664450.0|   0.0| 31655.4|  24.0|392.0|176.56|  4.0|128.0|  13158.0| 308.0|  0.0| 7.0|1680.0|  5.0| -1.0|  52.0| 385.0|   0.0|  0.0|   0.0|1030800.0|  47019.0|114.0|13194.0| -24.0|1080.0| 1665.0| 417438.0|  18.0|  0.0|2952.0|  88.0| 5.448622| 16.0|   0.0|\n",
      "|  9.0| 101923.6|   0.0|  1.0577E7|1284128.0|3839825.0|   8.0|402441.0|  12.0|  0.0|230.56|  2.0| 16.0|3776496.0|  32.0|  0.0| 0.0|  77.0|  0.0| -1.0|   6.0|  40.0|   0.0|  0.0|   0.0|      0.0|4233600.0| 18.0|    0.0|  -8.0| 215.0|    0.0|3628800.0|   0.0|  3.0|   0.0|   8.0| 5.067507|  2.0|   0.0|\n",
      "| 27.0| 161314.4|  40.0|1.040568E7| 203586.0|3830510.0|   0.0|117761.7|  90.0| 91.0|300.32|  2.0| 64.0|6014460.0| 200.0|  0.0| 7.0|1176.0| 40.0| -1.0|  26.0| 250.0|   0.0|  0.0|   0.0|1933712.0| 114695.0| 72.0| 2754.0|  null| 790.0| 3080.0|  98310.0|   0.0|  0.0|2912.0|  56.0| 2.045717|  2.0|   0.0|\n",
      "| 18.0| 842480.0|  32.0| 7608840.0| 210014.0|2577245.0|  32.0|149686.5|  66.0|  0.0|166.56|  2.0| 72.0|5317974.0| 208.0|  0.0| 7.0|1141.0| 10.0| -1.0|  28.0| 260.0|   0.0|  5.0|   0.0|1858088.0| 227892.0|114.0| 6561.0|  null|1065.0|  155.0| 132210.0|  18.0|  6.0| 164.0| 112.0| 6.326853| 24.0|   2.0|\n",
      "|  9.0| -4831.72|  32.0|   28704.0|   7134.0|      0.0|   0.0|2739.141|  12.0|105.0|133.12|  6.0|112.0|   3534.0|  92.0|  0.0| 7.0| 490.0|  0.0| -1.0|   0.0| 115.0|   0.0|  0.0|   0.0|  13048.0|   9128.0|128.0| 5823.0|  58.0| 215.0|   95.0|   8334.0|  18.0|  0.0|2060.0|  56.0| 4.091647|  6.0|   0.0|\n",
      "| 27.0|  67166.4| 120.0|  613124.0|  15166.0| 134105.0|   8.0| 9885.09|  24.0|371.0|133.12|  8.0| 40.0| 446868.0| 236.0|  0.0|14.0| 798.0| 10.0| -1.0|  38.0| 295.0|   0.0|  5.0|   0.0| 147784.0|  50701.0| 76.0|66825.0|  52.0| 295.0|13115.0| 154482.0|   0.0|  0.0|2892.0| 120.0| 4.432173| 28.0|   0.0|\n",
      "|  9.0| -45625.2|   0.0|       0.0|      0.0|      0.0|   0.0| 34917.0|   0.0|  0.0|240.56| null|  0.0|      0.0|   0.0|  0.0| 0.0| 595.0|  0.0| -1.0|   0.0|   0.0|   0.0|  0.0|   0.0|      0.0|     null|148.0|44154.0|  10.0| 205.0|    0.0|      0.0|  27.0|  0.0|2044.0|  null| 1.899594|  0.0|   0.0|\n",
      "|  9.0|-179277.6| 104.0| 5710720.0|1095062.0|2772010.0|   0.0|19991.43|  54.0|  0.0|176.56| 10.0|216.0|  87294.0| 480.0|  0.0| 0.0|2268.0| 25.0| -1.0| 110.0| 600.0|   0.0|  0.0|   0.0| 399032.0| 793065.0| 48.0| 5202.0|  null|1575.0|    0.0|1521276.0|   0.0|  0.0|   0.0| 104.0| 2.524888| 22.0|   0.0|\n",
      "|  9.0| 357684.4|  16.0|1.029736E7|  57596.0|2170355.0|   0.0| 32325.3| 102.0|161.0|236.08|  0.0|  8.0|8521620.0| 148.0|  0.0| 7.0|3633.0| 30.0|  1.0|  22.0| 185.0|   0.0|  0.0|   0.0|1382400.0|      0.0| 34.0|31104.0|   8.0|1325.0|   70.0|      0.0|  18.0|  0.0| 500.0|  32.0| 3.357189|  0.0|   0.0|\n",
      "|  9.0|-2135.144|  16.0|   17016.0|      0.0|      0.0|   0.0|1691.829|   0.0|  0.0|166.56|  0.0|  0.0|      0.0|   8.0|  0.0| 0.0| 259.0|  0.0| -1.0|   0.0|  10.0|   0.0|  0.0|   0.0|  34032.0|      0.0|132.0| 2574.0|  null|  20.0|    0.0|      0.0|   9.0|  0.0| 348.0|  16.0| 1.224525|  0.0|   0.0|\n",
      "|  9.0|  -9852.0| 112.0| 9025240.0| 587392.0|3571845.0|  48.0|25544.49| 186.0|175.0|220.08|  6.0|320.0|3253506.0| 584.0|  0.0| 7.0|5152.0| 75.0| -1.0|  78.0| 730.0|   0.0| 30.0|   0.0|1660392.0|  27881.0|158.0| 8019.0|  null|2470.0| 8495.0|2008362.0|  36.0|  0.0|2024.0|  96.0| 2.873745| 14.0|   0.0|\n",
      "|  9.0|-35706.72| 128.0|  982036.0|  31436.0| 500295.0|   8.0| 30019.2|  30.0|  0.0|166.56|  2.0| 32.0| 548748.0| 168.0|  0.0| 7.0|1449.0|  0.0| -1.0|  34.0| 210.0|   0.0|  5.0|   0.0| 306192.0| 173894.0|140.0| 5319.0|  null| 690.0|  120.0|      0.0|  18.0|  0.0|  28.0|  16.0| 3.308268|  0.0|   0.0|\n",
      "| 18.0|-514956.0|   8.0| 2898024.0|      0.0| 918350.0|   0.0|232930.5|   0.0|  0.0|253.52|  2.0|  0.0|      0.0|  12.0|  0.0| 7.0| 574.0|  0.0| -1.0|   2.0|  15.0|   0.0|  0.0|   0.0|4132128.0| 170240.0| 66.0|13788.0|   4.0| 165.0|    5.0| 145920.0|   9.0|  0.0|1752.0|  16.0| 5.430891|  2.0|   0.0|\n",
      "|  9.0|  64737.2|  24.0| 2807668.0| 392138.0|2055150.0|   0.0| 46263.9|   0.0|  0.0|166.56|  2.0| 96.0|      0.0| 156.0|  0.0| 7.0| 658.0|  0.0| -1.0|  34.0| 195.0|   0.0|  0.0|   0.0| 153672.0|  32249.0| 38.0| 7110.0|  null| 845.0|   45.0| 453654.0|   0.0|  0.0|   0.0|  56.0| 5.402905| 14.0|   0.0|\n",
      "+-----+---------+------+----------+---------+---------+------+--------+------+-----+------+-----+-----+---------+------+-----+----+------+-----+-----+------+------+------+-----+------+---------+---------+-----+-------+------+------+-------+---------+------+-----+------+------+---------+-----+------+\n",
      "\n"
     ]
    }
   ],
   "source": [
    "df_subset.show()"
   ]
  },
  {
   "cell_type": "code",
   "execution_count": 23,
   "metadata": {
    "collapsed": false
   },
   "outputs": [
    {
     "data": {
      "text/plain": [
       "50000"
      ]
     },
     "execution_count": 23,
     "metadata": {},
     "output_type": "execute_result"
    }
   ],
   "source": [
    "df_subset.count()"
   ]
  },
  {
   "cell_type": "code",
   "execution_count": 24,
   "metadata": {
    "collapsed": false
   },
   "outputs": [
    {
     "data": {
      "text/plain": [
       "29675"
      ]
     },
     "execution_count": 24,
     "metadata": {},
     "output_type": "execute_result"
    }
   ],
   "source": [
    "df_subset.dropna().count()"
   ]
  },
  {
   "cell_type": "code",
   "execution_count": 25,
   "metadata": {
    "collapsed": false,
    "scrolled": true
   },
   "outputs": [
    {
     "name": "stdout",
     "output_type": "stream",
     "text": [
      "+-------+------------------+-------------------+------------------+-----------------+-----------------+------------------+------------------+------------------+----------------+------------------+-----------------+-----------------+------------------+-----------------+-----------------+-------------------+-----------------+-----------------+------------------+------------------+-----------------+-----------------+--------------------+------------------+------------------+------------------+-----------------+-----------------+-----------------+------------------+------------------+-----------------+------------------+------------------+------------------+------------------+------------------+------------------+------------------+--------------------+\n",
      "|summary|             Var65|             Var113|            Var112|           Var153|           Var134|            Var133|            Var132|             Var81|          Var123|             Var74|            Var28|            Var24|             Var25|            Var38|            Var21|              Var44|             Var7|             Var6|             Var83|             label|           Var160|            Var22|              Var143|             Var35|            Var181|             Var76|           Var149|            Var73|           Var125|            Var126|            Var119|           Var140|            Var163|            Var144|             Var78|             Var13|            Var109|             Var57|             Var85|              Var173|\n",
      "+-------+------------------+-------------------+------------------+-----------------+-----------------+------------------+------------------+------------------+----------------+------------------+-----------------+-----------------+------------------+-----------------+-----------------+-------------------+-----------------+-----------------+------------------+------------------+-----------------+-----------------+--------------------+------------------+------------------+------------------+-----------------+-----------------+-----------------+------------------+------------------+-----------------+------------------+------------------+------------------+------------------+------------------+------------------+------------------+--------------------+\n",
      "|  count|             44461|              50000|             44991|            44991|            44991|             44991|             44991|             44471|           44991|             44461|            44989|            42770|             44991|            44991|            44471|              44991|            44461|            44471|             44991|             50000|            44991|            44991|               44991|             44991|             44991|             44991|            42770|            50000|            44461|             36080|             44471|            44461|             44991|             44471|             44991|             44461|             42770|             50000|             44991|               44991|\n",
      "|   mean|14.868896336114798|-153278.60848674004| 66.22106643550933|6181967.170056233|437340.3848769754|2273571.9194950103|3.5246160343179747|103084.05269283189|60.1880376075215|103.65812734756304|224.5076691635697|4.507926116436755| 96.82700984641373|2579106.927518837|234.5182253603472|0.16683336667333468|6.809495962753874|1326.437116322997|20.023560267609078|          -0.85272|38.80300504545354|290.2453824098153|0.058011602320464095|0.7168100286724012| 0.611455624458225|1490153.8366339935|294920.8042553192|         66.64108|27887.62517712152|-0.553880266075388| 916.1121854691821|1381.259643282877|486077.95665799826|11.727665220031032|0.5347069413882777|1249.6884010706012| 60.88866027589432|3.5123114701969853| 8.461025538441021|0.006845813607165...|\n",
      "| stddev|10.134327331736102|  761365.3695940942|157.63591913155358|4348877.763364088| 604334.753868816| 2438572.485511682|  9.99476701529489|106270.93869067538|221.548840273776|  766.703355566123| 98.5191453387728|9.928702830121349|214.31590153937137|3010043.004255119|565.5537877935196| 1.6293259756923721|6.325981976755302|2685.663472104636| 88.12848255574919|0.5223682624356115|99.49604349450925|704.4821604398131|   0.643053676353341| 2.995973814257233|2.4956536011110058|1853672.8684453683|656886.9466036924|52.85864145467229|90127.36785162108| 22.53178295782185|2165.4088085123512|3990.465644888673| 848854.3752908827|11.720156701794112|2.1353354773088835| 2794.923441824558|141.24755079494338| 2.025861574298318|20.620255501550034| 0.13250153033152776|\n",
      "|    min|               9.0|         -9803600.0|               0.0|              0.0|              0.0|               0.0|               0.0|               0.0|             0.0|               0.0|           -66.88|              0.0|               0.0|              0.0|              0.0|                0.0|              0.0|              0.0|               0.0|              -1.0|              0.0|              0.0|                 0.0|               0.0|               0.0|               0.0|              0.0|              4.0|              0.0|             -32.0|               0.0|              0.0|               0.0|               0.0|               0.0|               0.0|               0.0|       2.136296E-4|               0.0|                 0.0|\n",
      "|    max|             180.0|          9932480.0|           10352.0|        1.39078E7|        5735340.0|         1.50099E7|             184.0|         1814403.0|         13086.0|          142156.0|          5158.56|            494.0|           13168.0|        1.88469E7|          36272.0|              135.0|            140.0|         131761.0|            6335.0|               1.0|           4862.0|          45340.0|                18.0|             110.0|              49.0|         1.93536E7|        1.69344E7|            264.0|        5436045.0|              68.0|          105060.0|         520545.0|         1.45152E7|              81.0|              39.0|          197872.0|            7456.0|               7.0|            1178.0|                 6.0|\n",
      "+-------+------------------+-------------------+------------------+-----------------+-----------------+------------------+------------------+------------------+----------------+------------------+-----------------+-----------------+------------------+-----------------+-----------------+-------------------+-----------------+-----------------+------------------+------------------+-----------------+-----------------+--------------------+------------------+------------------+------------------+-----------------+-----------------+-----------------+------------------+------------------+-----------------+------------------+------------------+------------------+------------------+------------------+------------------+------------------+--------------------+\n",
      "\n"
     ]
    }
   ],
   "source": [
    "summary = df_subset.describe()\n",
    "summary.show()"
   ]
  },
  {
   "cell_type": "code",
   "execution_count": 26,
   "metadata": {
    "collapsed": true
   },
   "outputs": [],
   "source": [
    "means_df = summary.toPandas().set_index('summary').loc['mean']"
   ]
  },
  {
   "cell_type": "code",
   "execution_count": 27,
   "metadata": {
    "collapsed": false
   },
   "outputs": [
    {
     "data": {
      "text/plain": [
       "Var65        14.868896336114798\n",
       "Var113      -153278.60848674004\n",
       "Var112        66.22106643550933\n",
       "Var153        6181967.170056233\n",
       "Var134        437340.3848769754\n",
       "Var133       2273571.9194950103\n",
       "Var132       3.5246160343179747\n",
       "Var81        103084.05269283189\n",
       "Var123         60.1880376075215\n",
       "Var74        103.65812734756304\n",
       "Var28         224.5076691635697\n",
       "Var24         4.507926116436755\n",
       "Var25         96.82700984641373\n",
       "Var38         2579106.927518837\n",
       "Var21         234.5182253603472\n",
       "Var44       0.16683336667333468\n",
       "Var7          6.809495962753874\n",
       "Var6          1326.437116322997\n",
       "Var83        20.023560267609078\n",
       "label                  -0.85272\n",
       "Var160        38.80300504545354\n",
       "Var22         290.2453824098153\n",
       "Var143     0.058011602320464095\n",
       "Var35        0.7168100286724012\n",
       "Var181        0.611455624458225\n",
       "Var76        1490153.8366339935\n",
       "Var149        294920.8042553192\n",
       "Var73                  66.64108\n",
       "Var125        27887.62517712152\n",
       "Var126       -0.553880266075388\n",
       "Var119        916.1121854691821\n",
       "Var140        1381.259643282877\n",
       "Var163       486077.95665799826\n",
       "Var144       11.727665220031032\n",
       "Var78        0.5347069413882777\n",
       "Var13        1249.6884010706012\n",
       "Var109        60.88866027589432\n",
       "Var57        3.5123114701969853\n",
       "Var85         8.461025538441021\n",
       "Var173    0.0068458136071658775\n",
       "Name: mean, dtype: object"
      ]
     },
     "execution_count": 27,
     "metadata": {},
     "output_type": "execute_result"
    }
   ],
   "source": [
    "means_df"
   ]
  },
  {
   "cell_type": "code",
   "execution_count": 28,
   "metadata": {
    "collapsed": true
   },
   "outputs": [],
   "source": [
    "imputed = df_subset.na.fill(dict(means_df.apply(float)))"
   ]
  },
  {
   "cell_type": "code",
   "execution_count": 29,
   "metadata": {
    "collapsed": false
   },
   "outputs": [
    {
     "data": {
      "text/plain": [
       "[Row(Var65=9.0, Var113=117625.6, Var112=168.0, Var153=1812252.0, Var134=69134.0, Var133=1212385.0, Var132=0.0, Var81=7333.11, Var123=6.0, Var74=35.0, Var28=166.56, Var24=14.0, Var25=128.0, Var38=3570.0, Var21=464.0, Var44=0.0, Var7=7.0, Var6=1526.0, Var83=5.0, label=-1.0, Var160=142.0, Var22=580.0, Var143=0.0, Var35=0.0, Var181=0.0, Var76=1350864.0, Var149=397579.0, Var73=36.0, Var125=720.0, Var126=8.0, Var119=1175.0, Var140=185.0, Var163=38418.0, Var144=9.0, Var78=0.0, Var13=184.0, Var109=104.0, Var57=4.076907, Var85=12.0, Var173=0.0),\n",
       " Row(Var65=9.0, Var113=-356411.6, Var112=40.0, Var153=10439160.0, Var134=357038.0, Var133=4136430.0, Var132=8.0, Var81=151098.9, Var123=72.0, Var74=0.0, Var28=353.52, Var24=2.0, Var25=24.0, Var38=4764966.0, Var21=168.0, Var44=0.0, Var7=0.0, Var6=525.0, Var83=25.0, label=-1.0, Var160=32.0, Var22=210.0, Var143=0.0, Var35=0.0, Var181=0.0, Var76=2872928.0, Var149=278334.0, Var73=26.0, Var125=0.0, Var126=-0.553880266075, Var119=590.0, Var140=0.0, Var163=238572.0, Var144=9.0, Var78=3.0, Var13=0.0, Var109=40.0, Var57=5.408032, Var85=2.0, Var173=0.0),\n",
       " Row(Var65=9.0, Var113=405104.0, Var112=336.0, Var153=9826360.0, Var134=248932.0, Var133=3478905.0, Var132=0.0, Var81=16211.58, Var123=114.0, Var74=518.0, Var28=220.08, Var24=26.0, Var25=816.0, Var38=5883894.0, Var21=1212.0, Var44=0.0, Var7=7.0, Var6=5236.0, Var83=40.0, label=-1.0, Var160=206.0, Var22=1515.0, Var143=0.0, Var35=0.0, Var181=0.0, Var76=1675776.0, Var149=320565.0, Var73=130.0, Var125=5967.0, Var126=-28.0, Var119=3230.0, Var140=800.0, Var163=434946.0, Var144=36.0, Var78=0.0, Var13=904.0, Var109=312.0, Var57=6.599658, Var85=58.0, Var173=0.0),\n",
       " Row(Var65=9.0, Var113=-275703.6, Var112=0.0, Var153=0.0, Var134=0.0, Var133=0.0, Var132=0.0, Var81=103084.052693, Var123=0.0, Var74=0.0, Var28=22.08, Var24=4.50792611644, Var25=0.0, Var38=0.0, Var21=234.51822536, Var44=0.0, Var7=0.0, Var6=1326.43711632, Var83=0.0, label=-1.0, Var160=0.0, Var22=0.0, Var143=0.0, Var35=0.0, Var181=0.0, Var76=0.0, Var149=294920.804255, Var73=12.0, Var125=0.0, Var126=-14.0, Var119=916.112185469, Var140=0.0, Var163=0.0, Var144=11.72766522, Var78=0.0, Var13=0.0, Var109=60.8886602759, Var57=1.98825, Var85=0.0, Var173=0.0),\n",
       " Row(Var65=18.0, Var113=10714.84, Var112=56.0, Var153=644836.0, Var134=66046.0, Var133=150650.0, Var132=0.0, Var81=37423.5, Var123=0.0, Var74=224.0, Var28=200.0, Var24=4.0, Var25=64.0, Var38=0.0, Var21=64.0, Var44=0.0, Var7=7.0, Var6=1029.0, Var83=0.0, label=-1.0, Var160=2.0, Var22=80.0, Var143=0.0, Var35=0.0, Var181=0.0, Var76=784448.0, Var149=267162.0, Var73=82.0, Var125=15111.0, Var126=58.0, Var119=215.0, Var140=3255.0, Var163=0.0, Var144=9.0, Var78=0.0, Var13=3216.0, Var109=32.0, Var57=4.552446, Var85=0.0, Var173=0.0)]"
      ]
     },
     "execution_count": 29,
     "metadata": {},
     "output_type": "execute_result"
    }
   ],
   "source": [
    "imputed.take(5)"
   ]
  },
  {
   "cell_type": "markdown",
   "metadata": {},
   "source": [
    "## Convert to MLlib Datatypes\n",
    "* MLlib: LabeledPoint\n",
    "* `spark.ml`: Dataframe"
   ]
  },
  {
   "cell_type": "code",
   "execution_count": 30,
   "metadata": {
    "collapsed": true
   },
   "outputs": [],
   "source": [
    "from pyspark.mllib.regression import LabeledPoint\n",
    "from pyspark.mllib.linalg import Vectors\n",
    "\n",
    "def create_points(row):\n",
    "    label = 0.0 if row.label == -1.0 else 1.0\n",
    "    \n",
    "    f_dict = row.asDict()\n",
    "    f_dict.pop('label')\n",
    "    \n",
    "    # make sure the features are in the same order for each data point\n",
    "    features = [ x[1] for x in sorted(f_dict.items())]\n",
    "    \n",
    "    return LabeledPoint(label, Vectors.dense(features))"
   ]
  },
  {
   "cell_type": "code",
   "execution_count": 31,
   "metadata": {
    "collapsed": true
   },
   "outputs": [],
   "source": [
    "feature_rdd = imputed.rdd.map(create_points)"
   ]
  },
  {
   "cell_type": "code",
   "execution_count": 32,
   "metadata": {
    "collapsed": false
   },
   "outputs": [
    {
     "data": {
      "text/plain": [
       "LabeledPoint(0.0, [104.0,168.0,117625.6,1175.0,6.0,720.0,8.0,184.0,0.0,1212385.0,69134.0,185.0,0.0,9.0,397579.0,1812252.0,142.0,38418.0,0.0,0.0,464.0,580.0,14.0,128.0,166.56,0.0,3570.0,0.0,4.076907,1526.0,9.0,7.0,36.0,35.0,1350864.0,0.0,7333.11,5.0,12.0])"
      ]
     },
     "execution_count": 32,
     "metadata": {},
     "output_type": "execute_result"
    }
   ],
   "source": [
    "feature_rdd.first()"
   ]
  },
  {
   "cell_type": "markdown",
   "metadata": {},
   "source": [
    "## Building a Model with MLlib\n",
    "\n",
    "* test/train split\n",
    "* preprocessing of features\n",
    "* training\n",
    "* evaluation"
   ]
  },
  {
   "cell_type": "code",
   "execution_count": 33,
   "metadata": {
    "collapsed": true
   },
   "outputs": [],
   "source": [
    "(train_set, test_set) = feature_rdd.randomSplit([0.8, 0.2])"
   ]
  },
  {
   "cell_type": "code",
   "execution_count": 34,
   "metadata": {
    "collapsed": true
   },
   "outputs": [],
   "source": [
    "from pyspark.mllib.classification import LogisticRegressionWithLBFGS, LogisticRegressionModel"
   ]
  },
  {
   "cell_type": "code",
   "execution_count": 35,
   "metadata": {
    "collapsed": false
   },
   "outputs": [],
   "source": [
    "lrmodel = LogisticRegressionWithLBFGS.train(train_set)"
   ]
  },
  {
   "cell_type": "code",
   "execution_count": 36,
   "metadata": {
    "collapsed": false
   },
   "outputs": [
    {
     "data": {
      "text/plain": [
       "pyspark.mllib.classification.LogisticRegressionModel"
      ]
     },
     "execution_count": 36,
     "metadata": {},
     "output_type": "execute_result"
    }
   ],
   "source": [
    "type(lrmodel)"
   ]
  },
  {
   "cell_type": "code",
   "execution_count": 37,
   "metadata": {
    "collapsed": true
   },
   "outputs": [],
   "source": [
    "predictions = lrmodel.predict(test_set.map(lambda x: x.features))"
   ]
  },
  {
   "cell_type": "code",
   "execution_count": 38,
   "metadata": {
    "collapsed": true
   },
   "outputs": [],
   "source": [
    "scores_and_labels = predictions.zip(test_set.map(lambda x: x.label))"
   ]
  },
  {
   "cell_type": "code",
   "execution_count": 39,
   "metadata": {
    "collapsed": false
   },
   "outputs": [],
   "source": [
    "test_err = scores_and_labels.filter(lambda (p, v): v != p).count() / float(test_set.count())"
   ]
  },
  {
   "cell_type": "code",
   "execution_count": 40,
   "metadata": {
    "collapsed": false
   },
   "outputs": [
    {
     "name": "stdout",
     "output_type": "stream",
     "text": [
      "Test Error = 0.0745881178233\n",
      "Accuracy: 92.5411882177\n"
     ]
    }
   ],
   "source": [
    "print 'Test Error = ' + str(test_err)\n",
    "print \"Accuracy: \" + str((1.0 - test_err) * 100)"
   ]
  },
  {
   "cell_type": "code",
   "execution_count": 41,
   "metadata": {
    "collapsed": false
   },
   "outputs": [
    {
     "data": {
      "text/plain": [
       "[(0.0, 37046), (1.0, 2939)]"
      ]
     },
     "execution_count": 41,
     "metadata": {},
     "output_type": "execute_result"
    }
   ],
   "source": [
    "train_set.groupBy(lambda x: x.label).mapValues(lambda x: len(x)).collect()"
   ]
  },
  {
   "cell_type": "markdown",
   "metadata": {},
   "source": [
    "## Model Evaluation"
   ]
  },
  {
   "cell_type": "code",
   "execution_count": 43,
   "metadata": {
    "collapsed": false
   },
   "outputs": [
    {
     "name": "stdout",
     "output_type": "stream",
     "text": [
      "Populating the interactive namespace from numpy and matplotlib\n"
     ]
    }
   ],
   "source": [
    "from sklearn.metrics import classification_report\n",
    "from sklearn.metrics import confusion_matrix\n",
    "import matplotlib.pyplot as plt\n",
    "\n",
    "%pylab inline"
   ]
  },
  {
   "cell_type": "code",
   "execution_count": 44,
   "metadata": {
    "collapsed": false
   },
   "outputs": [
    {
     "data": {
      "text/plain": [
       "(weights=[-0.000479397655796,0.000399074234784,4.99389098643e-07,-2.86412546031e-05,-2.69800714641e-05,7.98515568969e-08,-0.0337456298086,1.07681269002e-05,-0.00565830469141,-1.57380561114e-08,-1.06271428751e-07,8.13290343021e-06,0.0542771863569,-0.0123220870458,-3.4698327917e-08,-1.74458283297e-08,-0.000635238721591,6.96535469161e-09,-0.0952872804215,-0.00650911857658,-0.000145868670743,-7.1416926083e-07,-0.00466002766689,0.000347241792612,-0.00754859457252,-0.00281180599995,-1.99145220505e-08,-0.00362156477351,-0.0761505996303,2.16195507459e-05,-0.0106568477493,0.0098020087004,-8.89078789136e-05,-1.1175220335e-06,4.71888429545e-10,-0.0409540793706,-2.31991887313e-06,-0.000266608402393,0.00279177366986], intercept=0.0)"
      ]
     },
     "execution_count": 44,
     "metadata": {},
     "output_type": "execute_result"
    }
   ],
   "source": [
    "lrmodel"
   ]
  },
  {
   "cell_type": "code",
   "execution_count": 45,
   "metadata": {
    "collapsed": false
   },
   "outputs": [
    {
     "data": {
      "text/plain": [
       "DenseVector([-0.0005, 0.0004, 0.0, -0.0, -0.0, 0.0, -0.0337, 0.0, -0.0057, -0.0, -0.0, 0.0, 0.0543, -0.0123, -0.0, -0.0, -0.0006, 0.0, -0.0953, -0.0065, -0.0001, -0.0, -0.0047, 0.0003, -0.0075, -0.0028, -0.0, -0.0036, -0.0762, 0.0, -0.0107, 0.0098, -0.0001, -0.0, 0.0, -0.041, -0.0, -0.0003, 0.0028])"
      ]
     },
     "execution_count": 45,
     "metadata": {},
     "output_type": "execute_result"
    }
   ],
   "source": [
    "lrmodel.weights"
   ]
  },
  {
   "cell_type": "code",
   "execution_count": 46,
   "metadata": {
    "collapsed": false
   },
   "outputs": [
    {
     "data": {
      "text/plain": [
       "0.5"
      ]
     },
     "execution_count": 46,
     "metadata": {},
     "output_type": "execute_result"
    }
   ],
   "source": [
    "lrmodel.threshold"
   ]
  },
  {
   "cell_type": "code",
   "execution_count": 47,
   "metadata": {
    "collapsed": true
   },
   "outputs": [],
   "source": [
    "lrmodel.clearThreshold()"
   ]
  },
  {
   "cell_type": "code",
   "execution_count": 48,
   "metadata": {
    "collapsed": true
   },
   "outputs": [],
   "source": [
    "lrmodel.threshold"
   ]
  },
  {
   "cell_type": "code",
   "execution_count": 49,
   "metadata": {
    "collapsed": false
   },
   "outputs": [
    {
     "data": {
      "text/plain": [
       "[0.15691472860404065,\n",
       " 0.03916967319347436,\n",
       " 0.12645984914449013,\n",
       " 0.13189545650891182,\n",
       " 0.060977489884601915,\n",
       " 0.060121983091071744,\n",
       " 0.10276228036358818,\n",
       " 0.16874948827929792,\n",
       " 0.025689068833737415,\n",
       " 0.05423184349433704,\n",
       " 0.034483958261412866,\n",
       " 0.08964866349210687,\n",
       " 0.005315699223820953,\n",
       " 0.11786473023995553,\n",
       " 0.05271085148513246,\n",
       " 0.04599780012505812,\n",
       " 0.015982008936262584,\n",
       " 0.06473904691158046,\n",
       " 0.02206672068162936,\n",
       " 0.04455319279979684,\n",
       " 0.16982855859861573,\n",
       " 0.08827058994715646,\n",
       " 0.13962048834234253,\n",
       " 0.04550148132602853,\n",
       " 0.06403785427608558,\n",
       " 0.1796060744195847,\n",
       " 0.06518829715652397,\n",
       " 0.04430918542505599,\n",
       " 0.015533121801302292,\n",
       " 0.08202823486606443,\n",
       " 0.049644991978038816,\n",
       " 0.028689083441348406,\n",
       " 0.07118376487975388,\n",
       " 0.08917152993395673,\n",
       " 0.03848191278174929,\n",
       " 0.03097588898501419,\n",
       " 0.0432153641502076,\n",
       " 0.043755372614551404,\n",
       " 0.07019074877896993,\n",
       " 0.04934885976422694,\n",
       " 0.08407338538315155,\n",
       " 0.03527254940494444,\n",
       " 0.011306757745346946,\n",
       " 0.049899602313629825,\n",
       " 0.17499583477692987,\n",
       " 0.01904204446514386,\n",
       " 0.09030383418074663,\n",
       " 0.1357823986075018,\n",
       " 0.2828166652569383,\n",
       " 0.021059279271330663,\n",
       " 0.10496972568253532,\n",
       " 0.029245678664912268,\n",
       " 0.036585850223397345,\n",
       " 0.19471924817820918,\n",
       " 0.17230463852522926,\n",
       " 0.02819978114592123,\n",
       " 0.0862946684879995,\n",
       " 0.05715463806894919,\n",
       " 0.061297334197511225,\n",
       " 0.0723707028671971,\n",
       " 0.06053624706132794,\n",
       " 0.09435040626268454,\n",
       " 0.1293886950354864,\n",
       " 0.04307198304825465,\n",
       " 0.05856239213476681,\n",
       " 0.09762789832348939,\n",
       " 0.06291516530315831,\n",
       " 0.13425585564074566,\n",
       " 0.2263387582205001,\n",
       " 0.04585259463720407,\n",
       " 0.11866579152755306,\n",
       " 0.07147841309035347,\n",
       " 0.2046806549189369,\n",
       " 0.06620353631207371,\n",
       " 0.027030409219079444,\n",
       " 0.05406162963159537,\n",
       " 0.01574722441103308,\n",
       " 0.07505885475655218,\n",
       " 0.20254739902935717,\n",
       " 0.06911605305287177,\n",
       " 0.022243193559568688,\n",
       " 0.008080578435891382,\n",
       " 0.022811657954920645,\n",
       " 0.1861724721554798,\n",
       " 0.02221975812286878,\n",
       " 0.05426304087506249,\n",
       " 0.1890744573832673,\n",
       " 0.04349528869287824,\n",
       " 0.037499822542112,\n",
       " 0.03892567497991547,\n",
       " 0.07394032293394243,\n",
       " 0.034402237978157044,\n",
       " 0.12969779593478534,\n",
       " 0.04295474928929402,\n",
       " 0.19042157166856538,\n",
       " 0.1301950254493455,\n",
       " 0.033093167073307415,\n",
       " 0.04629974759570753,\n",
       " 0.06553053017461116,\n",
       " 0.0977983293277511,\n",
       " 0.05129312305762443,\n",
       " 0.08212631212289641,\n",
       " 0.04297017111380111,\n",
       " 0.11000506729106413,\n",
       " 0.08053231166162936,\n",
       " 0.03624074600727399,\n",
       " 0.17619526037541625,\n",
       " 0.04202482318553947,\n",
       " 0.014651076876110475,\n",
       " 0.20855494494491514,\n",
       " 0.05835585338263033,\n",
       " 0.03173678492474015,\n",
       " 0.03042004001446767,\n",
       " 0.03245194888846736,\n",
       " 0.04926025952785771,\n",
       " 0.043492005011235194,\n",
       " 0.08372825672047937,\n",
       " 0.05893566083893403,\n",
       " 0.04556157950866329,\n",
       " 0.06947045605096541,\n",
       " 0.07498685264040152,\n",
       " 0.01726374721502063,\n",
       " 0.01187058077987762,\n",
       " 0.12555486167338614,\n",
       " 0.04648392070243044,\n",
       " 0.006663154661247944,\n",
       " 0.10865333355388228,\n",
       " 0.04220535773008645,\n",
       " 0.10799622692589331,\n",
       " 0.1545987457470559,\n",
       " 0.16371520857148905,\n",
       " 0.05011598793485229,\n",
       " 0.1808082185210171,\n",
       " 0.04152380061833106,\n",
       " 0.04438848780060322,\n",
       " 0.11069950022381228,\n",
       " 0.06348867898746782,\n",
       " 0.033534634241428024,\n",
       " 0.09308823898775649,\n",
       " 0.06445567668101679,\n",
       " 0.1043879745352822,\n",
       " 0.024767347351779243,\n",
       " 0.2275716886293812,\n",
       " 0.0479584201585026,\n",
       " 0.04750131068685899,\n",
       " 0.1958434407978268,\n",
       " 0.07785824101610918,\n",
       " 0.0389029874555159,\n",
       " 0.09714665588251134,\n",
       " 0.21409549038341077,\n",
       " 0.006243334430864928,\n",
       " 0.026290205209306267,\n",
       " 0.08099901537600532,\n",
       " 0.07107100735247197,\n",
       " 0.033353417172721216,\n",
       " 0.10627190842844862,\n",
       " 0.06518948340643084,\n",
       " 0.10072496602012644,\n",
       " 0.06476705275509041,\n",
       " 0.09274027547569637,\n",
       " 0.048373379351741304,\n",
       " 0.15390838473105586,\n",
       " 0.04258383336061583,\n",
       " 0.07482926879939603,\n",
       " 0.0915034538131497,\n",
       " 0.06410350016043359,\n",
       " 0.09240638030726801,\n",
       " 0.02056432218388684,\n",
       " 0.04293745677994912,\n",
       " 0.031738483731935635,\n",
       " 0.15847616107262047,\n",
       " 0.04807159700649469,\n",
       " 0.024766994285296218,\n",
       " 0.05743751986676308,\n",
       " 0.18500303672530452,\n",
       " 0.05058051493656147,\n",
       " 0.23128576035227938,\n",
       " 0.049673171323474846,\n",
       " 0.08457335582002762,\n",
       " 0.03977500384346251,\n",
       " 0.016232781025360143,\n",
       " 0.08541194340784491,\n",
       " 0.17100632173310185,\n",
       " 0.12663444625086914,\n",
       " 0.10891223154277703,\n",
       " 0.29357671722818984,\n",
       " 0.07051762916327553,\n",
       " 0.14667065177777358,\n",
       " 0.06026969967542609,\n",
       " 0.02035465520499579,\n",
       " 0.04337711245407038,\n",
       " 0.06389410171276139,\n",
       " 0.05074584981723847,\n",
       " 0.05447645266820489,\n",
       " 0.009895881061630942,\n",
       " 0.06042196638301497,\n",
       " 0.287894814053444,\n",
       " 0.056939228825120654,\n",
       " 0.05820069317571848,\n",
       " 0.21754693108308412,\n",
       " 0.08699275848913014,\n",
       " 0.0768951880073521,\n",
       " 0.10483749178718132,\n",
       " 0.008122033740395005,\n",
       " 0.05838127823606844,\n",
       " 0.11383885685121793,\n",
       " 0.057428200731823774,\n",
       " 0.044394108410736766,\n",
       " 0.09351847051595825,\n",
       " 0.13400509773305036,\n",
       " 0.01777623352278183,\n",
       " 0.05205552894238265,\n",
       " 0.03521037483923687,\n",
       " 0.088546697619783,\n",
       " 0.051853737070668565,\n",
       " 0.12470281171512598,\n",
       " 0.04306729724273538,\n",
       " 0.04540870465978146,\n",
       " 0.10845227430533608,\n",
       " 0.09118117057053494,\n",
       " 0.08473168225931177,\n",
       " 0.04088287905607556,\n",
       " 0.120264260150138,\n",
       " 0.08950899753938409,\n",
       " 0.07235849139560807,\n",
       " 0.0690018377373258,\n",
       " 0.0628228442214642,\n",
       " 0.1128633360365946,\n",
       " 0.13161709284201875,\n",
       " 0.07226029595186292,\n",
       " 0.08620713448995655,\n",
       " 0.021823825206569114,\n",
       " 0.06884402805554064,\n",
       " 0.023796937279274434,\n",
       " 0.06684704664608201,\n",
       " 0.12313831910353676,\n",
       " 0.031987640128708236,\n",
       " 0.07696298367951768,\n",
       " 0.10456042770414185,\n",
       " 0.2779543780481287,\n",
       " 0.017269759438984834,\n",
       " 0.028302775633567638,\n",
       " 0.06613113018960046,\n",
       " 0.06929956363084765,\n",
       " 0.1041097514708488,\n",
       " 0.15134095367097058,\n",
       " 0.014600626737100176,\n",
       " 0.03188902902781175,\n",
       " 0.26853498686301686,\n",
       " 0.09549554131176945,\n",
       " 0.08170749524515862,\n",
       " 0.057685895155312264,\n",
       " 0.028630677648654543,\n",
       " 0.031772543512092466,\n",
       " 0.09934021836189261,\n",
       " 0.11690714844044654,\n",
       " 0.1854590269042015,\n",
       " 0.08484332682221615,\n",
       " 0.08233310921950142,\n",
       " 0.035192372150410094,\n",
       " 0.10102568691680272,\n",
       " 0.12153402102207737,\n",
       " 0.04253367222147983,\n",
       " 0.08961875898206939,\n",
       " 0.30190085891990387,\n",
       " 0.29471987078491796,\n",
       " 0.1137165625939982,\n",
       " 0.11722781477266225,\n",
       " 0.16628897504855478,\n",
       " 0.06493704247820428,\n",
       " 0.040774962637556283,\n",
       " 0.03581909012970329,\n",
       " 0.029660343129765735,\n",
       " 0.0677504251843617,\n",
       " 0.09543969710519543,\n",
       " 0.01990644773124205,\n",
       " 0.06279837649003485,\n",
       " 0.02130211339419116,\n",
       " 0.09119155451485246,\n",
       " 0.04474072787858424,\n",
       " 0.010770180410988844,\n",
       " 0.0410187057495244,\n",
       " 0.08087898894846797,\n",
       " 0.15350282855170144,\n",
       " 0.09628367856186888,\n",
       " 0.06972115973391113,\n",
       " 0.1502517008349987,\n",
       " 0.13869184378941113,\n",
       " 0.15293469611633834,\n",
       " 0.3071659994894381,\n",
       " 0.1121288366195099,\n",
       " 0.015636468015197514,\n",
       " 0.0943950607311885,\n",
       " 0.20364287369820064,\n",
       " 0.10620103047988036,\n",
       " 0.06915402552419556,\n",
       " 0.06067143474247782,\n",
       " 0.08509964135254647,\n",
       " 0.06775934260273112,\n",
       " 0.0555961326221399,\n",
       " 0.1488879477139115,\n",
       " 0.05139689286232918,\n",
       " 0.03170906281117459,\n",
       " 0.06321219410453911,\n",
       " 0.03168394015967408,\n",
       " 0.08450214524452639,\n",
       " 0.09599048501973652,\n",
       " 0.08771121542858602,\n",
       " 0.04133572680875626,\n",
       " 0.07179072835758986,\n",
       " 0.09833666975384514,\n",
       " 0.05724307106167748,\n",
       " 0.06210272703538977,\n",
       " 0.06881846321211474,\n",
       " 0.10405967022605314,\n",
       " 0.10516854173185053,\n",
       " 0.09876880190966329,\n",
       " 0.034967971533504436,\n",
       " 0.06835518031793278,\n",
       " 0.011901458449103843,\n",
       " 0.11512635512257638,\n",
       " 0.07170403343517943,\n",
       " 0.010129310683423768,\n",
       " 0.10653809422291236,\n",
       " 0.12973061928613008,\n",
       " 0.194933321668601,\n",
       " 0.04948879902447847,\n",
       " 0.07839612506866339,\n",
       " 0.08973339157868325,\n",
       " 0.040607274695267814,\n",
       " 0.036679933711703756,\n",
       " 0.046290253760767175,\n",
       " 0.009148863195565304,\n",
       " 0.09838915818073214,\n",
       " 0.010973095716370871,\n",
       " 0.07848597834085731,\n",
       " 0.07056491745032403,\n",
       " 0.31652240719012315,\n",
       " 0.03932870091719269,\n",
       " 0.0070214862137995,\n",
       " 0.003596557049193565,\n",
       " 0.05082646727477258,\n",
       " 0.06504978565029702,\n",
       " 0.2260287629642422,\n",
       " 0.028243522049813074,\n",
       " 0.03651663608333244,\n",
       " 0.12283642189310728,\n",
       " 0.12406617351612363,\n",
       " 0.0819516484355977,\n",
       " 0.033561596663831315,\n",
       " 0.030400415168463195,\n",
       " 0.15040901151261887,\n",
       " 0.03083474856808949,\n",
       " 0.0014632594932758656,\n",
       " 0.05501183825908817,\n",
       " 0.10975413297630515,\n",
       " 0.16246677184656674,\n",
       " 0.0005019207555794496,\n",
       " 0.0691731004759906,\n",
       " 0.126141841109324,\n",
       " 0.0907393635783262,\n",
       " 0.08348525912242677,\n",
       " 0.25113788903653245,\n",
       " 0.01909894866811137,\n",
       " 0.06003732516585594,\n",
       " 0.07121319732660908,\n",
       " 0.046231930840709604,\n",
       " 0.0256222988246124,\n",
       " 0.02250290229076519,\n",
       " 0.06503882323514473,\n",
       " 0.2956832862742941,\n",
       " 0.005865717166303248,\n",
       " 0.14851741009665978,\n",
       " 0.10131202686106133,\n",
       " 0.06762728987360427,\n",
       " 0.1801561587846263,\n",
       " 0.17820078644138698,\n",
       " 0.04511584231312472,\n",
       " 0.07295074934137727,\n",
       " 0.029414629847590246,\n",
       " 0.00830532910648359,\n",
       " 0.047831978727361765,\n",
       " 0.09218877934261761,\n",
       " 0.08368140475766636,\n",
       " 0.030159186930164582,\n",
       " 0.03909876047311963,\n",
       " 0.005762158485667841,\n",
       " 0.027865178388130768,\n",
       " 0.18131757221782274,\n",
       " 0.018110730695613985,\n",
       " 0.07355277382654778,\n",
       " 0.16587926099478376,\n",
       " 0.058144328522256025,\n",
       " 0.09186775935569991,\n",
       " 0.04085781385318938,\n",
       " 0.013647022495201116,\n",
       " 0.12316725504748482,\n",
       " 0.04264941654660673,\n",
       " 0.060084065853668274,\n",
       " 0.13577796216709448,\n",
       " 0.028996855263708023,\n",
       " 0.04203578298919558,\n",
       " 0.05917350289851524,\n",
       " 0.08753020074578004,\n",
       " 0.10469069301116805,\n",
       " 0.07095685407989086,\n",
       " 0.07503346292989078,\n",
       " 0.03497229343638065,\n",
       " 0.03368963037147885,\n",
       " 0.0623555219905842,\n",
       " 0.02812969565607843,\n",
       " 0.0970131828320418,\n",
       " 0.051073075558905556,\n",
       " 0.028034050152195962,\n",
       " 0.08711476971503898,\n",
       " 0.30706003938412896,\n",
       " 0.03828514563965345,\n",
       " 0.040875335193931765,\n",
       " 0.11825771178607039,\n",
       " 0.13248689040540665,\n",
       " 0.12971454074366345,\n",
       " 0.2633127715646593,\n",
       " 0.12983560258780819,\n",
       " 0.15071482873682407,\n",
       " 0.17110844708446332,\n",
       " 0.11627642958761493,\n",
       " 0.08876802097070367,\n",
       " 0.03226066255638258,\n",
       " 0.15938879916468374,\n",
       " 0.09790133407474431,\n",
       " 0.08038518003810825,\n",
       " 0.09455348535312004,\n",
       " 0.06067256523353933,\n",
       " 0.05893146905417707,\n",
       " 0.015506483633879778,\n",
       " 0.06903932388235717,\n",
       " 0.18705380763753984,\n",
       " 0.31829141899050334,\n",
       " 0.12046545176763258,\n",
       " 0.07028710479840833,\n",
       " 0.06683373507205245,\n",
       " 0.08833546084411234,\n",
       " 0.10320529691072412,\n",
       " 0.04795143806170869,\n",
       " 0.05419128217218837,\n",
       " 0.1711515667668803,\n",
       " 0.031686999772687865,\n",
       " 0.10754217471782684,\n",
       " 0.03896917210149729,\n",
       " 0.04233410943113916,\n",
       " 0.026680888847846636,\n",
       " 0.0754415743983266,\n",
       " 0.017355633559919117,\n",
       " 0.04749869225185708,\n",
       " 0.1698318155933159,\n",
       " 0.02976888548288374,\n",
       " 0.015192249329953481,\n",
       " 0.054519479134802276,\n",
       " 0.013064524815857011,\n",
       " 0.07248810775911346,\n",
       " 0.06975244178342288,\n",
       " 0.12155075116028044,\n",
       " 0.12702261633438286,\n",
       " 0.016169474919919588,\n",
       " 0.12139645894798858,\n",
       " 0.03252941963851842,\n",
       " 0.05478745250850288,\n",
       " 0.0536095596247715,\n",
       " 0.1678594232639836,\n",
       " 0.06782820006741715,\n",
       " 0.039486106505693556,\n",
       " 0.02036179508913863,\n",
       " 0.013588497498298496,\n",
       " 0.03063119653720808,\n",
       " 0.043955504361120626,\n",
       " 0.06310375422347915,\n",
       " 0.022436584486161964,\n",
       " 0.029941695175377665,\n",
       " 0.13270651852956902,\n",
       " 0.06801264721001277,\n",
       " 0.023927400044765176,\n",
       " 0.3330350545891062,\n",
       " 0.027090622906731778,\n",
       " 0.08602115245982717,\n",
       " 0.11889302920060431,\n",
       " 0.04562360352276467,\n",
       " 0.07293312695673736,\n",
       " 0.012709334406579651,\n",
       " 0.13921751374191643,\n",
       " 0.10824417273144037,\n",
       " 0.06696304364437668,\n",
       " 0.05526662953787829,\n",
       " 0.045786342630293714,\n",
       " 0.07276880725931004,\n",
       " 0.03878952845610923,\n",
       " 0.08625900773664051,\n",
       " 0.07685822900578625,\n",
       " 0.16556988637717093,\n",
       " 0.21748834694953023,\n",
       " 0.08232145518419288,\n",
       " 0.02431969773407752,\n",
       " 0.09977883315811918,\n",
       " 0.04159654508001972,\n",
       " 0.09732774518958871,\n",
       " 0.06544276706960057,\n",
       " 0.054428232875168514,\n",
       " 0.03757456097042238,\n",
       " 0.17656752146028318,\n",
       " 0.02350303711318159,\n",
       " 0.04814104075891301,\n",
       " 0.04316992446423295,\n",
       " 0.03687212116317217,\n",
       " 0.3420627488717367,\n",
       " 0.0928783173953011,\n",
       " 0.08226191969979886,\n",
       " 0.106112530716498,\n",
       " 0.07495946984318366,\n",
       " 0.037581926268811544,\n",
       " 0.03940665988129626,\n",
       " 0.05177110610486601,\n",
       " 0.034367982470281055,\n",
       " 0.06352525725212693,\n",
       " 0.0748296145119116,\n",
       " 0.07191330228069108,\n",
       " 0.05999106400474714,\n",
       " 0.011638320010707718,\n",
       " 0.047306709132856846,\n",
       " 0.05289204233066576,\n",
       " 0.11327766153243163,\n",
       " 0.06739297734196936,\n",
       " 0.08231680618479187,\n",
       " 0.049475588633063866,\n",
       " 0.027366522373363227,\n",
       " 0.06645356406254325,\n",
       " 0.05905695679444953,\n",
       " 0.08333591238812683,\n",
       " 0.18580817619218112,\n",
       " 0.04035185564912839,\n",
       " 0.11621962699696058,\n",
       " 0.07899971386585435,\n",
       " 0.07351988394767754,\n",
       " 0.11950616920970872,\n",
       " 0.012571584070756052,\n",
       " 0.07321740726614874,\n",
       " 0.21247368741647474,\n",
       " 0.037651660350515904,\n",
       " 0.13308836251982828,\n",
       " 0.07965520292489503,\n",
       " 0.05616922969952381,\n",
       " 0.05144739652376229,\n",
       " 0.036395699852862465,\n",
       " 0.028084838707560032,\n",
       " 0.018903306437350102,\n",
       " 0.19623622229466864,\n",
       " 0.036421024082456455,\n",
       " 0.059075233174150685,\n",
       " 0.07253236671025479,\n",
       " 0.07567294781291226,\n",
       " 0.016446320904913003,\n",
       " 0.17673404526902878,\n",
       " 0.06119750657977314,\n",
       " 0.04407879529358297,\n",
       " 0.06001800631160192,\n",
       " 0.09423748280834823,\n",
       " 0.08240475349346413,\n",
       " 0.1269848990959256,\n",
       " 0.011862473904989623,\n",
       " 0.00882493828987813,\n",
       " 0.05695437755851861,\n",
       " 0.12985968216656063,\n",
       " 0.07287461118852208,\n",
       " 0.008157538347539805,\n",
       " 0.018272738266384914,\n",
       " 0.036303829323691424,\n",
       " 0.12759922862964393,\n",
       " 0.05693973824090069,\n",
       " 0.01551015361572832,\n",
       " 0.1019608350199133,\n",
       " 0.08902432470632243,\n",
       " 0.012739875253955134,\n",
       " 0.021841449774727798,\n",
       " 0.08662453625545438,\n",
       " 0.10666516012553091,\n",
       " 0.027919043756025965,\n",
       " 0.015244654195986302,\n",
       " 0.02225341393976214,\n",
       " 0.12050298670872922,\n",
       " 0.03534349379630806,\n",
       " 0.11261975368238371,\n",
       " 0.03453048629930475,\n",
       " 0.04882164570972223,\n",
       " 0.05221980159417952,\n",
       " 0.4256227586261269,\n",
       " 0.2130926461401291,\n",
       " 0.08147809809458952,\n",
       " 0.008634810196667566,\n",
       " 0.04371773365439633,\n",
       " 0.03994012251847545,\n",
       " 0.07858252859552259,\n",
       " 0.10957223240468772,\n",
       " 0.12781727496685133,\n",
       " 0.21614337791353652,\n",
       " 0.108517599562753,\n",
       " 0.015250338685119613,\n",
       " 0.17221806280060478,\n",
       " 0.03569065884157826,\n",
       " 0.06903011165930278,\n",
       " 0.04378908719966908,\n",
       " 0.20658424545024337,\n",
       " 0.031311167757880974,\n",
       " 0.08178767022581881,\n",
       " 0.0009348019960274357,\n",
       " 0.10390983117027684,\n",
       " 0.10042921026731227,\n",
       " 0.07105523763024546,\n",
       " 0.003749973942945031,\n",
       " 0.11226367685109818,\n",
       " 0.02231847050588567,\n",
       " 0.07668586064561583,\n",
       " 0.007455032433118636,\n",
       " 0.15768757284850987,\n",
       " 0.058257530734576825,\n",
       " 0.06861645163052818,\n",
       " 0.013540333376499505,\n",
       " 0.07179590439556705,\n",
       " 0.09177962718842186,\n",
       " 0.13404023496621217,\n",
       " 0.10121811272639315,\n",
       " 0.2410023319636286,\n",
       " 0.02460891281861383,\n",
       " 0.20677751506236317,\n",
       " 0.0015460298078848634,\n",
       " 0.12038534470946609,\n",
       " 0.24817817121209157,\n",
       " 0.026720413704168056,\n",
       " 0.07459606859041285,\n",
       " 0.10027062472715614,\n",
       " 0.06430085779771412,\n",
       " 0.24715688694014504,\n",
       " 0.013928949015659529,\n",
       " 0.08352312765134061,\n",
       " 0.14386839976487456,\n",
       " 0.07941971386340523,\n",
       " 0.017972754200322485,\n",
       " 0.07598614954930871,\n",
       " 0.040350609435425844,\n",
       " 0.18482991621030478,\n",
       " 0.03372534130626159,\n",
       " 0.0282874189819626,\n",
       " 0.13864294150049883,\n",
       " 0.03887338037035184,\n",
       " 0.061372188630423236,\n",
       " 0.18719703858209968,\n",
       " 0.0064924937615534065,\n",
       " 0.0717601021132625,\n",
       " 0.003652630916929729,\n",
       " 0.04332047208681292,\n",
       " 0.04875080543802238,\n",
       " 0.03651042689957218,\n",
       " 0.02592345846086876,\n",
       " 0.08708242182875912,\n",
       " 0.033915520590453406,\n",
       " 0.09611172476748733,\n",
       " 0.03723967299541475,\n",
       " 0.03449078139605107,\n",
       " 0.7546131854231137,\n",
       " 0.1599471562800539,\n",
       " 0.05210436275872244,\n",
       " 0.07622664831098043,\n",
       " 0.15660816135964356,\n",
       " 0.0961711336227453,\n",
       " 0.023410986645570477,\n",
       " 0.10868044816345346,\n",
       " 0.08242096366578233,\n",
       " 0.12361757936008363,\n",
       " 0.015206000621513246,\n",
       " 0.046895062013617005,\n",
       " 0.09063913561349783,\n",
       " 0.04832506751589449,\n",
       " 0.04155108107670252,\n",
       " 0.006370642607517951,\n",
       " 0.03722627242875798,\n",
       " 0.062039188321037164,\n",
       " 0.10767671945921221,\n",
       " 0.4272507545414891,\n",
       " 0.026298593587754694,\n",
       " 0.11142329019803926,\n",
       " 0.24314175218980766,\n",
       " 0.0743393835471503,\n",
       " 0.04326724813198231,\n",
       " 0.016315034932052754,\n",
       " 0.11153663753930843,\n",
       " 0.24643581986797758,\n",
       " 0.297726601040986,\n",
       " 0.019065450131023523,\n",
       " 0.033058019687821336,\n",
       " 0.10238411367707068,\n",
       " 0.12427999083826857,\n",
       " 0.04483852771451582,\n",
       " 0.11559167876976133,\n",
       " 0.08547687278326459,\n",
       " 0.2625745605161378,\n",
       " 0.0400245055377602,\n",
       " 0.020020998282887104,\n",
       " 0.012080866431923677,\n",
       " 0.02641373018530658,\n",
       " 0.0767028417172142,\n",
       " 0.011312317517774274,\n",
       " 0.026374371545971765,\n",
       " 0.07198469262646295,\n",
       " 0.0010021304942599667,\n",
       " 0.07701348009972152,\n",
       " 0.13027359126257754,\n",
       " 0.02746241915645003,\n",
       " 0.03219605051810703,\n",
       " 0.29950547965788643,\n",
       " 0.027047629576614666,\n",
       " 0.20114726648138648,\n",
       " 0.08327873306614246,\n",
       " 0.106460767626096,\n",
       " 0.24707696062933862,\n",
       " 0.10034867385967085,\n",
       " 0.005202914758745562,\n",
       " 0.07145894408184221,\n",
       " 0.1681208899035746,\n",
       " 0.07167302488192669,\n",
       " 0.1890040231989937,\n",
       " 0.13222216854465413,\n",
       " 0.023221309050440647,\n",
       " 0.023517089182659465,\n",
       " 0.1522357184961291,\n",
       " 0.046452238384773914,\n",
       " 0.11175744778453425,\n",
       " 0.11287762161090084,\n",
       " 0.019789944738278196,\n",
       " 0.06681197497142688,\n",
       " 0.048608243453944294,\n",
       " 0.024577583547998706,\n",
       " 0.03246603384165713,\n",
       " 0.0908124757752357,\n",
       " 0.07324774587857848,\n",
       " 0.07781421816233795,\n",
       " 0.04201637036977971,\n",
       " 0.025008818003159017,\n",
       " 0.03933236091338824,\n",
       " 0.008397824454748558,\n",
       " 0.0046880425762977,\n",
       " 0.0427803262342833,\n",
       " 0.08628010068695954,\n",
       " 0.21852829540318164,\n",
       " 0.12569051774242593,\n",
       " 0.041778940397278155,\n",
       " 0.049860455496914445,\n",
       " 0.11073521758064198,\n",
       " 0.08599845699895416,\n",
       " 0.06411927611500108,\n",
       " 0.01274750930911979,\n",
       " 0.04299886317304709,\n",
       " 0.06294951637855267,\n",
       " 0.02182398860617004,\n",
       " 0.06368562804214273,\n",
       " 0.0243975825960476,\n",
       " 0.04136175517904691,\n",
       " 0.051941318822429486,\n",
       " 0.05294125984261182,\n",
       " 0.021066279311544103,\n",
       " 0.024697666719683646,\n",
       " 0.08448723729683877,\n",
       " 0.0329300724944451,\n",
       " 0.09856723119756781,\n",
       " 0.0565595563694067,\n",
       " 0.03754911453606672,\n",
       " 0.03897187451200275,\n",
       " 0.2341698187336097,\n",
       " 0.12851894460930813,\n",
       " 0.07899268053384215,\n",
       " 0.0413366027480717,\n",
       " 0.032613181285727384,\n",
       " 0.04985471515090886,\n",
       " 0.0842001573384071,\n",
       " 0.24019748059454707,\n",
       " 0.06375952183606494,\n",
       " 0.0993541582515483,\n",
       " 0.05265131385456081,\n",
       " 0.03356472934157101,\n",
       " 0.20202221386669653,\n",
       " 0.09073297074099841,\n",
       " 0.034695350652487536,\n",
       " 0.11380779244173514,\n",
       " 0.08854880943478291,\n",
       " 0.05722065431536844,\n",
       " 0.052792163854473786,\n",
       " 0.0392622305577642,\n",
       " 0.22146308715825921,\n",
       " 0.11096720544200814,\n",
       " 0.06567886232250308,\n",
       " 0.1583852596330403,\n",
       " 0.079944967384712,\n",
       " 0.08594607172495652,\n",
       " 0.02622075598510693,\n",
       " 0.02498357264249509,\n",
       " 0.026410362623540927,\n",
       " 0.045201014839605744,\n",
       " 0.1585271198261025,\n",
       " 0.014266317465439904,\n",
       " 0.07039935703046639,\n",
       " 0.05573971082126482,\n",
       " 0.08277728837865722,\n",
       " 0.03447652901988615,\n",
       " 0.1236394294818733,\n",
       " 0.03277021100112861,\n",
       " 0.026369344912262067,\n",
       " 0.00957970616084781,\n",
       " 0.11983906610368679,\n",
       " 0.025773700663933207,\n",
       " 0.027192613707743615,\n",
       " 0.043106572962838846,\n",
       " 0.09402817826135135,\n",
       " 0.07745667784497745,\n",
       " 0.050777309813690885,\n",
       " 0.008128419207513124,\n",
       " 0.10450202593191796,\n",
       " 0.19092910339829536,\n",
       " 0.06395762817814432,\n",
       " 0.06445855869556132,\n",
       " 0.012213306179862722,\n",
       " 0.057602195171978926,\n",
       " 0.06814016718291463,\n",
       " 0.04156569552549146,\n",
       " 0.04463857723917843,\n",
       " 0.057307607294536565,\n",
       " 0.0014552909585560244,\n",
       " 0.05009735479922893,\n",
       " 0.03664970894160644,\n",
       " 0.08430740977256547,\n",
       " 0.025245762537628193,\n",
       " 0.04991225644980195,\n",
       " 0.026217554857535165,\n",
       " 0.07737784155313998,\n",
       " 0.07918872579417985,\n",
       " 0.1916865346986109,\n",
       " 0.04225750877937447,\n",
       " 0.08486511628973568,\n",
       " 0.02228196958803299,\n",
       " 0.037537503508969505,\n",
       " 0.05574716692942584,\n",
       " 0.2904228936016154,\n",
       " 0.03753611974074332,\n",
       " 0.015473442077920245,\n",
       " 0.06775161512708676,\n",
       " 0.1508509108354009,\n",
       " 0.21126959082544788,\n",
       " 0.10118463164486641,\n",
       " 0.003126892733211769,\n",
       " 0.04775918119643617,\n",
       " 0.08505099886922808,\n",
       " 0.062112731088981986,\n",
       " 0.08327528610804877,\n",
       " 0.013176222697400255,\n",
       " 0.050723976020268326,\n",
       " 0.017670655557612817,\n",
       " 0.10080212380555145,\n",
       " 0.127854490483386,\n",
       " 0.023781250520150822,\n",
       " 0.06606477266110927,\n",
       " 0.16663150638222674,\n",
       " 0.06788173592224181,\n",
       " 0.001870669382321548,\n",
       " 0.04652369839113552,\n",
       " 0.0775324116855249,\n",
       " 0.05267517494329102,\n",
       " 0.03539183730605581,\n",
       " 0.022155414494190614,\n",
       " 0.15046702649966995,\n",
       " 0.05332028949437935,\n",
       " 0.14284215036083908,\n",
       " 0.011418966887301724,\n",
       " 0.045172280423228885,\n",
       " 0.047489529811345105,\n",
       " 0.16641009050957203,\n",
       " 0.07177616876274798,\n",
       " 0.022376386900472944,\n",
       " 0.08766934226175735,\n",
       " 0.014988458547584052,\n",
       " 0.19371705662436314,\n",
       " 0.021070165237049868,\n",
       " 0.0972042586149103,\n",
       " 0.0711604397302704,\n",
       " 0.11072055770984691,\n",
       " 0.0816060836622347,\n",
       " 0.1351081806702138,\n",
       " 0.04267848744719837,\n",
       " 0.12705036021941643,\n",
       " 0.05008348263762679,\n",
       " 0.054665291476453895,\n",
       " 0.1002177378938596,\n",
       " 0.0181027993568455,\n",
       " 0.28614085345838347,\n",
       " 0.07770962988400505,\n",
       " 0.24541062492729515,\n",
       " 0.20160260653412562,\n",
       " 0.032087123426921375,\n",
       " 0.1284723865911525,\n",
       " 0.02600772360543518,\n",
       " 0.055193473384537325,\n",
       " 0.13968669059634503,\n",
       " 0.04686639276637427,\n",
       " 0.04367100222012652,\n",
       " 0.04270161410893594,\n",
       " 0.19215853372251004,\n",
       " 0.22377405301434608,\n",
       " 0.032535080260826216,\n",
       " 0.03767883581632283,\n",
       " 0.0796070398553933,\n",
       " 0.01374654184528535,\n",
       " 0.16722959487319727,\n",
       " 0.03262828122499733,\n",
       " 0.11118960619179392,\n",
       " 0.18639451815332675,\n",
       " 0.05176607983836672,\n",
       " 0.0853639607622851,\n",
       " 0.05840486914836828,\n",
       " 0.09957793878831644,\n",
       " 0.04204672807496952,\n",
       " 0.1850390188570739,\n",
       " 0.09806683347572545,\n",
       " 0.18058427192649062,\n",
       " 0.09240670670603403,\n",
       " 0.2939537017637629,\n",
       " 0.010332046581221879,\n",
       " 0.04720201118987353,\n",
       " 0.035320964569228196,\n",
       " 0.03935555120233396,\n",
       " 0.07582003792875151,\n",
       " 0.03865124112675884,\n",
       " 0.01058842071526571,\n",
       " 0.10575972853154646,\n",
       " 0.15266873026809594,\n",
       " 0.17095170062470885,\n",
       " 0.2922864947720357,\n",
       " 0.01115479404122587,\n",
       " 0.009662277558730625,\n",
       " 0.04777814344018656,\n",
       " 0.03600920810742405,\n",
       " 0.08519827686832807,\n",
       " 0.2660448837289999,\n",
       " 0.04799271266767912,\n",
       " 0.05146815653402146,\n",
       " 0.17705620254014223,\n",
       " 0.014761008901664813,\n",
       " 0.015885989920208836,\n",
       " 0.06078322565592518,\n",
       " 0.055852521293962724,\n",
       " 0.01730475494144465,\n",
       " 0.09971115349184544,\n",
       " 0.30401431866109313,\n",
       " 0.055255818341199886,\n",
       " 0.056149702112196324,\n",
       " 0.12082666037416692,\n",
       " 0.01989787746328171,\n",
       " 0.03290388051619049,\n",
       " 0.04852020808503287,\n",
       " 0.06694838022222246,\n",
       " 0.022159319713834304,\n",
       " 0.06424388098554225,\n",
       " 0.039193417232689466,\n",
       " 0.04613333864334243,\n",
       " 0.057192969827545626,\n",
       " 0.0662506937160504,\n",
       " 0.28906600754846146,\n",
       " 0.14208781978655094,\n",
       " 0.046506040325002856,\n",
       " 0.09060543634736853,\n",
       " 0.06146309549143141,\n",
       " 0.037568473517458546,\n",
       " 0.06825375097974355,\n",
       " 0.11635358152231529,\n",
       " 0.032241043861252934,\n",
       " 0.007336906960121667,\n",
       " 0.0711809363567735,\n",
       " 0.11274361914258665,\n",
       " 0.1023185600429931,\n",
       " 0.18997906258959166,\n",
       " 0.013831767102994733,\n",
       " 0.007320973762821049,\n",
       " 0.03630205978614801,\n",
       " 0.01673031011158774,\n",
       " 0.08518463631925668,\n",
       " 0.15208727478975012,\n",
       " 0.04201872935132505,\n",
       " 0.024220017015847514,\n",
       " 0.07063237968833622,\n",
       " 0.09866389213805303,\n",
       " 0.03988627488357638,\n",
       " 0.07789095588222925,\n",
       " 0.015358399227559456,\n",
       " 0.029957058524691164,\n",
       " 0.3505893116690426,\n",
       " 0.01782450686885264,\n",
       " 0.07577930002404824,\n",
       " ...]"
      ]
     },
     "execution_count": 49,
     "metadata": {},
     "output_type": "execute_result"
    }
   ],
   "source": [
    "lrmodel.predict(test_set.map(lambda x: x.features)).collect()"
   ]
  },
  {
   "cell_type": "code",
   "execution_count": 50,
   "metadata": {
    "collapsed": true
   },
   "outputs": [],
   "source": [
    "y_true = np.array(scores_and_labels.map(lambda lp: lp[1]).collect())\n",
    "y_pred = np.array(scores_and_labels.map(lambda lp: lp[0]).collect())"
   ]
  },
  {
   "cell_type": "code",
   "execution_count": 51,
   "metadata": {
    "collapsed": false
   },
   "outputs": [
    {
     "name": "stdout",
     "output_type": "stream",
     "text": [
      "Test Error = 0.0745881178233\n",
      "Accuracy: 92.5411882177\n",
      "\n",
      "\n"
     ]
    }
   ],
   "source": [
    "test_err = (y_true != y_pred).sum() / float(len(y_pred))\n",
    "    \n",
    "print 'Test Error = ' + str(test_err)\n",
    "print \"Accuracy: \" + str((1.0 - test_err) * 100)\n",
    "print \"\\n\""
   ]
  },
  {
   "cell_type": "code",
   "execution_count": 52,
   "metadata": {
    "collapsed": true
   },
   "outputs": [],
   "source": [
    "def plot_confusion_matrix(cm, title='Confusion matrix', cmap=plt.cm.Blues):\n",
    "    plt.imshow(cm, interpolation='nearest', cmap=cmap)\n",
    "    plt.title(title)\n",
    "    plt.colorbar()\n",
    "    tick_marks = np.arange(2)\n",
    "    plt.xticks(tick_marks, ['no upsell', 'upsell'], rotation=45)\n",
    "    plt.yticks(tick_marks, ['no upsell', 'upsell'])\n",
    "    plt.tight_layout()\n",
    "    plt.ylabel('True label')\n",
    "    plt.xlabel('Predicted label')"
   ]
  },
  {
   "cell_type": "code",
   "execution_count": 53,
   "metadata": {
    "collapsed": false
   },
   "outputs": [
    {
     "name": "stdout",
     "output_type": "stream",
     "text": [
      "Confusion matrix, Logistic Regression\n",
      "[[9265    7]\n",
      " [ 740    3]]\n"
     ]
    },
    {
     "data": {
      "image/png": "[encoded data removed]",
      "text/plain": [
       "<matplotlib.figure.Figure at 0x11285e1d0>"
      ]
     },
     "metadata": {},
     "output_type": "display_data"
    }
   ],
   "source": [
    "cm = confusion_matrix(y_true,y_pred)\n",
    "print('Confusion matrix, Logistic Regression')\n",
    "print(cm)\n",
    "plt.figure()\n",
    "plot_confusion_matrix(cm)"
   ]
  },
  {
   "cell_type": "code",
   "execution_count": 54,
   "metadata": {
    "collapsed": false
   },
   "outputs": [
    {
     "data": {
      "text/plain": [
       "[(0.0, 46318), (1.0, 3682)]"
      ]
     },
     "execution_count": 54,
     "metadata": {},
     "output_type": "execute_result"
    }
   ],
   "source": [
    "feature_rdd.groupBy(lambda x: x.label).mapValues(lambda x: len(x)).collect()"
   ]
  },
  {
   "cell_type": "code",
   "execution_count": 55,
   "metadata": {
    "collapsed": false
   },
   "outputs": [
    {
     "data": {
      "text/plain": [
       "7037"
      ]
     },
     "execution_count": 55,
     "metadata": {},
     "output_type": "execute_result"
    }
   ],
   "source": [
    "downsample = feature_rdd.filter(lambda x: x.label != 1.0).sample(False, 0.15)\n",
    "downsample.count()"
   ]
  },
  {
   "cell_type": "code",
   "execution_count": 56,
   "metadata": {
    "collapsed": false
   },
   "outputs": [],
   "source": [
    "balanced_classes = downsample.union(feature_rdd.filter(lambda x: x.label == 1.0))"
   ]
  },
  {
   "cell_type": "code",
   "execution_count": 57,
   "metadata": {
    "collapsed": false
   },
   "outputs": [
    {
     "data": {
      "text/plain": [
       "[(0.0, 7037), (1.0, 3682)]"
      ]
     },
     "execution_count": 57,
     "metadata": {},
     "output_type": "execute_result"
    }
   ],
   "source": [
    "balanced_classes.groupBy(lambda x: x.label).mapValues(lambda x: len(x)).collect()"
   ]
  },
  {
   "cell_type": "code",
   "execution_count": 58,
   "metadata": {
    "collapsed": true
   },
   "outputs": [],
   "source": [
    "(train_set, test_set) = balanced_classes.randomSplit([0.8, 0.2])"
   ]
  },
  {
   "cell_type": "code",
   "execution_count": 59,
   "metadata": {
    "collapsed": true
   },
   "outputs": [],
   "source": [
    "lrmodel = LogisticRegressionWithLBFGS.train(train_set)\n",
    "predictions = lrmodel.predict(test_set.map(lambda x: x.features))\n",
    "scores_and_labels = predictions.zip(test_set.map(lambda x: x.label))"
   ]
  },
  {
   "cell_type": "code",
   "execution_count": 60,
   "metadata": {
    "collapsed": true
   },
   "outputs": [],
   "source": [
    "def evaluate(y_true, y_pred, model):\n",
    "    test_err = (y_true != y_pred).sum() / float(len(y_pred))\n",
    "    \n",
    "    print 'Test Error = ' + str(test_err)\n",
    "    print \"Accuracy: \" + str((1.0 - test_err) * 100)\n",
    "    print \"\\n\"\n",
    "    \n",
    "    cm = confusion_matrix(y_true, y_pred)\n",
    "    print('Confusion matrix ' + model)\n",
    "    print(cm)\n",
    "    plt.figure()\n",
    "    plot_confusion_matrix(cm)"
   ]
  },
  {
   "cell_type": "code",
   "execution_count": 61,
   "metadata": {
    "collapsed": false
   },
   "outputs": [
    {
     "name": "stdout",
     "output_type": "stream",
     "text": [
      "Test Error = 0.247680890538\n",
      "Accuracy: 75.2319109462\n",
      "\n",
      "\n",
      "Confusion matrix Logistic Regression\n",
      "[[1312  102]\n",
      " [ 432  310]]\n"
     ]
    },
    {
     "data": {
      "image/png": "[encoded data removed]",
      "text/plain": [
       "<matplotlib.figure.Figure at 0x110d338d0>"
      ]
     },
     "metadata": {},
     "output_type": "display_data"
    }
   ],
   "source": [
    "y_true = np.array(scores_and_labels.map(lambda lp: lp[1]).collect())\n",
    "y_pred = np.array(scores_and_labels.map(lambda lp: lp[0]).collect())\n",
    "    \n",
    "evaluate(y_true, y_pred, \"Logistic Regression\")"
   ]
  },
  {
   "cell_type": "markdown",
   "metadata": {},
   "source": [
    "## `spark.ml`"
   ]
  },
  {
   "cell_type": "code",
   "execution_count": 62,
   "metadata": {
    "collapsed": true
   },
   "outputs": [],
   "source": [
    "from pyspark.ml import Pipeline\n",
    "from pyspark.ml.evaluation import BinaryClassificationEvaluator, Evaluator\n",
    "from pyspark.ml.classification import LogisticRegression, RandomForestClassifier, GBTClassifier\n",
    "from pyspark.ml.feature import StandardScaler, VectorAssembler, StringIndexer, VectorIndexer"
   ]
  },
  {
   "cell_type": "code",
   "execution_count": 63,
   "metadata": {
    "collapsed": true
   },
   "outputs": [],
   "source": [
    "# lrmodel = LogisticRegressionWithLBFGS.train(train_set)\n",
    "rf = RandomForestClassifier(featuresCol=\"features\", labelCol=\"indexed\")"
   ]
  },
  {
   "cell_type": "code",
   "execution_count": 64,
   "metadata": {
    "collapsed": false
   },
   "outputs": [
    {
     "data": {
      "text/plain": [
       "pyspark.ml.classification.RandomForestClassifier"
      ]
     },
     "execution_count": 64,
     "metadata": {},
     "output_type": "execute_result"
    }
   ],
   "source": [
    "type(rf)"
   ]
  },
  {
   "cell_type": "code",
   "execution_count": 65,
   "metadata": {
    "collapsed": true
   },
   "outputs": [],
   "source": [
    "stringIndexer = StringIndexer(inputCol=\"label\", outputCol=\"indexed\")\n",
    "si_model = stringIndexer.fit(train_set.toDF())\n",
    "index_df = si_model.transform(train_set.toDF())"
   ]
  },
  {
   "cell_type": "code",
   "execution_count": 66,
   "metadata": {
    "collapsed": false
   },
   "outputs": [
    {
     "name": "stdout",
     "output_type": "stream",
     "text": [
      "+--------------------+-----+-------+\n",
      "|            features|label|indexed|\n",
      "+--------------------+-----+-------+\n",
      "|[312.0,336.0,4051...|  0.0|    0.0|\n",
      "|[32.0,64.0,369814...|  0.0|    0.0|\n",
      "|[96.0,112.0,-9852...|  0.0|    0.0|\n",
      "|[32.0,24.0,88383....|  0.0|    0.0|\n",
      "|[120.0,112.0,7401...|  0.0|    0.0|\n",
      "|[56.0,56.0,156958...|  0.0|    0.0|\n",
      "|[0.0,0.0,203009.2...|  0.0|    0.0|\n",
      "|[72.0,128.0,-1232...|  0.0|    0.0|\n",
      "|[32.0,0.0,31176.4...|  0.0|    0.0|\n",
      "|[168.0,312.0,7585...|  0.0|    0.0|\n",
      "|[112.0,112.0,-457...|  0.0|    0.0|\n",
      "|[8.0,24.0,-88029....|  0.0|    0.0|\n",
      "|[64.0,144.0,13307...|  0.0|    0.0|\n",
      "|[40.0,88.0,-84387...|  0.0|    0.0|\n",
      "|[32.0,8.0,90504.0...|  0.0|    0.0|\n",
      "|[72.0,48.0,531496...|  0.0|    0.0|\n",
      "|[88.0,96.0,-14256...|  0.0|    0.0|\n",
      "|[48.0,40.0,-25151...|  0.0|    0.0|\n",
      "|[56.0,32.0,47441....|  0.0|    0.0|\n",
      "|[32.0,56.0,109776...|  0.0|    0.0|\n",
      "+--------------------+-----+-------+\n",
      "\n"
     ]
    }
   ],
   "source": [
    "index_df.show()"
   ]
  },
  {
   "cell_type": "code",
   "execution_count": 67,
   "metadata": {
    "collapsed": false
   },
   "outputs": [],
   "source": [
    "rf_model = rf.fit(index_df)"
   ]
  },
  {
   "cell_type": "code",
   "execution_count": 68,
   "metadata": {
    "collapsed": true
   },
   "outputs": [],
   "source": [
    "predictions = rf_model.transform(test_set.toDF())"
   ]
  },
  {
   "cell_type": "code",
   "execution_count": 69,
   "metadata": {
    "collapsed": false
   },
   "outputs": [
    {
     "name": "stdout",
     "output_type": "stream",
     "text": [
      "+--------------------+-----+----------+\n",
      "|            features|label|prediction|\n",
      "+--------------------+-----+----------+\n",
      "|[16.0,16.0,409376...|  0.0|       0.0|\n",
      "|[32.0,24.0,139857...|  0.0|       0.0|\n",
      "|[60.8886602759,0....|  0.0|       0.0|\n",
      "|[136.0,128.0,-131...|  0.0|       0.0|\n",
      "|[80.0,80.0,100610...|  0.0|       0.0|\n",
      "|[60.8886602759,66...|  0.0|       0.0|\n",
      "|[288.0,504.0,-133...|  0.0|       0.0|\n",
      "|[60.8886602759,66...|  0.0|       0.0|\n",
      "|[16.0,8.0,-854372...|  0.0|       0.0|\n",
      "|[60.8886602759,66...|  0.0|       0.0|\n",
      "|[16.0,40.0,-14158...|  0.0|       0.0|\n",
      "|[56.0,184.0,-1157...|  0.0|       0.0|\n",
      "|[24.0,48.0,36780....|  0.0|       0.0|\n",
      "|[32.0,24.0,113150...|  0.0|       0.0|\n",
      "|[176.0,264.0,-864...|  0.0|       0.0|\n",
      "|[32.0,64.0,77771....|  0.0|       0.0|\n",
      "|[32.0,32.0,167975...|  0.0|       0.0|\n",
      "|[88.0,112.0,62262...|  0.0|       0.0|\n",
      "|[112.0,80.0,26188...|  0.0|       0.0|\n",
      "|[88.0,112.0,-3499...|  0.0|       0.0|\n",
      "+--------------------+-----+----------+\n",
      "\n"
     ]
    }
   ],
   "source": [
    "predictions.show()"
   ]
  },
  {
   "cell_type": "code",
   "execution_count": 70,
   "metadata": {
    "collapsed": false
   },
   "outputs": [
    {
     "name": "stdout",
     "output_type": "stream",
     "text": [
      "             precision    recall  f1-score   support\n",
      "\n",
      "        0.0       0.78      0.99      0.87      1414\n",
      "        1.0       0.95      0.47      0.63       742\n",
      "\n",
      "avg / total       0.84      0.81      0.79      2156\n",
      "\n",
      "Test Error = 0.188775510204\n",
      "Accuracy: 81.1224489796\n",
      "\n",
      "\n",
      "Confusion matrix Random Forest\n",
      "[[1397   17]\n",
      " [ 390  352]]\n"
     ]
    },
    {
     "data": {
      "image/png": "[encoded data removed]",
      "text/plain": [
       "<matplotlib.figure.Figure at 0x112c80f90>"
      ]
     },
     "metadata": {},
     "output_type": "display_data"
    }
   ],
   "source": [
    "y_true = np.array(predictions.map(lambda x: x.label).collect())\n",
    "y_pred = np.array(predictions.map(lambda x: x.prediction).collect())\n",
    "\n",
    "print classification_report(y_true, y_pred)\n",
    "evaluate(y_true, y_pred, \"Random Forest\")"
   ]
  },
  {
   "cell_type": "markdown",
   "metadata": {},
   "source": [
    "## Pipelines"
   ]
  },
  {
   "cell_type": "code",
   "execution_count": 71,
   "metadata": {
    "collapsed": true
   },
   "outputs": [],
   "source": [
    "# scale features\n",
    "scaler = StandardScaler(inputCol=\"features\", outputCol=\"scaledFeatures\",\n",
    "                        withStd=True, withMean=True)\n",
    "\n",
    "# Compute summary statistics by fitting the StandardScaler\n",
    "scalerModel = scaler.fit(train_set.toDF())\n",
    "\n",
    "# Normalize each feature to have unit standard deviation.\n",
    "scaledData = scalerModel.transform(train_set.toDF())"
   ]
  },
  {
   "cell_type": "code",
   "execution_count": 72,
   "metadata": {
    "collapsed": true
   },
   "outputs": [],
   "source": [
    "stringIndexer = StringIndexer(inputCol=\"label\", outputCol=\"indexed\")\n",
    "si_model = stringIndexer.fit(scaledData)\n",
    "index_df = si_model.transform(scaledData)"
   ]
  },
  {
   "cell_type": "code",
   "execution_count": 73,
   "metadata": {
    "collapsed": true
   },
   "outputs": [],
   "source": [
    "gbt = GBTClassifier(labelCol=\"indexed\", featuresCol='scaledFeatures', maxIter=100)"
   ]
  },
  {
   "cell_type": "code",
   "execution_count": 74,
   "metadata": {
    "collapsed": true
   },
   "outputs": [],
   "source": [
    "model = gbt.fit(index_df)"
   ]
  },
  {
   "cell_type": "code",
   "execution_count": 75,
   "metadata": {
    "collapsed": true
   },
   "outputs": [],
   "source": [
    "predictions = model.transform(scalerModel.transform(test_set.toDF()))"
   ]
  },
  {
   "cell_type": "code",
   "execution_count": 76,
   "metadata": {
    "collapsed": true
   },
   "outputs": [],
   "source": [
    "from pyspark.ml import Pipeline"
   ]
  },
  {
   "cell_type": "code",
   "execution_count": 77,
   "metadata": {
    "collapsed": true
   },
   "outputs": [],
   "source": [
    "pipelineGBT = Pipeline(stages=[scaler, stringIndexer, gbt])"
   ]
  },
  {
   "cell_type": "code",
   "execution_count": 78,
   "metadata": {
    "collapsed": false
   },
   "outputs": [
    {
     "data": {
      "text/plain": [
       "Param(parent='Pipeline_421495442414b84b492b', name='stages', doc='pipeline stages')"
      ]
     },
     "execution_count": 78,
     "metadata": {},
     "output_type": "execute_result"
    }
   ],
   "source": [
    "pipelineGBT.stages"
   ]
  },
  {
   "cell_type": "code",
   "execution_count": 79,
   "metadata": {
    "collapsed": true
   },
   "outputs": [],
   "source": [
    "gbt_model = pipelineGBT.fit(train_set.toDF())"
   ]
  },
  {
   "cell_type": "code",
   "execution_count": 80,
   "metadata": {
    "collapsed": true
   },
   "outputs": [],
   "source": [
    "predictions = gbt_model.transform(test_set.toDF())"
   ]
  },
  {
   "cell_type": "code",
   "execution_count": 81,
   "metadata": {
    "collapsed": false
   },
   "outputs": [
    {
     "name": "stdout",
     "output_type": "stream",
     "text": [
      "+--------------------+-----+--------------------+-------+----------+\n",
      "|            features|label|      scaledFeatures|indexed|prediction|\n",
      "+--------------------+-----+--------------------+-------+----------+\n",
      "|[16.0,16.0,409376...|  0.0|[-0.3233005635691...|    0.0|       0.0|\n",
      "|[32.0,24.0,139857...|  0.0|[-0.2141241996813...|    0.0|       0.0|\n",
      "|[60.8886602759,0....|  0.0|[-0.0170017692742...|    0.0|       0.0|\n",
      "|[136.0,128.0,-131...|  0.0|[0.49552216558955...|    0.0|       0.0|\n",
      "|[80.0,80.0,100610...|  0.0|[0.11340489198215...|    0.0|       0.0|\n",
      "|[60.8886602759,66...|  0.0|[-0.0170017692742...|    0.0|       0.0|\n",
      "|[288.0,504.0,-133...|  0.0|[1.53269762252392...|    0.0|       0.0|\n",
      "|[60.8886602759,66...|  0.0|[-0.0170017692742...|    0.0|       0.0|\n",
      "|[16.0,8.0,-854372...|  0.0|[-0.3233005635691...|    0.0|       0.0|\n",
      "|[60.8886602759,66...|  0.0|[-0.0170017692742...|    0.0|       0.0|\n",
      "|[16.0,40.0,-14158...|  0.0|[-0.3233005635691...|    0.0|       0.0|\n",
      "|[56.0,184.0,-1157...|  0.0|[-0.0503596538495...|    0.0|       0.0|\n",
      "|[24.0,48.0,36780....|  0.0|[-0.2687123816252...|    0.0|       0.0|\n",
      "|[32.0,24.0,113150...|  0.0|[-0.2141241996813...|    0.0|       0.0|\n",
      "|[176.0,264.0,-864...|  0.0|[0.76846307530912...|    0.0|       0.0|\n",
      "|[32.0,64.0,77771....|  0.0|[-0.2141241996813...|    0.0|       0.0|\n",
      "|[32.0,32.0,167975...|  0.0|[-0.2141241996813...|    0.0|       0.0|\n",
      "|[88.0,112.0,62262...|  0.0|[0.16799307392607...|    0.0|       0.0|\n",
      "|[112.0,80.0,26188...|  0.0|[0.33175761975781...|    0.0|       0.0|\n",
      "|[88.0,112.0,-3499...|  0.0|[0.16799307392607...|    0.0|       0.0|\n",
      "+--------------------+-----+--------------------+-------+----------+\n",
      "\n"
     ]
    }
   ],
   "source": [
    "predictions.show()"
   ]
  },
  {
   "cell_type": "code",
   "execution_count": 82,
   "metadata": {
    "collapsed": false
   },
   "outputs": [
    {
     "data": {
      "text/plain": [
       "[StandardScaler_4f2397cf59028907bfc2,\n",
       " StringIndexer_413ca525c6a1ae327dfc,\n",
       " GBTClassifier_469191af087db85fe8b9]"
      ]
     },
     "execution_count": 82,
     "metadata": {},
     "output_type": "execute_result"
    }
   ],
   "source": [
    "gbt_model.stages"
   ]
  },
  {
   "cell_type": "code",
   "execution_count": 83,
   "metadata": {
    "collapsed": false
   },
   "outputs": [
    {
     "name": "stdout",
     "output_type": "stream",
     "text": [
      "             precision    recall  f1-score   support\n",
      "\n",
      "        0.0       0.79      0.95      0.86      1414\n",
      "        1.0       0.84      0.53      0.65       742\n",
      "\n",
      "avg / total       0.81      0.80      0.79      2156\n",
      "\n",
      "Test Error = 0.198051948052\n",
      "Accuracy: 80.1948051948\n",
      "\n",
      "\n",
      "Confusion matrix GBT, Pipeline\n",
      "[[1337   77]\n",
      " [ 350  392]]\n"
     ]
    },
    {
     "data": {
      "image/png": "[encoded data removed]",
      "text/plain": [
       "<matplotlib.figure.Figure at 0x112d7c090>"
      ]
     },
     "metadata": {},
     "output_type": "display_data"
    }
   ],
   "source": [
    "y_true = np.array(predictions.map(lambda x: x.label).collect())\n",
    "y_pred = np.array(predictions.map(lambda x: x.prediction).collect())\n",
    "\n",
    "print classification_report(y_true, y_pred)\n",
    "evaluate(y_true, y_pred, \"GBT, Pipeline\")"
   ]
  },
  {
   "cell_type": "code",
   "execution_count": 84,
   "metadata": {
    "collapsed": false
   },
   "outputs": [
    {
     "name": "stdout",
     "output_type": "stream",
     "text": [
      "             precision    recall  f1-score   support\n",
      "\n",
      "        0.0       0.79      0.95      0.86      1414\n",
      "        1.0       0.84      0.53      0.65       742\n",
      "\n",
      "avg / total       0.81      0.80      0.79      2156\n",
      "\n",
      "Test Error = 0.198051948052\n",
      "Accuracy: 80.1948051948\n",
      "\n",
      "\n",
      "Confusion matrix GBT, Pipeline (100 iterations)\n",
      "[[1337   77]\n",
      " [ 350  392]]\n"
     ]
    },
    {
     "data": {
      "image/png": "[encoded data removed]",
      "text/plain": [
       "<matplotlib.figure.Figure at 0x112b356d0>"
      ]
     },
     "metadata": {},
     "output_type": "display_data"
    }
   ],
   "source": [
    "y_true = np.array(predictions.map(lambda x: x.label).collect())\n",
    "y_pred = np.array(predictions.map(lambda x: x.prediction).collect())\n",
    "\n",
    "print classification_report(y_true, y_pred)\n",
    "evaluate(y_true, y_pred, \"GBT, Pipeline (100 iterations)\")"
   ]
  }
 ],
 "metadata": {
  "kernelspec": {
   "display_name": "Python 2",
   "language": "python",
   "name": "python2"
  },
  "language_info": {
   "codemirror_mode": {
    "name": "ipython",
    "version": 2
   },
   "file_extension": ".py",
   "mimetype": "text/x-python",
   "name": "python",
   "nbconvert_exporter": "python",
   "pygments_lexer": "ipython2",
   "version": "2.7.9"
  }
 },
 "nbformat": 4,
 "nbformat_minor": 0
}
