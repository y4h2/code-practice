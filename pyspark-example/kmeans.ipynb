{
 "cells": [
  {
   "cell_type": "markdown",
   "metadata": {},
   "source": [
    "## K-means\n",
    "\n",
    "* test correctness of NLP vectorization\n",
    "* test logic of kmeans\n",
    "* test kmeans on text data"
   ]
  },
  {
   "cell_type": "code",
   "execution_count": 1,
   "metadata": {
    "collapsed": false
   },
   "outputs": [],
   "source": [
    "import pyspark as ps\n",
    "import json\n",
    "\n",
    "# run it single threaded\n",
    "sc = ps.SparkContext('local')"
   ]
  },
  {
   "cell_type": "code",
   "execution_count": null,
   "metadata": {
    "collapsed": true
   },
   "outputs": [],
   "source": [
    "# install the nltk corpus and data\n",
    "!python -m nltk.downloader all"
   ]
  },
  {
   "cell_type": "code",
   "execution_count": 2,
   "metadata": {
    "collapsed": true
   },
   "outputs": [],
   "source": [
    "import os, ipdb\n",
    "\n",
    "# need to get local path since we are reading local files\n",
    "cwd = os.getcwd()"
   ]
  },
  {
   "cell_type": "code",
   "execution_count": 3,
   "metadata": {
    "collapsed": true
   },
   "outputs": [],
   "source": [
    "test_rdd = sc.textFile('file://' + cwd + '/data/dummy_clusters.csv')"
   ]
  },
  {
   "cell_type": "code",
   "execution_count": 4,
   "metadata": {
    "collapsed": false
   },
   "outputs": [
    {
     "name": "stdout",
     "output_type": "stream",
     "text": [
      "Populating the interactive namespace from numpy and matplotlib\n"
     ]
    }
   ],
   "source": [
    "import matplotlib.pyplot as plt\n",
    "\n",
    "%pylab inline"
   ]
  },
  {
   "cell_type": "code",
   "execution_count": 5,
   "metadata": {
    "collapsed": true
   },
   "outputs": [],
   "source": [
    "import numpy as np\n",
    "\n",
    "test_rows = test_rdd.map(lambda line: np.array(map(float, line.split(','))))"
   ]
  },
  {
   "cell_type": "code",
   "execution_count": 6,
   "metadata": {
    "collapsed": false
   },
   "outputs": [
    {
     "data": {
      "text/plain": [
       "<matplotlib.collections.PathCollection at 0x110bb5610>"
      ]
     },
     "execution_count": 6,
     "metadata": {},
     "output_type": "execute_result"
    },
    {
     "data": {
      "image/png": "[encoded data removed]",
      "text/plain": [
       "<matplotlib.figure.Figure at 0x110a52d10>"
      ]
     },
     "metadata": {},
     "output_type": "display_data"
    }
   ],
   "source": [
    "data = np.array(test_rows.collect())\n",
    "plt.scatter(data[:, 0], data[:,1])"
   ]
  },
  {
   "cell_type": "code",
   "execution_count": 7,
   "metadata": {
    "collapsed": false
   },
   "outputs": [
    {
     "data": {
      "text/plain": [
       "<matplotlib.collections.PathCollection at 0x110d08fd0>"
      ]
     },
     "execution_count": 7,
     "metadata": {},
     "output_type": "execute_result"
    },
    {
     "data": {
      "image/png": "[encoded data removed]",
      "text/plain": [
       "<matplotlib.figure.Figure at 0x110b4ad50>"
      ]
     },
     "metadata": {},
     "output_type": "display_data"
    }
   ],
   "source": [
    "optimal_centroids = [np.array([-12, -4]), np.array([-6.5, -11]), np.array([-4, 4])]\n",
    "centroids = np.array(optimal_centroids)\n",
    "plt.scatter(data[:, 0], data[:,1])\n",
    "plt.scatter(centroids[:, 0], centroids[:, 1], c='r', s=50)"
   ]
  },
  {
   "cell_type": "code",
   "execution_count": 8,
   "metadata": {
    "collapsed": true
   },
   "outputs": [],
   "source": [
    "# intialize centroids\n",
    "\n",
    "def Kmeans(features, centers, num_iter):\n",
    "    error = []\n",
    "    \n",
    "    for i in xrange(num_iter):\n",
    "        def closest_centroid(point, centroids):\n",
    "            distances = [ np.sqrt(np.sum((point - c)**2)) for c in centroids ]\n",
    "            return (np.argmin(distances), np.min(distances))\n",
    "        \n",
    "        def compute_assignments(point, centroids):\n",
    "            closest = closest_centroid(point, centroids)\n",
    "            return (closest[0], (point, 1, closest[1]))\n",
    "        \n",
    "        # compute cluster assignments\n",
    "        assignments = features.map(lambda x: compute_assignments(x, centers))    \n",
    "            \n",
    "        # update centroids to mean of assigned points\n",
    "        means = assignments.reduceByKey(lambda x, y: (x[0] + y[0], x[1] + y[1], x[2] + y[2]))\n",
    "        centroids = means.map(lambda c: (c[0], c[1][0] / c[1][1])).collect()\n",
    "        \n",
    "        for i, p in centroids:\n",
    "            centers[i] = p\n",
    "        \n",
    "        WSSE = means.map(lambda x: x[1][2]).sum()\n",
    "        error.append(WSSE)\n",
    "        \n",
    "        if len(error) > 1 and error[-2] == error[-1]:\n",
    "            break\n",
    "            \n",
    "    return (assignments, centroids, error)"
   ]
  },
  {
   "cell_type": "code",
   "execution_count": 9,
   "metadata": {
    "collapsed": false
   },
   "outputs": [],
   "source": [
    "res = Kmeans(test_rows, optimal_centroids, 10)"
   ]
  },
  {
   "cell_type": "code",
   "execution_count": 10,
   "metadata": {
    "collapsed": false
   },
   "outputs": [
    {
     "data": {
      "text/plain": [
       "(PythonRDD[21] at RDD at PythonRDD.scala:43,\n",
       " [(0, array([-10.04935243,  -3.85954095])),\n",
       "  (1, array([-6.58196786, -8.17239339])),\n",
       "  (2, array([-1.4710815 ,  4.33721882]))],\n",
       " [261.87984298397168, 108.56785435636178, 108.56785435636178])"
      ]
     },
     "execution_count": 10,
     "metadata": {},
     "output_type": "execute_result"
    }
   ],
   "source": [
    "res"
   ]
  },
  {
   "cell_type": "code",
   "execution_count": 11,
   "metadata": {
    "collapsed": false
   },
   "outputs": [
    {
     "data": {
      "text/plain": [
       "<matplotlib.collections.PathCollection at 0x110e2fc10>"
      ]
     },
     "execution_count": 11,
     "metadata": {},
     "output_type": "execute_result"
    },
    {
     "data": {
      "image/png": "[encoded data removed]",
      "text/plain": [
       "<matplotlib.figure.Figure at 0x110c20450>"
      ]
     },
     "metadata": {},
     "output_type": "display_data"
    }
   ],
   "source": [
    "centroids = np.array(map(lambda cent: cent[1], res[1]))\n",
    "\n",
    "plt.scatter(data[:, 0], data[:, 1])\n",
    "plt.scatter(centroids[:, 0], centroids[:, 1], c='r', s=50)"
   ]
  },
  {
   "cell_type": "code",
   "execution_count": 12,
   "metadata": {
    "collapsed": false
   },
   "outputs": [
    {
     "data": {
      "text/plain": [
       "<matplotlib.collections.PathCollection at 0x110f52d10>"
      ]
     },
     "execution_count": 12,
     "metadata": {},
     "output_type": "execute_result"
    },
    {
     "data": {
      "image/png": "[encoded data removed]",
      "text/plain": [
       "<matplotlib.figure.Figure at 0x110e8eb10>"
      ]
     },
     "metadata": {},
     "output_type": "display_data"
    }
   ],
   "source": [
    "init_centroids = test_rows.takeSample(False, 3)\n",
    "res = Kmeans(test_rows, init_centroids, 10)\n",
    "\n",
    "centroids = np.array(map(lambda cent: cent[1], res[1]))\n",
    "\n",
    "plt.scatter(data[:, 0], data[:, 1])\n",
    "plt.scatter(centroids[:, 0], centroids[:, 1], c='r', s=50)"
   ]
  },
  {
   "cell_type": "code",
   "execution_count": 13,
   "metadata": {
    "collapsed": false
   },
   "outputs": [
    {
     "data": {
      "text/plain": [
       "(PythonRDD[60] at RDD at PythonRDD.scala:43,\n",
       " [(0, array([-8.31566014, -6.01596717])),\n",
       "  (1, array([-0.23779843,  3.32635307])),\n",
       "  (2, array([-1.79082156,  4.59929513]))],\n",
       " [316.5342334216989,\n",
       "  224.83141311945371,\n",
       "  224.53771994362125,\n",
       "  223.99847880001542,\n",
       "  223.6189950139244,\n",
       "  223.6189950139244])"
      ]
     },
     "execution_count": 13,
     "metadata": {},
     "output_type": "execute_result"
    }
   ],
   "source": [
    "res"
   ]
  },
  {
   "cell_type": "markdown",
   "metadata": {},
   "source": [
    "## All Together Now"
   ]
  },
  {
   "cell_type": "code",
   "execution_count": 14,
   "metadata": {
    "collapsed": true
   },
   "outputs": [],
   "source": [
    "import nltk, string\n",
    "\n",
    "def tokenize(text):\n",
    "    tokens = [] \n",
    "    \n",
    "    for word in nltk.word_tokenize(text):\n",
    "        if word \\\n",
    "            not in nltk.corpus.stopwords.words('english') \\\n",
    "            and word not in string.punctuation \\\n",
    "            and word != '``':    \n",
    "                tokens.append(word)\n",
    "    \n",
    "    return tokens"
   ]
  },
  {
   "cell_type": "code",
   "execution_count": 15,
   "metadata": {
    "collapsed": true
   },
   "outputs": [],
   "source": [
    "sc.stop()"
   ]
  },
  {
   "cell_type": "code",
   "execution_count": 16,
   "metadata": {
    "collapsed": false
   },
   "outputs": [
    {
     "data": {
      "text/plain": [
       "u'local[*]'"
      ]
     },
     "execution_count": 16,
     "metadata": {},
     "output_type": "execute_result"
    }
   ],
   "source": [
    "# run on all cores\n",
    "sc = ps.SparkContext()\n",
    "sc.master"
   ]
  },
  {
   "cell_type": "code",
   "execution_count": 17,
   "metadata": {
    "collapsed": true
   },
   "outputs": [],
   "source": [
    "from collections import Counter"
   ]
  },
  {
   "cell_type": "code",
   "execution_count": 25,
   "metadata": {
    "collapsed": false
   },
   "outputs": [],
   "source": [
    "# parse input essay file\n",
    "essay_rdd = sc.textFile('file://' + cwd + '/data/donors_choose/essays.json')\n",
    "row_rdd = essay_rdd.map(lambda x: json.loads(x))\n",
    "\n",
    "# tokenize documents\n",
    "tokenized_rdd = row_rdd.filter(lambda row: row['essay'] and row['essay'] != '') \\\n",
    "                       .map(lambda row: row['essay']) \\\n",
    "                       .map(lambda text: text.replace('\\\\n', '').replace('\\r', '')) \\\n",
    "                       .map(lambda text: tokenize(text))\n",
    "\n",
    "# compute term and document frequencies\n",
    "term_frequency = tokenized_rdd.map(lambda terms: Counter(terms))\n",
    "\n",
    "doc_frequency = term_frequency.flatMap(lambda counts: counts.keys()) \\\n",
    "                             .map(lambda keys: (keys, 1)) \\\n",
    "                             .reduceByKey(lambda a, b: a + b)"
   ]
  },
  {
   "cell_type": "code",
   "execution_count": 28,
   "metadata": {
    "collapsed": false
   },
   "outputs": [],
   "source": [
    "num_features = 10000\n",
    "\n",
    "top_terms = doc_frequency.top(num_features, key=lambda a: a[1])"
   ]
  },
  {
   "cell_type": "code",
   "execution_count": 30,
   "metadata": {
    "collapsed": false
   },
   "outputs": [],
   "source": [
    "import math\n",
    "\n",
    "total_docs = essay_rdd.count()\n",
    "idf = map(lambda tup: (tup[0], math.log(float(total_docs) / (1 + tup[1]))), top_terms)"
   ]
  },
  {
   "cell_type": "code",
   "execution_count": 31,
   "metadata": {
    "collapsed": true
   },
   "outputs": [],
   "source": [
    "broadcast_idf = sc.broadcast(idf)\n",
    "\n",
    "def vectorize(tokens):\n",
    "    word_counts = Counter(tokens)\n",
    "    doc_length = sum(word_counts.values())\n",
    "    \n",
    "    vector = [word_counts.get(word[0], 0) * word[1] / float(doc_length) for word in broadcast_idf.value]\n",
    "    return np.array(vector)"
   ]
  },
  {
   "cell_type": "code",
   "execution_count": 32,
   "metadata": {
    "collapsed": true
   },
   "outputs": [],
   "source": [
    "bag_of_words = tokenized_rdd.filter(lambda x: len(x) > 0).map(vectorize)"
   ]
  },
  {
   "cell_type": "code",
   "execution_count": 33,
   "metadata": {
    "collapsed": false
   },
   "outputs": [
    {
     "data": {
      "text/plain": [
       "PythonRDD[30] at RDD at PythonRDD.scala:43"
      ]
     },
     "execution_count": 33,
     "metadata": {},
     "output_type": "execute_result"
    }
   ],
   "source": [
    "bag_of_words.persist()"
   ]
  },
  {
   "cell_type": "code",
   "execution_count": 34,
   "metadata": {
    "collapsed": true
   },
   "outputs": [],
   "source": [
    "top_n = 10\n",
    "summary = bag_of_words.map(lambda x: map(lambda idx: broadcast_idf.value[idx][0], np.argsort(x)[::-1][:top_n]))"
   ]
  },
  {
   "cell_type": "code",
   "execution_count": 35,
   "metadata": {
    "collapsed": false
   },
   "outputs": [
    {
     "data": {
      "text/plain": [
       "[[u'SAT',\n",
       "  u'preparation',\n",
       "  u'tutors',\n",
       "  u'classes',\n",
       "  u'Unlike',\n",
       "  u'Regents',\n",
       "  u'cash',\n",
       "  u'term',\n",
       "  u'11th',\n",
       "  u'districts'],\n",
       " [u'doll',\n",
       "  u'pregnancy',\n",
       "  u'baby',\n",
       "  u'Think',\n",
       "  u'effort',\n",
       "  u'Over',\n",
       "  u'simulated',\n",
       "  u'alter',\n",
       "  u'prevention',\n",
       "  u\"''\"],\n",
       " [u'frequently',\n",
       "  u'rampant',\n",
       "  u'team',\n",
       "  u'Walk',\n",
       "  u'evening',\n",
       "  u'views',\n",
       "  u'runs',\n",
       "  u'entertainment',\n",
       "  u'Seeing',\n",
       "  u'NY'],\n",
       " [u'SAT',\n",
       "  u'P',\n",
       "  u'college',\n",
       "  u'History',\n",
       "  u'advisory',\n",
       "  u'professions',\n",
       "  u'talks',\n",
       "  u'counselor',\n",
       "  u'aside',\n",
       "  u'II'],\n",
       " [u'P',\n",
       "  u'seniors',\n",
       "  u'contemporary',\n",
       "  u'graduating',\n",
       "  u'graduation',\n",
       "  u'Bronx',\n",
       "  u'Richard',\n",
       "  u'Memory',\n",
       "  u'Ralph',\n",
       "  u'gift'],\n",
       " [u'weather',\n",
       "  u'television',\n",
       "  u'India',\n",
       "  u'P.S',\n",
       "  u'player',\n",
       "  u'reports',\n",
       "  u'grant',\n",
       "  u'examples',\n",
       "  u'funded',\n",
       "  u'equipment.'],\n",
       " [u'Richard',\n",
       "  u\"'ve\",\n",
       "  u'novels',\n",
       "  u'flame',\n",
       "  u'God',\n",
       "  u'Chocolate',\n",
       "  u'Following',\n",
       "  u'fan',\n",
       "  u'Eyes',\n",
       "  u'copies'],\n",
       " [u'geography',\n",
       "  u'slide',\n",
       "  u'assigned',\n",
       "  u'themes',\n",
       "  u'9th',\n",
       "  u'theme',\n",
       "  u'historical',\n",
       "  u'Roughly',\n",
       "  u'understanding',\n",
       "  u'Humanities'],\n",
       " [u'slavery',\n",
       "  u'Academy',\n",
       "  u'article',\n",
       "  u'...',\n",
       "  u'--',\n",
       "  u'born',\n",
       "  u'10th',\n",
       "  u'New',\n",
       "  u'North',\n",
       "  u'inside'],\n",
       " [u'P',\n",
       "  u'error',\n",
       "  u'trial',\n",
       "  u'Harlem',\n",
       "  u'attain',\n",
       "  u'listed',\n",
       "  u'boy',\n",
       "  u'learns',\n",
       "  u'thirty',\n",
       "  u'Academy'],\n",
       " [u'Bronx',\n",
       "  u'oxygen',\n",
       "  u'River',\n",
       "  u'river',\n",
       "  u'P',\n",
       "  u'water',\n",
       "  u'compare',\n",
       "  u'measurements',\n",
       "  u'land',\n",
       "  u'near'],\n",
       " [u'P',\n",
       "  u'Heritage',\n",
       "  u'Dictionary',\n",
       "  u'Pablo',\n",
       "  u'Man',\n",
       "  u'Heights',\n",
       "  u'owned',\n",
       "  u'PS',\n",
       "  u'forty',\n",
       "  u'Approximately'],\n",
       " [u'selection',\n",
       "  u'disappointed',\n",
       "  u'baskets',\n",
       "  u'eagerly',\n",
       "  u'Too',\n",
       "  u'stored',\n",
       "  u'West',\n",
       "  u'materials',\n",
       "  u'labeled',\n",
       "  u'Academy'],\n",
       " [u'He',\n",
       "  u'talent',\n",
       "  u'dramatic',\n",
       "  u'Bronx',\n",
       "  u'improvisation',\n",
       "  u'Economics',\n",
       "  u'twelfth',\n",
       "  u'tenth',\n",
       "  u'star',\n",
       "  u'remarkable'],\n",
       " [u'geography',\n",
       "  u'Egyptian',\n",
       "  u'documents',\n",
       "  u'scanner',\n",
       "  u'collect',\n",
       "  u'edit',\n",
       "  u'pyramid',\n",
       "  u'state-of-the-art',\n",
       "  u'Humanities',\n",
       "  u'excerpts']]"
      ]
     },
     "execution_count": 35,
     "metadata": {},
     "output_type": "execute_result"
    }
   ],
   "source": [
    "summary.take(15)"
   ]
  },
  {
   "cell_type": "markdown",
   "metadata": {},
   "source": [
    "## Kmeans on Essays"
   ]
  },
  {
   "cell_type": "code",
   "execution_count": 36,
   "metadata": {
    "collapsed": true
   },
   "outputs": [],
   "source": [
    "sample_data = bag_of_words.sample(False, 0.1)"
   ]
  },
  {
   "cell_type": "code",
   "execution_count": 37,
   "metadata": {
    "collapsed": false
   },
   "outputs": [
    {
     "data": {
      "text/plain": [
       "PythonRDD[32] at RDD at PythonRDD.scala:43"
      ]
     },
     "execution_count": 37,
     "metadata": {},
     "output_type": "execute_result"
    }
   ],
   "source": [
    "sample_data.persist()"
   ]
  },
  {
   "cell_type": "code",
   "execution_count": 38,
   "metadata": {
    "collapsed": false
   },
   "outputs": [],
   "source": [
    "# initialize centroids\n",
    "k = 100\n",
    "\n",
    "centroids = sample_data.takeSample(False, k)"
   ]
  },
  {
   "cell_type": "code",
   "execution_count": 39,
   "metadata": {
    "collapsed": false
   },
   "outputs": [
    {
     "data": {
      "text/plain": [
       "(PythonRDD[53] at RDD at PythonRDD.scala:43,\n",
       " [(0, array([ 0.0005783 ,  0.0032016 ,  0.00302903, ...,  0.        ,\n",
       "           0.        ,  0.        ])),\n",
       "  (78, array([ 0.00059769,  0.00379232,  0.00193364, ...,  0.        ,\n",
       "           0.        ,  0.        ])),\n",
       "  (39, array([ 0.00056981,  0.00327351,  0.00375755, ...,  0.        ,\n",
       "           0.        ,  0.        ])),\n",
       "  (40, array([ 0.00020996,  0.00342656,  0.00253888, ...,  0.        ,\n",
       "           0.        ,  0.        ])),\n",
       "  (1, array([ 0.00070413,  0.00337991,  0.00278605, ...,  0.        ,\n",
       "           0.        ,  0.        ])),\n",
       "  (79, array([  5.67428587e-04,   3.35750602e-03,   2.55920240e-03, ...,\n",
       "            4.38654131e-05,   1.09120055e-05,   8.17550213e-06])),\n",
       "  (80,\n",
       "   array([ 0.0005359,  0.0087459,  0.       , ...,  0.       ,  0.       ,  0.       ])),\n",
       "  (41, array([ 0.00063245,  0.00302752,  0.00235   , ...,  0.        ,\n",
       "           0.        ,  0.        ])),\n",
       "  (2, array([  6.26325568e-04,   3.02990647e-03,   3.38240509e-03, ...,\n",
       "            0.00000000e+00,   6.79601550e-05,   3.70210961e-05])),\n",
       "  (81, array([  5.77263979e-04,   3.18622814e-03,   2.71257810e-03, ...,\n",
       "            0.00000000e+00,   2.99295726e-05,   0.00000000e+00])),\n",
       "  (42, array([ 0.00064761,  0.00416948,  0.00188924, ...,  0.        ,\n",
       "           0.        ,  0.        ])),\n",
       "  (3, array([ 0.00076453,  0.        ,  0.00184897, ...,  0.        ,\n",
       "           0.        ,  0.        ])),\n",
       "  (82, array([ 0.00055855,  0.00335821,  0.00208884, ...,  0.        ,\n",
       "           0.        ,  0.        ])),\n",
       "  (43, array([ 0.00073506,  0.00250052,  0.00250245, ...,  0.        ,\n",
       "           0.        ,  0.        ])),\n",
       "  (4, array([ 0.00053286,  0.00115949,  0.00128867, ...,  0.        ,\n",
       "           0.        ,  0.        ])),\n",
       "  (83, array([  6.19082134e-04,   3.43161652e-03,   1.99547094e-03, ...,\n",
       "            1.71337097e-05,   1.89952638e-05,   1.22850605e-05])),\n",
       "  (44, array([  5.89601467e-04,   3.75176131e-03,   1.96819622e-03, ...,\n",
       "            0.00000000e+00,   4.05572452e-05,   6.82928519e-05])),\n",
       "  (5, array([  6.20991572e-04,   3.55756522e-03,   2.09757112e-03, ...,\n",
       "            0.00000000e+00,   5.51378605e-05,   0.00000000e+00])),\n",
       "  (84, array([ 0.00051329,  0.00070629,  0.00183214, ...,  0.        ,\n",
       "           0.        ,  0.00686429])),\n",
       "  (45, array([ 0.00058371,  0.00263329,  0.0028977 , ...,  0.        ,\n",
       "           0.        ,  0.        ])),\n",
       "  (6, array([ 0.00067788,  0.00302859,  0.00253372, ...,  0.        ,\n",
       "           0.        ,  0.        ])),\n",
       "  (85, array([  6.19468849e-04,   3.31190385e-03,   2.53333998e-03, ...,\n",
       "            1.48046467e-04,   0.00000000e+00,   6.94207526e-05])),\n",
       "  (46, array([ 0.00066356,  0.0014439 ,  0.00320953, ...,  0.        ,\n",
       "           0.        ,  0.        ])),\n",
       "  (7, array([ 0.00066106,  0.00656183,  0.00300223, ...,  0.        ,\n",
       "           0.        ,  0.        ])),\n",
       "  (8, array([  5.55042327e-04,   3.52646639e-03,   2.93078017e-03, ...,\n",
       "            1.18610848e-05,   3.51744190e-05,   0.00000000e+00])),\n",
       "  (86, array([ 0.00061014,  0.00408245,  0.00201029, ...,  0.        ,\n",
       "           0.00017474,  0.        ])),\n",
       "  (47, array([ 0.00057396,  0.00353696,  0.00248201, ...,  0.        ,\n",
       "           0.        ,  0.        ])),\n",
       "  (48, array([ 0.00056845,  0.00298502,  0.00143702, ...,  0.00185957,\n",
       "           0.        ,  0.        ])),\n",
       "  (9, array([  6.38024882e-04,   3.74281451e-03,   1.84901741e-03, ...,\n",
       "            3.20166683e-05,   0.00000000e+00,   0.00000000e+00])),\n",
       "  (87, array([  5.78446779e-04,   4.47018849e-03,   2.24665237e-03, ...,\n",
       "            4.32897146e-05,   0.00000000e+00,   0.00000000e+00])),\n",
       "  (88, array([ 0.00056662,  0.00332728,  0.00262316, ...,  0.        ,\n",
       "           0.        ,  0.        ])),\n",
       "  (49, array([ 0.00067039,  0.00315868,  0.00194504, ...,  0.        ,\n",
       "           0.        ,  0.        ])),\n",
       "  (10, array([ 0.00070184,  0.00275847,  0.00211094, ...,  0.        ,\n",
       "           0.        ,  0.        ])),\n",
       "  (89, array([ 0.00054666,  0.00398091,  0.00235092, ...,  0.        ,\n",
       "           0.        ,  0.        ])),\n",
       "  (50, array([ 0.00060655,  0.00188934,  0.00226047, ...,  0.00018931,\n",
       "           0.        ,  0.        ])),\n",
       "  (11, array([ 0.,  0.,  0., ...,  0.,  0.,  0.])),\n",
       "  (90, array([ 0.00062652,  0.00273665,  0.00295086, ...,  0.        ,\n",
       "           0.        ,  0.        ])),\n",
       "  (51, array([ 0.00061132,  0.0040377 ,  0.00206783, ...,  0.        ,\n",
       "           0.        ,  0.        ])),\n",
       "  (12, array([ 0.00068507,  0.00272029,  0.00164601, ...,  0.        ,\n",
       "           0.        ,  0.        ])),\n",
       "  (91, array([ 0.00059754,  0.00279001,  0.00183062, ...,  0.        ,\n",
       "           0.        ,  0.        ])),\n",
       "  (52, array([ 0.00061779,  0.00423335,  0.00205948, ...,  0.        ,\n",
       "           0.        ,  0.        ])),\n",
       "  (13, array([  5.24421543e-04,   3.47260283e-03,   2.55471048e-03, ...,\n",
       "            0.00000000e+00,   9.68969479e-05,   0.00000000e+00])),\n",
       "  (92, array([ 0.00079253,  0.00431136,  0.00239584, ...,  0.        ,\n",
       "           0.        ,  0.        ])),\n",
       "  (53, array([ 0.00059438,  0.00340048,  0.00185722, ...,  0.        ,\n",
       "           0.        ,  0.        ])),\n",
       "  (14, array([ 0.00054961,  0.00367539,  0.00298459, ...,  0.        ,\n",
       "           0.        ,  0.        ])),\n",
       "  (93, array([ 0.00066249,  0.00312638,  0.00186849, ...,  0.        ,\n",
       "           0.        ,  0.        ])),\n",
       "  (54, array([ 0.00060739,  0.00321073,  0.00209894, ...,  0.        ,\n",
       "           0.        ,  0.        ])),\n",
       "  (15, array([ 0.00058755,  0.0035551 ,  0.00208119, ...,  0.        ,\n",
       "           0.        ,  0.        ])),\n",
       "  (16, array([ 0.00058247,  0.00349755,  0.00204345, ...,  0.        ,\n",
       "           0.        ,  0.        ])),\n",
       "  (94, array([ 0.00077435,  0.00280832,  0.0015606 , ...,  0.        ,\n",
       "           0.        ,  0.        ])),\n",
       "  (55, array([ 0.00061268,  0.00413733,  0.00203267, ...,  0.        ,\n",
       "           0.        ,  0.        ])),\n",
       "  (56, array([ 0.00045743,  0.0025789 ,  0.00160628, ...,  0.        ,\n",
       "           0.        ,  0.        ])),\n",
       "  (17, array([ 0.00059926,  0.00439214,  0.00150857, ...,  0.        ,\n",
       "           0.        ,  0.        ])),\n",
       "  (95, array([ 0.00061241,  0.00281041,  0.0022055 , ...,  0.        ,\n",
       "           0.        ,  0.        ])),\n",
       "  (96, array([ 0.00035579,  0.00239502,  0.00142277, ...,  0.        ,\n",
       "           0.        ,  0.        ])),\n",
       "  (57, array([ 0.00063166,  0.00309013,  0.00202294, ...,  0.        ,\n",
       "           0.        ,  0.        ])),\n",
       "  (18, array([ 0.00067342,  0.00384218,  0.00230654, ...,  0.        ,\n",
       "           0.        ,  0.        ])),\n",
       "  (97, array([  5.79170365e-04,   3.04951088e-03,   1.91329565e-03, ...,\n",
       "            3.24946096e-05,   0.00000000e+00,   1.04324799e-04])),\n",
       "  (58, array([ 0.00058389,  0.00467036,  0.00212712, ...,  0.        ,\n",
       "           0.        ,  0.        ])),\n",
       "  (19, array([ 0.00057784,  0.00385314,  0.00189679, ...,  0.        ,\n",
       "           0.        ,  0.        ])),\n",
       "  (98, array([  6.54008884e-04,   3.10237162e-03,   2.22255072e-03, ...,\n",
       "            2.06181387e-05,   4.44820757e-05,   2.25409643e-05])),\n",
       "  (59, array([ 0.00062914,  0.00260365,  0.00166628, ...,  0.        ,\n",
       "           0.        ,  0.        ])),\n",
       "  (20, array([ 0.00028206,  0.00467405,  0.00238781, ...,  0.        ,\n",
       "           0.        ,  0.        ])),\n",
       "  (99, array([ 0.00057199,  0.00286962,  0.00178828, ...,  0.        ,\n",
       "           0.        ,  0.        ])),\n",
       "  (60, array([ 0.00052106,  0.00438765,  0.00174824, ...,  0.        ,\n",
       "           0.        ,  0.        ])),\n",
       "  (21, array([ 0.00045551,  0.00238862,  0.00095249, ...,  0.00958724,\n",
       "           0.        ,  0.        ])),\n",
       "  (61, array([ 0.00073372,  0.00324924,  0.00179214, ...,  0.        ,\n",
       "           0.        ,  0.        ])),\n",
       "  (22, array([ 0.00057106,  0.0035918 ,  0.00269398, ...,  0.        ,\n",
       "           0.        ,  0.        ])),\n",
       "  (62, array([ 0.00061352,  0.00256248,  0.00285221, ...,  0.        ,\n",
       "           0.        ,  0.        ])),\n",
       "  (23, array([ 0.00063886,  0.00348276,  0.00177374, ...,  0.        ,\n",
       "           0.        ,  0.        ])),\n",
       "  (24, array([ 0.00064676,  0.00307751,  0.00162758, ...,  0.        ,\n",
       "           0.        ,  0.        ])),\n",
       "  (63, array([ 0.00063131,  0.00258138,  0.00256058, ...,  0.        ,\n",
       "           0.        ,  0.        ])),\n",
       "  (64, array([ 0.0006128 ,  0.00281196,  0.00201214, ...,  0.        ,\n",
       "           0.        ,  0.        ])),\n",
       "  (25, array([  6.11401666e-04,   3.52808253e-03,   2.04977397e-03, ...,\n",
       "            6.62745773e-05,   0.00000000e+00,   0.00000000e+00])),\n",
       "  (65, array([ 0.00015153,  0.00664814,  0.00408914, ...,  0.        ,\n",
       "           0.        ,  0.        ])),\n",
       "  (26, array([  6.08733204e-04,   2.78830165e-03,   2.54211940e-03, ...,\n",
       "            6.13092640e-05,   7.10165641e-05,   0.00000000e+00])),\n",
       "  (66, array([ 0.0005944 ,  0.        ,  0.00119792, ...,  0.        ,\n",
       "           0.        ,  0.        ])),\n",
       "  (27, array([  5.50159544e-04,   4.14175213e-03,   2.05726166e-03, ...,\n",
       "            1.26540318e-05,   4.08510874e-05,   5.79934598e-06])),\n",
       "  (67, array([ 0.00055627,  0.00440454,  0.00179955, ...,  0.        ,\n",
       "           0.00013192,  0.        ])),\n",
       "  (28, array([ 0.00066691,  0.00386734,  0.00153336, ...,  0.        ,\n",
       "           0.        ,  0.        ])),\n",
       "  (68, array([  5.73569240e-04,   3.13389289e-03,   2.03593168e-03, ...,\n",
       "            0.00000000e+00,   7.36137132e-05,   0.00000000e+00])),\n",
       "  (29, array([ 0.00057907,  0.0032696 ,  0.00231529, ...,  0.        ,\n",
       "           0.        ,  0.        ])),\n",
       "  (69, array([  6.06732764e-04,   2.76933841e-03,   2.87326476e-03, ...,\n",
       "            1.18437255e-04,   1.40010751e-05,   0.00000000e+00])),\n",
       "  (30, array([ 0.00068787,  0.00309916,  0.00206417, ...,  0.        ,\n",
       "           0.        ,  0.        ])),\n",
       "  (70, array([ 0.00059731,  0.0039499 ,  0.00192296, ...,  0.        ,\n",
       "           0.        ,  0.        ])),\n",
       "  (31, array([ 0.00058822,  0.00343316,  0.00230508, ...,  0.00015482,\n",
       "           0.        ,  0.        ])),\n",
       "  (32, array([ 0.00035168,  0.01147899,  0.        , ...,  0.        ,\n",
       "           0.        ,  0.        ])),\n",
       "  (71, array([  5.93578320e-04,   3.51386422e-03,   2.13178983e-03, ...,\n",
       "            2.90477180e-05,   0.00000000e+00,   1.41521277e-05])),\n",
       "  (72, array([ 0.00049462,  0.00078909,  0.00373792, ...,  0.        ,\n",
       "           0.        ,  0.        ])),\n",
       "  (33, array([ 0.00049802,  0.00403685,  0.00135236, ...,  0.        ,\n",
       "           0.        ,  0.        ])),\n",
       "  (73, array([  5.50239869e-04,   3.45612910e-03,   2.46312537e-03, ...,\n",
       "            0.00000000e+00,   6.49261614e-05,   0.00000000e+00])),\n",
       "  (34, array([ 0.00021477,  0.00233669,  0.00389553, ...,  0.        ,\n",
       "           0.        ,  0.        ])),\n",
       "  (74, array([  6.08434247e-04,   4.03203305e-03,   2.10058365e-03, ...,\n",
       "            8.13802939e-06,   2.90061684e-05,   1.25751921e-04])),\n",
       "  (35, array([ 0.00057115,  0.00214749,  0.00518172, ...,  0.        ,\n",
       "           0.        ,  0.        ])),\n",
       "  (75, array([ 0.00061297,  0.00291524,  0.00206339, ...,  0.        ,\n",
       "           0.        ,  0.        ])),\n",
       "  (36, array([ 0.00066481,  0.00428527,  0.00224157, ...,  0.        ,\n",
       "           0.        ,  0.        ])),\n",
       "  (76, array([  6.18432746e-04,   3.46690339e-03,   1.79954140e-03, ...,\n",
       "            2.23369781e-05,   0.00000000e+00,   0.00000000e+00])),\n",
       "  (37, array([ 0.00062114,  0.00135445,  0.00075268, ...,  0.        ,\n",
       "           0.        ,  0.        ])),\n",
       "  (77, array([ 0.00067498,  0.00268355,  0.00203194, ...,  0.        ,\n",
       "           0.        ,  0.        ])),\n",
       "  (38, array([ 0.00050241,  0.        ,  0.        , ...,  0.        ,\n",
       "           0.        ,  0.        ]))],\n",
       " [27967.33575621339, 22173.909203851395, 22022.730316505375])"
      ]
     },
     "execution_count": 39,
     "metadata": {},
     "output_type": "execute_result"
    }
   ],
   "source": [
    "text_results = Kmeans(sample_data, centroids, 3)\n",
    "text_results"
   ]
  },
  {
   "cell_type": "code",
   "execution_count": 40,
   "metadata": {
    "collapsed": false
   },
   "outputs": [
    {
     "data": {
      "text/plain": [
       "array([[   79, 13037],\n",
       "       [   98,  6957],\n",
       "       [   74,  6635],\n",
       "       [   27,  5514],\n",
       "       [   83,  3713],\n",
       "       [   64,  2545],\n",
       "       [   71,  2335],\n",
       "       [    8,  2174],\n",
       "       [   73,  1945],\n",
       "       [    9,  1862]])"
      ]
     },
     "execution_count": 40,
     "metadata": {},
     "output_type": "execute_result"
    }
   ],
   "source": [
    "filtered_res = text_results[0].reduceByKey(lambda x, y:  (x[0] ,x[1] + y[1]))\n",
    "common = filtered_res.map(lambda tup: (tup[0], tup[1][1])).filter(lambda x: x[1] > 1).collect()\n",
    "topics = np.array(common)\n",
    "top_topics = np.argsort(topics[:,1])[::-1][:10]\n",
    "topics[top_topics]"
   ]
  },
  {
   "cell_type": "code",
   "execution_count": 41,
   "metadata": {
    "collapsed": false
   },
   "outputs": [
    {
     "name": "stdout",
     "output_type": "stream",
     "text": [
      "Top Words for each Cluster:\n",
      "\n",
      "79: '', world, math, We, would, work, community, They, Our, see, children, kids, learning, want, year, life, project, class, learn, make\n",
      "\n",
      "\n",
      "98: technology, iPad, computer, computers, iPads, access, use, laptop, research, apps, learning, classroom, would, math, world, using, '', skills, projects, able\n",
      "\n",
      "\n",
      "74: books, reading, read, library, book, readers, level, '', love, leveled, home, nonfiction, grade, interest, want, levels, classroom, children, new, non-fiction\n",
      "\n",
      "\n",
      "27: reading, '', read, book, books, words, readers, children, comprehension, grade, love, skills, Reading, would, fluency, level, materials, want, word, time\n",
      "\n",
      "\n",
      "83: language, Spanish, English, centers, math, materials, skills, learning, vocabulary, activities, concepts, fun, practice, words, children, '', hands-on, games, learners, learn\n",
      "\n",
      "\n",
      "64: physical, sensory, special, disabilities, motor, needs, education, play, skills, children, equipment, '', fine, activities, Autism, materials, fitness, healthy, speech, activity\n",
      "\n",
      "\n",
      "71: science, Science, hands-on, materials, '', scientists, lab, scientific, concepts, explore, experiments, hands, world, activities, kits, experience, learning, life, labs, learn\n",
      "\n",
      "\n",
      "8: carpet, rug, supplies, garden, sit, space, plants, place, floor, materials, classroom, pencils, '', children, year, basic, We, would, learning, day\n",
      "\n",
      "\n",
      "73: art, paint, supplies, paper, Art, projects, create, creative, express, painting, arts, materials, '', artists, creativity, drawing, color, artwork, markers, crayons\n",
      "\n",
      "\n",
      "9: math, manipulatives, concepts, fractions, hands-on, materials, Math, fraction, counting, numbers, skills, understanding, games, fun, hands, centers, activities, '', learning, understand\n",
      "\n",
      "\n"
     ]
    }
   ],
   "source": [
    "import pandas as pd\n",
    "\n",
    "top_n = 20\n",
    "df = pd.DataFrame(text_results[1])\n",
    "\n",
    "df.columns = ['a', 'b']\n",
    "df_index = df.set_index('a')\n",
    "\n",
    "print \"Top Words for each Cluster:\\n\"\n",
    "\n",
    "for i , v in df_index.loc[topics[top_topics][:,0]].iterrows():\n",
    "    print \"%d: %s\" % (i, \", \".join(top_terms[j][0] for j in v.b.argsort()[::-1][:top_n]))\n",
    "    print \"\\n\""
   ]
  }
 ],
 "metadata": {
  "kernelspec": {
   "display_name": "Python 2",
   "language": "python",
   "name": "python2"
  },
  "language_info": {
   "codemirror_mode": {
    "name": "ipython",
    "version": 2
   },
   "file_extension": ".py",
   "mimetype": "text/x-python",
   "name": "python",
   "nbconvert_exporter": "python",
   "pygments_lexer": "ipython2",
   "version": "2.7.9"
  }
 },
 "nbformat": 4,
 "nbformat_minor": 0
}
