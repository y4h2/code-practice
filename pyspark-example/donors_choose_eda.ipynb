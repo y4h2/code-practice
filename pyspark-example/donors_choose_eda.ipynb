{
 "cells": [
  {
   "cell_type": "markdown",
   "metadata": {},
   "source": [
    "## Outline\n",
    "\n",
    "1. EDA on Donors choose\n",
    "    * look for missing values\n",
    "    * basic summary statistics\n",
    "    * correlations\n",
    "    * distribution of donations\n",
    "    * time series of donations: donate more around holidays?\n",
    "    * distribution of donation types —> spark DF to pandas DF\n",
    "    * look at number completed vs number pending"
   ]
  },
  {
   "cell_type": "markdown",
   "metadata": {},
   "source": [
    "## Raw Data\n",
    "\n",
    "Thankfully [Donors Choose](http://www.donorschoose.org/) has gracefully (and transparently) opened up all of their data. There are five main datasets found [here](http://data.donorschoose.org/open-data/overview/):\n",
    "* [Project Data (the main one we will use)](http://data.donorschoose.org/open-data/project-data/): All classroom projects that have been posted to the site, including lots of school info such as its NCES ID (government-issued), lat/long, and city/state/zip. Each row in the table is a classroom project. \n",
    "* [Donation Data (the largest and most specific)](http://data.donorschoose.org/open-data/donation-data/): All donations, including donor city, state, and partial-zip (when available). Each donation corresponds to a single classroom project so, for example, a donor can put 3 project donations in a check-out cart and pay for them with a single transaction.\n",
    "* [Gistcard Data](http://data.donorschoose.org/open-data/giftcard-data/): All gift cards purchased by an individual donor through our public website, including donor and recipient city, state, and partial-zip (when available). \n",
    "* [Project Resources Data](http://data.donorschoose.org/open-data/project-resource-data/): All materials/resources requested for the classroom projects, including vendor name. Each record corresponds to a single requested material/resource from a specific vendor. \n",
    "* [Project Essay Data](http://data.donorschoose.org/open-data/project-essay-data/): Full text of the teacher-written requests accompanying all classroom projects. The heart of each teacher’s classroom project request is their written request, including a project title, a free-form essay or series of paragraphs answering a series of questions, and a summary of the materials/resources requested.\n",
    "\n",
    "![relations](http://data.donorschoose.org/wp-content/uploads/2013/12/DonorsChoose-org-data-schema-04012011.png)"
   ]
  },
  {
   "cell_type": "code",
   "execution_count": 1,
   "metadata": {
    "collapsed": false
   },
   "outputs": [],
   "source": [
    "import pyspark as ps"
   ]
  },
  {
   "cell_type": "code",
   "execution_count": 2,
   "metadata": {
    "collapsed": false
   },
   "outputs": [
    {
     "data": {
      "text/plain": [
       "u'local'"
      ]
     },
     "execution_count": 2,
     "metadata": {},
     "output_type": "execute_result"
    }
   ],
   "source": [
    "# create a local Spark context\n",
    "sc = ps.SparkContext('local')\n",
    "\n",
    "# we can see that it uses all of the cores [*]\n",
    "sc.master"
   ]
  },
  {
   "cell_type": "code",
   "execution_count": 3,
   "metadata": {
    "collapsed": true
   },
   "outputs": [],
   "source": [
    "import os, ipdb\n",
    "\n",
    "# need to get local path since we are reading local files\n",
    "cwd = os.getcwd()"
   ]
  },
  {
   "cell_type": "code",
   "execution_count": 4,
   "metadata": {
    "collapsed": true
   },
   "outputs": [],
   "source": [
    "# need to download data from: https://s3.amazonaws.com/open_data/csv/opendata_projects.zip\n",
    "rdd = sc.textFile('file://' + cwd + '/data/donors_choose/opendata_projects.csv')"
   ]
  },
  {
   "cell_type": "code",
   "execution_count": 5,
   "metadata": {
    "collapsed": false
   },
   "outputs": [
    {
     "data": {
      "text/plain": [
       "771930"
      ]
     },
     "execution_count": 5,
     "metadata": {},
     "output_type": "execute_result"
    }
   ],
   "source": [
    "rdd.count()"
   ]
  },
  {
   "cell_type": "code",
   "execution_count": 6,
   "metadata": {
    "collapsed": false
   },
   "outputs": [
    {
     "data": {
      "text/plain": [
       "u'_projectid,_teacher_acctid,_schoolid,school_ncesid,school_latitude,school_longitude,school_city,school_state,school_zip,school_metro,school_district,school_county,school_charter,school_magnet,school_year_round,school_nlns,school_kipp,school_charter_ready_promise,teacher_prefix,teacher_teach_for_america,teacher_ny_teaching_fellow,primary_focus_subject,primary_focus_area,secondary_focus_subject,secondary_focus_area,resource_type,poverty_level,grade_level,vendor_shipping_charges,sales_tax,payment_processing_charges,fulfillment_labor_materials,total_price_excluding_optional_support,total_price_including_optional_support,students_reached,total_donations,num_donors,eligible_double_your_impact_match,eligible_almost_home_match,funding_status,date_posted,date_completed,date_thank_you_packet_mailed,date_expiration'"
      ]
     },
     "execution_count": 6,
     "metadata": {},
     "output_type": "execute_result"
    }
   ],
   "source": [
    "rdd.first()"
   ]
  },
  {
   "cell_type": "code",
   "execution_count": 7,
   "metadata": {
    "collapsed": false
   },
   "outputs": [
    {
     "data": {
      "text/plain": [
       "[u'_projectid,_teacher_acctid,_schoolid,school_ncesid,school_latitude,school_longitude,school_city,school_state,school_zip,school_metro,school_district,school_county,school_charter,school_magnet,school_year_round,school_nlns,school_kipp,school_charter_ready_promise,teacher_prefix,teacher_teach_for_america,teacher_ny_teaching_fellow,primary_focus_subject,primary_focus_area,secondary_focus_subject,secondary_focus_area,resource_type,poverty_level,grade_level,vendor_shipping_charges,sales_tax,payment_processing_charges,fulfillment_labor_materials,total_price_excluding_optional_support,total_price_including_optional_support,students_reached,total_donations,num_donors,eligible_double_your_impact_match,eligible_almost_home_match,funding_status,date_posted,date_completed,date_thank_you_packet_mailed,date_expiration',\n",
       " u'\"\"\"e565fb42185c6e9f22806ad9d5ac8a77\"\"\",\"\"\"2e17c8c91cb58132d8103a9aa8797e80\"\"\",\"\"\"45e7ddbdd7023f1eb65a6cc028d7414f\"\"\",360009001332,40.841691,-73.875457,Bronx,NY,10460,urban,New York City Dept Of Ed,Bronx,f,f,f,f,f,f,Mr.,f,f,Literacy,Literacy & Language,,,Books,highest poverty,Grades 9-12,,,,,280.02,341.49,0,308.00,1,f,f,completed,2007-03-08,2007-03-08,2007-03-08,2003-12-31']"
      ]
     },
     "execution_count": 7,
     "metadata": {},
     "output_type": "execute_result"
    }
   ],
   "source": [
    "rdd.take(2)"
   ]
  },
  {
   "cell_type": "code",
   "execution_count": 8,
   "metadata": {
    "collapsed": true
   },
   "outputs": [],
   "source": [
    "header = rdd.first()"
   ]
  },
  {
   "cell_type": "code",
   "execution_count": 9,
   "metadata": {
    "collapsed": true
   },
   "outputs": [],
   "source": [
    "rdd_no_header = rdd.filter(lambda row: row != header)"
   ]
  },
  {
   "cell_type": "code",
   "execution_count": 10,
   "metadata": {
    "collapsed": false
   },
   "outputs": [
    {
     "data": {
      "text/plain": [
       "u'\"\"\"e565fb42185c6e9f22806ad9d5ac8a77\"\"\",\"\"\"2e17c8c91cb58132d8103a9aa8797e80\"\"\",\"\"\"45e7ddbdd7023f1eb65a6cc028d7414f\"\"\",360009001332,40.841691,-73.875457,Bronx,NY,10460,urban,New York City Dept Of Ed,Bronx,f,f,f,f,f,f,Mr.,f,f,Literacy,Literacy & Language,,,Books,highest poverty,Grades 9-12,,,,,280.02,341.49,0,308.00,1,f,f,completed,2007-03-08,2007-03-08,2007-03-08,2003-12-31'"
      ]
     },
     "execution_count": 10,
     "metadata": {},
     "output_type": "execute_result"
    }
   ],
   "source": [
    "rdd_no_header.first()"
   ]
  },
  {
   "cell_type": "code",
   "execution_count": 11,
   "metadata": {
    "collapsed": false
   },
   "outputs": [
    {
     "data": {
      "text/plain": [
       "771929"
      ]
     },
     "execution_count": 11,
     "metadata": {},
     "output_type": "execute_result"
    }
   ],
   "source": [
    "rdd_no_header.count()"
   ]
  },
  {
   "cell_type": "code",
   "execution_count": 12,
   "metadata": {
    "collapsed": true
   },
   "outputs": [],
   "source": [
    "rdd_csv = rdd_no_header.map(lambda row: row.split(',')) "
   ]
  },
  {
   "cell_type": "markdown",
   "metadata": {},
   "source": [
    "## Data Quality"
   ]
  },
  {
   "cell_type": "code",
   "execution_count": 13,
   "metadata": {
    "collapsed": false
   },
   "outputs": [
    {
     "data": {
      "text/plain": [
       "44"
      ]
     },
     "execution_count": 13,
     "metadata": {},
     "output_type": "execute_result"
    }
   ],
   "source": [
    "# first quality check, consistent number of fields?\n",
    "header_list = header.split(',')\n",
    "columns_count = len(header_list)\n",
    "columns_count"
   ]
  },
  {
   "cell_type": "code",
   "execution_count": 14,
   "metadata": {
    "collapsed": false
   },
   "outputs": [
    {
     "data": {
      "text/plain": [
       "771894"
      ]
     },
     "execution_count": 14,
     "metadata": {},
     "output_type": "execute_result"
    }
   ],
   "source": [
    "rdd_csv.map(lambda row: len(row) == columns_count).sum()"
   ]
  },
  {
   "cell_type": "code",
   "execution_count": 15,
   "metadata": {
    "collapsed": false
   },
   "outputs": [
    {
     "data": {
      "text/plain": [
       "35"
      ]
     },
     "execution_count": 15,
     "metadata": {},
     "output_type": "execute_result"
    }
   ],
   "source": [
    "rdd_csv.map(lambda row: len(row) != columns_count).sum()"
   ]
  },
  {
   "cell_type": "code",
   "execution_count": 16,
   "metadata": {
    "collapsed": false
   },
   "outputs": [],
   "source": [
    "class RowSplitException(Exception):\n",
    "    pass"
   ]
  },
  {
   "cell_type": "code",
   "execution_count": 17,
   "metadata": {
    "collapsed": false
   },
   "outputs": [
    {
     "ename": "Py4JJavaError",
     "evalue": "An error occurred while calling z:org.apache.spark.api.python.PythonRDD.collectAndServe.\n: org.apache.spark.SparkException: Job aborted due to stage failure: Task 0 in stage 8.0 failed 1 times, most recent failure: Lost task 0.0 in stage 8.0 (TID 44, localhost): org.apache.spark.api.python.PythonException: Traceback (most recent call last):\n  File \"/Users/jonathandinu/spark-1.4.1-bin-hadoop2.4/python/lib/pyspark.zip/pyspark/worker.py\", line 111, in main\n    process()\n  File \"/Users/jonathandinu/spark-1.4.1-bin-hadoop2.4/python/lib/pyspark.zip/pyspark/worker.py\", line 106, in process\n    serializer.dump_stream(func(split_index, iterator), outfile)\n  File \"/Users/jonathandinu/spark-1.4.1-bin-hadoop2.4/python/pyspark/rdd.py\", line 2330, in pipeline_func\n    return func(split, prev_func(split, iterator))\n  File \"/Users/jonathandinu/spark-1.4.1-bin-hadoop2.4/python/pyspark/rdd.py\", line 2330, in pipeline_func\n    return func(split, prev_func(split, iterator))\n  File \"/Users/jonathandinu/spark-1.4.1-bin-hadoop2.4/python/pyspark/rdd.py\", line 2330, in pipeline_func\n    return func(split, prev_func(split, iterator))\n  File \"/Users/jonathandinu/spark-1.4.1-bin-hadoop2.4/python/pyspark/rdd.py\", line 2330, in pipeline_func\n    return func(split, prev_func(split, iterator))\n  File \"/Users/jonathandinu/spark-1.4.1-bin-hadoop2.4/python/pyspark/rdd.py\", line 316, in func\n    return f(iterator)\n  File \"/Users/jonathandinu/spark-1.4.1-bin-hadoop2.4/python/pyspark/rdd.py\", line 731, in processPartition\n    f(x)\n  File \"<ipython-input-17-38ffb2b4bfea>\", line 10, in throw_exception\nRowSplitException: [(u'_projectid', u'\"\"\"cf841ea7e1bda85b3426465238577311\"\"\"'),\n (u'_teacher_acctid', u'\"\"\"e4e5065e2512062b663cf799d6a8d95f\"\"\"'),\n (u'_schoolid', u'\"\"\"2e472567a2c3890e536302e1461c3a3e\"\"\"'),\n (u'school_ncesid', u'\"\"'),\n (u'school_latitude', u'40.714550'),\n (u'school_longitude', u'-74.007125'),\n (u'school_city', u'\"Bronx'),\n (u'school_state', u' N.Y.\"'),\n (u'school_zip', u'NY'),\n (u'school_metro', u'10473'),\n (u'school_district', u''),\n (u'school_county', u'Leadership Learning Support Organization'),\n (u'school_charter', u'Bronx'),\n (u'school_magnet', u'f'),\n (u'school_year_round', u'f'),\n (u'school_nlns', u'f'),\n (u'school_kipp', u'f'),\n (u'school_charter_ready_promise', u'f'),\n (u'teacher_prefix', u'f'),\n (u'teacher_teach_for_america', u'Mrs.'),\n (u'teacher_ny_teaching_fellow', u'f'),\n (u'primary_focus_subject', u'f'),\n (u'primary_focus_area', u'Literacy'),\n (u'secondary_focus_subject', u'Literacy & Language'),\n (u'secondary_focus_area', u''),\n (u'resource_type', u''),\n (u'poverty_level', u'Other'),\n (u'grade_level', u'highest poverty'),\n (u'vendor_shipping_charges', u'Grades PreK-2'),\n (u'sales_tax', u'20.88'),\n (u'payment_processing_charges', u'0.00'),\n (u'fulfillment_labor_materials', u'5.22'),\n (u'total_price_excluding_optional_support', u'17.00'),\n (u'total_price_including_optional_support', u'252.00'),\n (u'students_reached', u'307.32'),\n (u'total_donations', u'22'),\n (u'num_donors', u'0.00'),\n (u'eligible_double_your_impact_match', u'0'),\n (u'eligible_almost_home_match', u'f'),\n (u'funding_status', u'f'),\n (u'date_posted', u'expired'),\n (u'date_completed', u'2008-01-31'),\n (u'date_thank_you_packet_mailed', u''),\n (u'date_expiration', u'')]\n\n\tat org.apache.spark.api.python.PythonRDD$$anon$1.read(PythonRDD.scala:138)\n\tat org.apache.spark.api.python.PythonRDD$$anon$1.<init>(PythonRDD.scala:179)\n\tat org.apache.spark.api.python.PythonRDD.compute(PythonRDD.scala:97)\n\tat org.apache.spark.rdd.RDD.computeOrReadCheckpoint(RDD.scala:277)\n\tat org.apache.spark.rdd.RDD.iterator(RDD.scala:244)\n\tat org.apache.spark.scheduler.ResultTask.runTask(ResultTask.scala:63)\n\tat org.apache.spark.scheduler.Task.run(Task.scala:70)\n\tat org.apache.spark.executor.Executor$TaskRunner.run(Executor.scala:213)\n\tat java.util.concurrent.ThreadPoolExecutor.runWorker(ThreadPoolExecutor.java:1142)\n\tat java.util.concurrent.ThreadPoolExecutor$Worker.run(ThreadPoolExecutor.java:617)\n\tat java.lang.Thread.run(Thread.java:745)\n\nDriver stacktrace:\n\tat org.apache.spark.scheduler.DAGScheduler.org$apache$spark$scheduler$DAGScheduler$$failJobAndIndependentStages(DAGScheduler.scala:1273)\n\tat org.apache.spark.scheduler.DAGScheduler$$anonfun$abortStage$1.apply(DAGScheduler.scala:1264)\n\tat org.apache.spark.scheduler.DAGScheduler$$anonfun$abortStage$1.apply(DAGScheduler.scala:1263)\n\tat scala.collection.mutable.ResizableArray$class.foreach(ResizableArray.scala:59)\n\tat scala.collection.mutable.ArrayBuffer.foreach(ArrayBuffer.scala:47)\n\tat org.apache.spark.scheduler.DAGScheduler.abortStage(DAGScheduler.scala:1263)\n\tat org.apache.spark.scheduler.DAGScheduler$$anonfun$handleTaskSetFailed$1.apply(DAGScheduler.scala:730)\n\tat org.apache.spark.scheduler.DAGScheduler$$anonfun$handleTaskSetFailed$1.apply(DAGScheduler.scala:730)\n\tat scala.Option.foreach(Option.scala:236)\n\tat org.apache.spark.scheduler.DAGScheduler.handleTaskSetFailed(DAGScheduler.scala:730)\n\tat org.apache.spark.scheduler.DAGSchedulerEventProcessLoop.onReceive(DAGScheduler.scala:1457)\n\tat org.apache.spark.scheduler.DAGSchedulerEventProcessLoop.onReceive(DAGScheduler.scala:1418)\n\tat org.apache.spark.util.EventLoop$$anon$1.run(EventLoop.scala:48)\n",
     "output_type": "error",
     "traceback": [
      "\u001b[0;31m---------------------------------------------------------------------------\u001b[0m",
      "\u001b[0;31mPy4JJavaError\u001b[0m                             Traceback (most recent call last)",
      "\u001b[0;32m<ipython-input-17-38ffb2b4bfea>\u001b[0m in \u001b[0;36m<module>\u001b[0;34m()\u001b[0m\n\u001b[1;32m     12\u001b[0m         \u001b[0;32mpass\u001b[0m\u001b[0;34m\u001b[0m\u001b[0m\n\u001b[1;32m     13\u001b[0m \u001b[0;34m\u001b[0m\u001b[0m\n\u001b[0;32m---> 14\u001b[0;31m \u001b[0mrdd_csv\u001b[0m\u001b[0;34m.\u001b[0m\u001b[0mforeach\u001b[0m\u001b[0;34m(\u001b[0m\u001b[0mthrow_exception\u001b[0m\u001b[0;34m)\u001b[0m\u001b[0;34m\u001b[0m\u001b[0m\n\u001b[0m",
      "\u001b[0;32m/Users/jonathandinu/spark-1.4.1-bin-hadoop2.4/python/pyspark/rdd.pyc\u001b[0m in \u001b[0;36mforeach\u001b[0;34m(self, f)\u001b[0m\n\u001b[1;32m    731\u001b[0m                 \u001b[0mf\u001b[0m\u001b[0;34m(\u001b[0m\u001b[0mx\u001b[0m\u001b[0;34m)\u001b[0m\u001b[0;34m\u001b[0m\u001b[0m\n\u001b[1;32m    732\u001b[0m             \u001b[0;32mreturn\u001b[0m \u001b[0miter\u001b[0m\u001b[0;34m(\u001b[0m\u001b[0;34m[\u001b[0m\u001b[0;34m]\u001b[0m\u001b[0;34m)\u001b[0m\u001b[0;34m\u001b[0m\u001b[0m\n\u001b[0;32m--> 733\u001b[0;31m         \u001b[0mself\u001b[0m\u001b[0;34m.\u001b[0m\u001b[0mmapPartitions\u001b[0m\u001b[0;34m(\u001b[0m\u001b[0mprocessPartition\u001b[0m\u001b[0;34m)\u001b[0m\u001b[0;34m.\u001b[0m\u001b[0mcount\u001b[0m\u001b[0;34m(\u001b[0m\u001b[0;34m)\u001b[0m  \u001b[0;31m# Force evaluation\u001b[0m\u001b[0;34m\u001b[0m\u001b[0m\n\u001b[0m\u001b[1;32m    734\u001b[0m \u001b[0;34m\u001b[0m\u001b[0m\n\u001b[1;32m    735\u001b[0m     \u001b[0;32mdef\u001b[0m \u001b[0mforeachPartition\u001b[0m\u001b[0;34m(\u001b[0m\u001b[0mself\u001b[0m\u001b[0;34m,\u001b[0m \u001b[0mf\u001b[0m\u001b[0;34m)\u001b[0m\u001b[0;34m:\u001b[0m\u001b[0;34m\u001b[0m\u001b[0m\n",
      "\u001b[0;32m/Users/jonathandinu/spark-1.4.1-bin-hadoop2.4/python/pyspark/rdd.pyc\u001b[0m in \u001b[0;36mcount\u001b[0;34m(self)\u001b[0m\n\u001b[1;32m    982\u001b[0m         \u001b[0;36m3\u001b[0m\u001b[0;34m\u001b[0m\u001b[0m\n\u001b[1;32m    983\u001b[0m         \"\"\"\n\u001b[0;32m--> 984\u001b[0;31m         \u001b[0;32mreturn\u001b[0m \u001b[0mself\u001b[0m\u001b[0;34m.\u001b[0m\u001b[0mmapPartitions\u001b[0m\u001b[0;34m(\u001b[0m\u001b[0;32mlambda\u001b[0m \u001b[0mi\u001b[0m\u001b[0;34m:\u001b[0m \u001b[0;34m[\u001b[0m\u001b[0msum\u001b[0m\u001b[0;34m(\u001b[0m\u001b[0;36m1\u001b[0m \u001b[0;32mfor\u001b[0m \u001b[0m_\u001b[0m \u001b[0;32min\u001b[0m \u001b[0mi\u001b[0m\u001b[0;34m)\u001b[0m\u001b[0;34m]\u001b[0m\u001b[0;34m)\u001b[0m\u001b[0;34m.\u001b[0m\u001b[0msum\u001b[0m\u001b[0;34m(\u001b[0m\u001b[0;34m)\u001b[0m\u001b[0;34m\u001b[0m\u001b[0m\n\u001b[0m\u001b[1;32m    985\u001b[0m \u001b[0;34m\u001b[0m\u001b[0m\n\u001b[1;32m    986\u001b[0m     \u001b[0;32mdef\u001b[0m \u001b[0mstats\u001b[0m\u001b[0;34m(\u001b[0m\u001b[0mself\u001b[0m\u001b[0;34m)\u001b[0m\u001b[0;34m:\u001b[0m\u001b[0;34m\u001b[0m\u001b[0m\n",
      "\u001b[0;32m/Users/jonathandinu/spark-1.4.1-bin-hadoop2.4/python/pyspark/rdd.pyc\u001b[0m in \u001b[0;36msum\u001b[0;34m(self)\u001b[0m\n\u001b[1;32m    973\u001b[0m         \u001b[0;36m6.0\u001b[0m\u001b[0;34m\u001b[0m\u001b[0m\n\u001b[1;32m    974\u001b[0m         \"\"\"\n\u001b[0;32m--> 975\u001b[0;31m         \u001b[0;32mreturn\u001b[0m \u001b[0mself\u001b[0m\u001b[0;34m.\u001b[0m\u001b[0mmapPartitions\u001b[0m\u001b[0;34m(\u001b[0m\u001b[0;32mlambda\u001b[0m \u001b[0mx\u001b[0m\u001b[0;34m:\u001b[0m \u001b[0;34m[\u001b[0m\u001b[0msum\u001b[0m\u001b[0;34m(\u001b[0m\u001b[0mx\u001b[0m\u001b[0;34m)\u001b[0m\u001b[0;34m]\u001b[0m\u001b[0;34m)\u001b[0m\u001b[0;34m.\u001b[0m\u001b[0mfold\u001b[0m\u001b[0;34m(\u001b[0m\u001b[0;36m0\u001b[0m\u001b[0;34m,\u001b[0m \u001b[0moperator\u001b[0m\u001b[0;34m.\u001b[0m\u001b[0madd\u001b[0m\u001b[0;34m)\u001b[0m\u001b[0;34m\u001b[0m\u001b[0m\n\u001b[0m\u001b[1;32m    976\u001b[0m \u001b[0;34m\u001b[0m\u001b[0m\n\u001b[1;32m    977\u001b[0m     \u001b[0;32mdef\u001b[0m \u001b[0mcount\u001b[0m\u001b[0;34m(\u001b[0m\u001b[0mself\u001b[0m\u001b[0;34m)\u001b[0m\u001b[0;34m:\u001b[0m\u001b[0;34m\u001b[0m\u001b[0m\n",
      "\u001b[0;32m/Users/jonathandinu/spark-1.4.1-bin-hadoop2.4/python/pyspark/rdd.pyc\u001b[0m in \u001b[0;36mfold\u001b[0;34m(self, zeroValue, op)\u001b[0m\n\u001b[1;32m    850\u001b[0m                 \u001b[0macc\u001b[0m \u001b[0;34m=\u001b[0m \u001b[0mop\u001b[0m\u001b[0;34m(\u001b[0m\u001b[0mobj\u001b[0m\u001b[0;34m,\u001b[0m \u001b[0macc\u001b[0m\u001b[0;34m)\u001b[0m\u001b[0;34m\u001b[0m\u001b[0m\n\u001b[1;32m    851\u001b[0m             \u001b[0;32myield\u001b[0m \u001b[0macc\u001b[0m\u001b[0;34m\u001b[0m\u001b[0m\n\u001b[0;32m--> 852\u001b[0;31m         \u001b[0mvals\u001b[0m \u001b[0;34m=\u001b[0m \u001b[0mself\u001b[0m\u001b[0;34m.\u001b[0m\u001b[0mmapPartitions\u001b[0m\u001b[0;34m(\u001b[0m\u001b[0mfunc\u001b[0m\u001b[0;34m)\u001b[0m\u001b[0;34m.\u001b[0m\u001b[0mcollect\u001b[0m\u001b[0;34m(\u001b[0m\u001b[0;34m)\u001b[0m\u001b[0;34m\u001b[0m\u001b[0m\n\u001b[0m\u001b[1;32m    853\u001b[0m         \u001b[0;32mreturn\u001b[0m \u001b[0mreduce\u001b[0m\u001b[0;34m(\u001b[0m\u001b[0mop\u001b[0m\u001b[0;34m,\u001b[0m \u001b[0mvals\u001b[0m\u001b[0;34m,\u001b[0m \u001b[0mzeroValue\u001b[0m\u001b[0;34m)\u001b[0m\u001b[0;34m\u001b[0m\u001b[0m\n\u001b[1;32m    854\u001b[0m \u001b[0;34m\u001b[0m\u001b[0m\n",
      "\u001b[0;32m/Users/jonathandinu/spark-1.4.1-bin-hadoop2.4/python/pyspark/rdd.pyc\u001b[0m in \u001b[0;36mcollect\u001b[0;34m(self)\u001b[0m\n\u001b[1;32m    755\u001b[0m         \"\"\"\n\u001b[1;32m    756\u001b[0m         \u001b[0;32mwith\u001b[0m \u001b[0mSCCallSiteSync\u001b[0m\u001b[0;34m(\u001b[0m\u001b[0mself\u001b[0m\u001b[0;34m.\u001b[0m\u001b[0mcontext\u001b[0m\u001b[0;34m)\u001b[0m \u001b[0;32mas\u001b[0m \u001b[0mcss\u001b[0m\u001b[0;34m:\u001b[0m\u001b[0;34m\u001b[0m\u001b[0m\n\u001b[0;32m--> 757\u001b[0;31m             \u001b[0mport\u001b[0m \u001b[0;34m=\u001b[0m \u001b[0mself\u001b[0m\u001b[0;34m.\u001b[0m\u001b[0mctx\u001b[0m\u001b[0;34m.\u001b[0m\u001b[0m_jvm\u001b[0m\u001b[0;34m.\u001b[0m\u001b[0mPythonRDD\u001b[0m\u001b[0;34m.\u001b[0m\u001b[0mcollectAndServe\u001b[0m\u001b[0;34m(\u001b[0m\u001b[0mself\u001b[0m\u001b[0;34m.\u001b[0m\u001b[0m_jrdd\u001b[0m\u001b[0;34m.\u001b[0m\u001b[0mrdd\u001b[0m\u001b[0;34m(\u001b[0m\u001b[0;34m)\u001b[0m\u001b[0;34m)\u001b[0m\u001b[0;34m\u001b[0m\u001b[0m\n\u001b[0m\u001b[1;32m    758\u001b[0m         \u001b[0;32mreturn\u001b[0m \u001b[0mlist\u001b[0m\u001b[0;34m(\u001b[0m\u001b[0m_load_from_socket\u001b[0m\u001b[0;34m(\u001b[0m\u001b[0mport\u001b[0m\u001b[0;34m,\u001b[0m \u001b[0mself\u001b[0m\u001b[0;34m.\u001b[0m\u001b[0m_jrdd_deserializer\u001b[0m\u001b[0;34m)\u001b[0m\u001b[0;34m)\u001b[0m\u001b[0;34m\u001b[0m\u001b[0m\n\u001b[1;32m    759\u001b[0m \u001b[0;34m\u001b[0m\u001b[0m\n",
      "\u001b[0;32m/usr/local/lib/python2.7/site-packages/py4j/java_gateway.pyc\u001b[0m in \u001b[0;36m__call__\u001b[0;34m(self, *args)\u001b[0m\n\u001b[1;32m    811\u001b[0m         \u001b[0manswer\u001b[0m \u001b[0;34m=\u001b[0m \u001b[0mself\u001b[0m\u001b[0;34m.\u001b[0m\u001b[0mgateway_client\u001b[0m\u001b[0;34m.\u001b[0m\u001b[0msend_command\u001b[0m\u001b[0;34m(\u001b[0m\u001b[0mcommand\u001b[0m\u001b[0;34m)\u001b[0m\u001b[0;34m\u001b[0m\u001b[0m\n\u001b[1;32m    812\u001b[0m         return_value = get_return_value(\n\u001b[0;32m--> 813\u001b[0;31m             answer, self.gateway_client, self.target_id, self.name)\n\u001b[0m\u001b[1;32m    814\u001b[0m \u001b[0;34m\u001b[0m\u001b[0m\n\u001b[1;32m    815\u001b[0m         \u001b[0;32mfor\u001b[0m \u001b[0mtemp_arg\u001b[0m \u001b[0;32min\u001b[0m \u001b[0mtemp_args\u001b[0m\u001b[0;34m:\u001b[0m\u001b[0;34m\u001b[0m\u001b[0m\n",
      "\u001b[0;32m/usr/local/lib/python2.7/site-packages/py4j/protocol.pyc\u001b[0m in \u001b[0;36mget_return_value\u001b[0;34m(answer, gateway_client, target_id, name)\u001b[0m\n\u001b[1;32m    306\u001b[0m                 raise Py4JJavaError(\n\u001b[1;32m    307\u001b[0m                     \u001b[0;34m\"An error occurred while calling {0}{1}{2}.\\n\"\u001b[0m\u001b[0;34m.\u001b[0m\u001b[0;34m\u001b[0m\u001b[0m\n\u001b[0;32m--> 308\u001b[0;31m                     format(target_id, \".\", name), value)\n\u001b[0m\u001b[1;32m    309\u001b[0m             \u001b[0;32melse\u001b[0m\u001b[0;34m:\u001b[0m\u001b[0;34m\u001b[0m\u001b[0m\n\u001b[1;32m    310\u001b[0m                 raise Py4JError(\n",
      "\u001b[0;31mPy4JJavaError\u001b[0m: An error occurred while calling z:org.apache.spark.api.python.PythonRDD.collectAndServe.\n: org.apache.spark.SparkException: Job aborted due to stage failure: Task 0 in stage 8.0 failed 1 times, most recent failure: Lost task 0.0 in stage 8.0 (TID 44, localhost): org.apache.spark.api.python.PythonException: Traceback (most recent call last):\n  File \"/Users/jonathandinu/spark-1.4.1-bin-hadoop2.4/python/lib/pyspark.zip/pyspark/worker.py\", line 111, in main\n    process()\n  File \"/Users/jonathandinu/spark-1.4.1-bin-hadoop2.4/python/lib/pyspark.zip/pyspark/worker.py\", line 106, in process\n    serializer.dump_stream(func(split_index, iterator), outfile)\n  File \"/Users/jonathandinu/spark-1.4.1-bin-hadoop2.4/python/pyspark/rdd.py\", line 2330, in pipeline_func\n    return func(split, prev_func(split, iterator))\n  File \"/Users/jonathandinu/spark-1.4.1-bin-hadoop2.4/python/pyspark/rdd.py\", line 2330, in pipeline_func\n    return func(split, prev_func(split, iterator))\n  File \"/Users/jonathandinu/spark-1.4.1-bin-hadoop2.4/python/pyspark/rdd.py\", line 2330, in pipeline_func\n    return func(split, prev_func(split, iterator))\n  File \"/Users/jonathandinu/spark-1.4.1-bin-hadoop2.4/python/pyspark/rdd.py\", line 2330, in pipeline_func\n    return func(split, prev_func(split, iterator))\n  File \"/Users/jonathandinu/spark-1.4.1-bin-hadoop2.4/python/pyspark/rdd.py\", line 316, in func\n    return f(iterator)\n  File \"/Users/jonathandinu/spark-1.4.1-bin-hadoop2.4/python/pyspark/rdd.py\", line 731, in processPartition\n    f(x)\n  File \"<ipython-input-17-38ffb2b4bfea>\", line 10, in throw_exception\nRowSplitException: [(u'_projectid', u'\"\"\"cf841ea7e1bda85b3426465238577311\"\"\"'),\n (u'_teacher_acctid', u'\"\"\"e4e5065e2512062b663cf799d6a8d95f\"\"\"'),\n (u'_schoolid', u'\"\"\"2e472567a2c3890e536302e1461c3a3e\"\"\"'),\n (u'school_ncesid', u'\"\"'),\n (u'school_latitude', u'40.714550'),\n (u'school_longitude', u'-74.007125'),\n (u'school_city', u'\"Bronx'),\n (u'school_state', u' N.Y.\"'),\n (u'school_zip', u'NY'),\n (u'school_metro', u'10473'),\n (u'school_district', u''),\n (u'school_county', u'Leadership Learning Support Organization'),\n (u'school_charter', u'Bronx'),\n (u'school_magnet', u'f'),\n (u'school_year_round', u'f'),\n (u'school_nlns', u'f'),\n (u'school_kipp', u'f'),\n (u'school_charter_ready_promise', u'f'),\n (u'teacher_prefix', u'f'),\n (u'teacher_teach_for_america', u'Mrs.'),\n (u'teacher_ny_teaching_fellow', u'f'),\n (u'primary_focus_subject', u'f'),\n (u'primary_focus_area', u'Literacy'),\n (u'secondary_focus_subject', u'Literacy & Language'),\n (u'secondary_focus_area', u''),\n (u'resource_type', u''),\n (u'poverty_level', u'Other'),\n (u'grade_level', u'highest poverty'),\n (u'vendor_shipping_charges', u'Grades PreK-2'),\n (u'sales_tax', u'20.88'),\n (u'payment_processing_charges', u'0.00'),\n (u'fulfillment_labor_materials', u'5.22'),\n (u'total_price_excluding_optional_support', u'17.00'),\n (u'total_price_including_optional_support', u'252.00'),\n (u'students_reached', u'307.32'),\n (u'total_donations', u'22'),\n (u'num_donors', u'0.00'),\n (u'eligible_double_your_impact_match', u'0'),\n (u'eligible_almost_home_match', u'f'),\n (u'funding_status', u'f'),\n (u'date_posted', u'expired'),\n (u'date_completed', u'2008-01-31'),\n (u'date_thank_you_packet_mailed', u''),\n (u'date_expiration', u'')]\n\n\tat org.apache.spark.api.python.PythonRDD$$anon$1.read(PythonRDD.scala:138)\n\tat org.apache.spark.api.python.PythonRDD$$anon$1.<init>(PythonRDD.scala:179)\n\tat org.apache.spark.api.python.PythonRDD.compute(PythonRDD.scala:97)\n\tat org.apache.spark.rdd.RDD.computeOrReadCheckpoint(RDD.scala:277)\n\tat org.apache.spark.rdd.RDD.iterator(RDD.scala:244)\n\tat org.apache.spark.scheduler.ResultTask.runTask(ResultTask.scala:63)\n\tat org.apache.spark.scheduler.Task.run(Task.scala:70)\n\tat org.apache.spark.executor.Executor$TaskRunner.run(Executor.scala:213)\n\tat java.util.concurrent.ThreadPoolExecutor.runWorker(ThreadPoolExecutor.java:1142)\n\tat java.util.concurrent.ThreadPoolExecutor$Worker.run(ThreadPoolExecutor.java:617)\n\tat java.lang.Thread.run(Thread.java:745)\n\nDriver stacktrace:\n\tat org.apache.spark.scheduler.DAGScheduler.org$apache$spark$scheduler$DAGScheduler$$failJobAndIndependentStages(DAGScheduler.scala:1273)\n\tat org.apache.spark.scheduler.DAGScheduler$$anonfun$abortStage$1.apply(DAGScheduler.scala:1264)\n\tat org.apache.spark.scheduler.DAGScheduler$$anonfun$abortStage$1.apply(DAGScheduler.scala:1263)\n\tat scala.collection.mutable.ResizableArray$class.foreach(ResizableArray.scala:59)\n\tat scala.collection.mutable.ArrayBuffer.foreach(ArrayBuffer.scala:47)\n\tat org.apache.spark.scheduler.DAGScheduler.abortStage(DAGScheduler.scala:1263)\n\tat org.apache.spark.scheduler.DAGScheduler$$anonfun$handleTaskSetFailed$1.apply(DAGScheduler.scala:730)\n\tat org.apache.spark.scheduler.DAGScheduler$$anonfun$handleTaskSetFailed$1.apply(DAGScheduler.scala:730)\n\tat scala.Option.foreach(Option.scala:236)\n\tat org.apache.spark.scheduler.DAGScheduler.handleTaskSetFailed(DAGScheduler.scala:730)\n\tat org.apache.spark.scheduler.DAGSchedulerEventProcessLoop.onReceive(DAGScheduler.scala:1457)\n\tat org.apache.spark.scheduler.DAGSchedulerEventProcessLoop.onReceive(DAGScheduler.scala:1418)\n\tat org.apache.spark.util.EventLoop$$anon$1.run(EventLoop.scala:48)\n"
     ]
    }
   ],
   "source": [
    "import pprint\n",
    "\n",
    "def throw_exception(row):\n",
    "    if len(row) != columns_count:\n",
    "        row_zip = zip(header_list, row)\n",
    "        message = pprint.pformat(row_zip)\n",
    "        \n",
    "        print row\n",
    "        print message\n",
    "        raise RowSplitException(message)\n",
    "    else:\n",
    "        pass\n",
    "\n",
    "rdd_csv.foreach(throw_exception)"
   ]
  },
  {
   "cell_type": "code",
   "execution_count": 18,
   "metadata": {
    "collapsed": false
   },
   "outputs": [
    {
     "name": "stdout",
     "output_type": "stream",
     "text": [
      "['45', '3', '27.1', 'Jonathan', 'Dinu', '\"Galvanize\"', '\"San Francisco ', ' CA\"', ' 26']\n",
      "Naive splitting creates 9 fields\n",
      "\n",
      "\n",
      "['45', '3', '27.1', 'Jonathan', 'Dinu', 'Galvanize', 'San Francisco , CA', ' 26']\n",
      "Using the built in CSV library creates 8 fields\n"
     ]
    }
   ],
   "source": [
    "import csv\n",
    "\n",
    "record = '45,3,27.1,Jonathan,Dinu,\"Galvanize\",\"San Francisco , CA\", 26'\n",
    "\n",
    "naive = record.split(',')\n",
    "csv_lib = csv.reader(['45,3,27.1,Jonathan,Dinu,\"Galvanize\",\"San Francisco , CA\", 26']).next()\n",
    "\n",
    "print naive\n",
    "print \"Naive splitting creates {0} fields\".format(len(naive))\n",
    "print \"\\n\"\n",
    "\n",
    "print csv_lib\n",
    "print \"Using the built in CSV library creates {0} fields\".format(len(csv_lib))"
   ]
  },
  {
   "cell_type": "code",
   "execution_count": 19,
   "metadata": {
    "collapsed": true
   },
   "outputs": [],
   "source": [
    "rdd_csv_corrrect = rdd_no_header.map(lambda line: csv.reader([line]).next())"
   ]
  },
  {
   "cell_type": "code",
   "execution_count": 20,
   "metadata": {
    "collapsed": false
   },
   "outputs": [
    {
     "name": "stdout",
     "output_type": "stream",
     "text": [
      "YAY it worked!\n"
     ]
    }
   ],
   "source": [
    "rdd_csv_corrrect.foreach(throw_exception)\n",
    "print \"YAY it worked!\""
   ]
  },
  {
   "cell_type": "markdown",
   "metadata": {},
   "source": [
    "## Lets look at how Spark can help us EDA"
   ]
  },
  {
   "cell_type": "code",
   "execution_count": 21,
   "metadata": {
    "collapsed": true
   },
   "outputs": [],
   "source": [
    "rdd_no_dups = rdd_csv_corrrect.map(lambda row: str(row)).distinct()"
   ]
  },
  {
   "cell_type": "code",
   "execution_count": 22,
   "metadata": {
    "collapsed": false
   },
   "outputs": [
    {
     "data": {
      "text/plain": [
       "771929"
      ]
     },
     "execution_count": 22,
     "metadata": {},
     "output_type": "execute_result"
    }
   ],
   "source": [
    "rdd_no_dups.count()"
   ]
  },
  {
   "cell_type": "code",
   "execution_count": 23,
   "metadata": {
    "collapsed": false
   },
   "outputs": [
    {
     "data": {
      "text/plain": [
       "771929"
      ]
     },
     "execution_count": 23,
     "metadata": {},
     "output_type": "execute_result"
    }
   ],
   "source": [
    "# no duplicates in original RDD\n",
    "rdd_csv_corrrect.map(lambda row: str(row)).distinct().count()"
   ]
  },
  {
   "cell_type": "code",
   "execution_count": 24,
   "metadata": {
    "collapsed": false,
    "scrolled": true
   },
   "outputs": [
    {
     "data": {
      "text/plain": [
       "{u'_projectid': '\"e565fb42185c6e9f22806ad9d5ac8a77\"',\n",
       " u'_schoolid': '\"45e7ddbdd7023f1eb65a6cc028d7414f\"',\n",
       " u'_teacher_acctid': '\"2e17c8c91cb58132d8103a9aa8797e80\"',\n",
       " u'date_completed': '2007-03-08',\n",
       " u'date_expiration': '2003-12-31',\n",
       " u'date_posted': '2007-03-08',\n",
       " u'date_thank_you_packet_mailed': '2007-03-08',\n",
       " u'eligible_almost_home_match': 'f',\n",
       " u'eligible_double_your_impact_match': 'f',\n",
       " u'fulfillment_labor_materials': '',\n",
       " u'funding_status': 'completed',\n",
       " u'grade_level': 'Grades 9-12',\n",
       " u'num_donors': '1',\n",
       " u'payment_processing_charges': '',\n",
       " u'poverty_level': 'highest poverty',\n",
       " u'primary_focus_area': 'Literacy & Language',\n",
       " u'primary_focus_subject': 'Literacy',\n",
       " u'resource_type': 'Books',\n",
       " u'sales_tax': '',\n",
       " u'school_charter': 'f',\n",
       " u'school_charter_ready_promise': 'f',\n",
       " u'school_city': 'Bronx',\n",
       " u'school_county': 'Bronx',\n",
       " u'school_district': 'New York City Dept Of Ed',\n",
       " u'school_kipp': 'f',\n",
       " u'school_latitude': '40.841691',\n",
       " u'school_longitude': '-73.875457',\n",
       " u'school_magnet': 'f',\n",
       " u'school_metro': 'urban',\n",
       " u'school_ncesid': '360009001332',\n",
       " u'school_nlns': 'f',\n",
       " u'school_state': 'NY',\n",
       " u'school_year_round': 'f',\n",
       " u'school_zip': '10460',\n",
       " u'secondary_focus_area': '',\n",
       " u'secondary_focus_subject': '',\n",
       " u'students_reached': '0',\n",
       " u'teacher_ny_teaching_fellow': 'f',\n",
       " u'teacher_prefix': 'Mr.',\n",
       " u'teacher_teach_for_america': 'f',\n",
       " u'total_donations': '308.00',\n",
       " u'total_price_excluding_optional_support': '280.02',\n",
       " u'total_price_including_optional_support': '341.49',\n",
       " u'vendor_shipping_charges': ''}"
      ]
     },
     "execution_count": 24,
     "metadata": {},
     "output_type": "execute_result"
    }
   ],
   "source": [
    "# more easily access 'columns'\n",
    "rdd_dict = rdd_csv_corrrect.map(lambda row: dict(zip(header_list, row)))\n",
    "rdd_dict.first()"
   ]
  },
  {
   "cell_type": "markdown",
   "metadata": {},
   "source": [
    "## Unique Values"
   ]
  },
  {
   "cell_type": "code",
   "execution_count": 25,
   "metadata": {
    "collapsed": false
   },
   "outputs": [
    {
     "data": {
      "text/plain": [
       "62989L"
      ]
     },
     "execution_count": 25,
     "metadata": {},
     "output_type": "execute_result"
    }
   ],
   "source": [
    "# HyperLogLog\n",
    "rdd_dict.map(lambda row: row['_schoolid']).countApproxDistinct()"
   ]
  },
  {
   "cell_type": "code",
   "execution_count": 26,
   "metadata": {
    "collapsed": false
   },
   "outputs": [
    {
     "data": {
      "text/plain": [
       "61402"
      ]
     },
     "execution_count": 26,
     "metadata": {},
     "output_type": "execute_result"
    }
   ],
   "source": [
    "rdd_dict.map(lambda row: row['_schoolid']).distinct().count()"
   ]
  },
  {
   "cell_type": "markdown",
   "metadata": {},
   "source": [
    "With EDA approximate values are often good enough since you are just trying to get a sense of the data.  For example, what is the order of magnitude of counts or distinct values?"
   ]
  },
  {
   "cell_type": "markdown",
   "metadata": {},
   "source": [
    "In addition to getting a sense for the cardinality of a field to understand how many potential values a given column could have, these types of distinct counts can be used to evaluate further methods to use.\n",
    "\n",
    "If trying to visualize the distribution of a value that has very many distinct values, you might need to bucket your data. Or if you are trying to do a crosstab() you can only have so many distinct values."
   ]
  },
  {
   "cell_type": "code",
   "execution_count": 27,
   "metadata": {
    "collapsed": false
   },
   "outputs": [
    {
     "data": {
      "text/plain": [
       "124692L"
      ]
     },
     "execution_count": 27,
     "metadata": {},
     "output_type": "execute_result"
    }
   ],
   "source": [
    "# probably do not want to compute counts -> pandas.plot(kind='bar')\n",
    "rdd_dict.map(lambda row: row['total_price_excluding_optional_support']).countApproxDistinct()"
   ]
  },
  {
   "cell_type": "markdown",
   "metadata": {},
   "source": [
    "## Missing/Null Values"
   ]
  },
  {
   "cell_type": "code",
   "execution_count": 28,
   "metadata": {
    "collapsed": true
   },
   "outputs": [],
   "source": [
    "accum = sc.accumulator(0)"
   ]
  },
  {
   "cell_type": "code",
   "execution_count": 29,
   "metadata": {
    "collapsed": true
   },
   "outputs": [],
   "source": [
    "from collections import Counter"
   ]
  },
  {
   "cell_type": "code",
   "execution_count": 30,
   "metadata": {
    "collapsed": false
   },
   "outputs": [],
   "source": [
    "class CounterAccumulatorParam(ps.accumulators.AccumulatorParam):\n",
    "    def zero(self, initialValue):\n",
    "        return Counter()\n",
    "\n",
    "    def addInPlace(self, v1, v2):\n",
    "        v1 += v2\n",
    "        return v1"
   ]
  },
  {
   "cell_type": "code",
   "execution_count": 31,
   "metadata": {
    "collapsed": false
   },
   "outputs": [],
   "source": [
    "accum = sc.accumulator(Counter(), CounterAccumulatorParam())"
   ]
  },
  {
   "cell_type": "code",
   "execution_count": 32,
   "metadata": {
    "collapsed": true
   },
   "outputs": [],
   "source": [
    "def count_null(record):\n",
    "    global accum\n",
    "    \n",
    "    c = Counter()\n",
    "    \n",
    "    for key, value in record.items():\n",
    "            # since columns are initially strings\n",
    "            # empty string signals missing value\n",
    "            if value == '':\n",
    "                c[key] += 1\n",
    "                \n",
    "    accum.add(c)"
   ]
  },
  {
   "cell_type": "code",
   "execution_count": 33,
   "metadata": {
    "collapsed": false
   },
   "outputs": [],
   "source": [
    "rdd_dict.foreach(count_null)"
   ]
  },
  {
   "cell_type": "code",
   "execution_count": 34,
   "metadata": {
    "collapsed": false
   },
   "outputs": [
    {
     "data": {
      "text/plain": [
       "Counter({u'date_thank_you_packet_mailed': 305004, u'date_completed': 253218, u'secondary_focus_subject': 238255, u'secondary_focus_area': 238255, u'school_metro': 95180, u'school_ncesid': 50973, u'payment_processing_charges': 35082, u'vendor_shipping_charges': 35082, u'fulfillment_labor_materials': 35082, u'sales_tax': 35082, u'school_district': 918, u'date_expiration': 208, u'students_reached': 150, u'resource_type': 48, u'primary_focus_subject': 42, u'primary_focus_area': 42, u'grade_level': 33, u'teacher_prefix': 20, u'school_county': 18, u'school_zip': 4})"
      ]
     },
     "execution_count": 34,
     "metadata": {},
     "output_type": "execute_result"
    }
   ],
   "source": [
    "accum.value"
   ]
  },
  {
   "cell_type": "markdown",
   "metadata": {},
   "source": [
    "## Type conversion"
   ]
  },
  {
   "cell_type": "markdown",
   "metadata": {},
   "source": [
    "Spark is somewhat defensive in its typing, when you read in a textFile it well... assumes everything is text (i.e. Strings).  And with its type conversions, you either need to explicitly cast types in Spark, or convert to the appropriate type in Python through an RDD map.  In our case we are going to leverage the power of Spark and also to be sure of type parity we can use the same specification in our schema in our casting funciton.\n",
    "\n",
    "Somewhat awkwardly the default loading function cannot read in CSV.  If we want to specify the schema we can either: \n",
    "* convert the data to JSON and use the JSON loader with a schema specified\n",
    "* use an RDD which we transform into a format to create a dataframe\n",
    "\n",
    "I will show both here, but in the future we will use the SparkCSV module which eleviates the JSON trick.  Converting data type columns is useful however (though for an entire dataset can be combersome which is why we won't do it in the future) and here it will circumvent the need to copy our data file."
   ]
  },
  {
   "cell_type": "code",
   "execution_count": 35,
   "metadata": {
    "collapsed": true
   },
   "outputs": [],
   "source": [
    "from pyspark.sql.types import *\n",
    "from datetime import datetime"
   ]
  },
  {
   "cell_type": "code",
   "execution_count": 36,
   "metadata": {
    "collapsed": false
   },
   "outputs": [
    {
     "data": {
      "text/plain": [
       "[('t', 12184), ('f', 759745)]"
      ]
     },
     "execution_count": 36,
     "metadata": {},
     "output_type": "execute_result"
    }
   ],
   "source": [
    "# rdd value_counts()\n",
    "rdd_dict.map(lambda d: (d['teacher_ny_teaching_fellow'], 1)).reduceByKey(lambda a, b: a + b).collect()"
   ]
  },
  {
   "cell_type": "markdown",
   "metadata": {},
   "source": [
    "Given that our dataset represents Booleans as 't'/'f' strings and dates are simply strings we need to parse each column to convert it to the appropriate Python type beofre we can cast it to a Spark dataframe with a schema.\n",
    "\n",
    "Fortunately the cast mappings are somewhat consistent across columns.  For ID columns we want to strip the quotes."
   ]
  },
  {
   "cell_type": "code",
   "execution_count": 37,
   "metadata": {
    "collapsed": true
   },
   "outputs": [],
   "source": [
    "def quote_strip(field):\n",
    "    return field.strip('\"')"
   ]
  },
  {
   "cell_type": "code",
   "execution_count": 38,
   "metadata": {
    "collapsed": true
   },
   "outputs": [],
   "source": [
    "from datetime import datetime\n",
    "\n",
    "# http://strftime.org/\n",
    "def date_parse(datestring):\n",
    "    return None if datestring == '' else str(datetime.strptime(datestring, '%Y-%m-%d'))"
   ]
  },
  {
   "cell_type": "code",
   "execution_count": 39,
   "metadata": {
    "collapsed": true
   },
   "outputs": [],
   "source": [
    "def boolean_map(field):\n",
    "    if field == 't':\n",
    "        return True\n",
    "    elif field == 'f':\n",
    "        return False\n",
    "    else:\n",
    "        None"
   ]
  },
  {
   "cell_type": "markdown",
   "metadata": {},
   "source": [
    "For the other fields we simply need to do a type conversion (`int()` or `float()`). To make this somewhat manageable across so many columns (and to make sure our schema is consistent), I have defined the Spark schema apriori.  We will use this to programmatically convert our columns.  Since we will do this on the fly we need a lookup table for which conversion function to apply."
   ]
  },
  {
   "cell_type": "code",
   "execution_count": 40,
   "metadata": {
    "collapsed": true
   },
   "outputs": [],
   "source": [
    "type_conversion_func = {\n",
    "    'id': quote_strip,\n",
    "    'date': date_parse,\n",
    "    'boolean': boolean_map,\n",
    "    'float': lambda x: None if x == '' else float(x),\n",
    "    'integer': lambda x: None if x == '' else int(x),\n",
    "    'string': lambda x: None if x == '' else x\n",
    "}"
   ]
  },
  {
   "cell_type": "code",
   "execution_count": 41,
   "metadata": {
    "collapsed": false
   },
   "outputs": [
    {
     "data": {
      "text/plain": [
       "10.2"
      ]
     },
     "execution_count": 41,
     "metadata": {},
     "output_type": "execute_result"
    }
   ],
   "source": [
    "type_conversion_func['float']('10.2')"
   ]
  },
  {
   "cell_type": "code",
   "execution_count": 42,
   "metadata": {
    "collapsed": true
   },
   "outputs": [],
   "source": [
    "# Hand specified schema\n",
    "types = [\n",
    "    StringType(),\n",
    "    StringType(),\n",
    "    StringType(),\n",
    "    StringType(),\n",
    "    FloatType(),\n",
    "    FloatType(),\n",
    "    StringType(),\n",
    "    StringType(),\n",
    "    StringType(),\n",
    "    StringType(),\n",
    "    StringType(),\n",
    "    StringType(),\n",
    "    BooleanType(),\n",
    "    BooleanType(),\n",
    "    BooleanType(),\n",
    "    BooleanType(),\n",
    "    BooleanType(),\n",
    "    BooleanType(),\n",
    "    StringType(),\n",
    "    BooleanType(),\n",
    "    BooleanType(),\n",
    "    StringType(),\n",
    "    StringType(),\n",
    "    StringType(),\n",
    "    StringType(),\n",
    "    StringType(),\n",
    "    StringType(),\n",
    "    StringType(),\n",
    "    FloatType(),\n",
    "    FloatType(),\n",
    "    FloatType(),\n",
    "    FloatType(),\n",
    "    FloatType(),\n",
    "    FloatType(),\n",
    "    FloatType(),\n",
    "    FloatType(),\n",
    "    FloatType(),\n",
    "    BooleanType(),\n",
    "    BooleanType(),\n",
    "    StringType(),\n",
    "    DateType(),\n",
    "    DateType(),\n",
    "    DateType(),\n",
    "    DateType()\n",
    "]"
   ]
  },
  {
   "cell_type": "markdown",
   "metadata": {},
   "source": [
    "Now this is where we will use a little Python magic to intelligently introspect our collumns and apply the proper transform. Observe that:"
   ]
  },
  {
   "cell_type": "code",
   "execution_count": 43,
   "metadata": {
    "collapsed": true
   },
   "outputs": [],
   "source": [
    "ft = FloatType()"
   ]
  },
  {
   "cell_type": "code",
   "execution_count": 44,
   "metadata": {
    "collapsed": false
   },
   "outputs": [
    {
     "data": {
      "text/plain": [
       "'float'"
      ]
     },
     "execution_count": 44,
     "metadata": {},
     "output_type": "execute_result"
    }
   ],
   "source": [
    "ft.typeName()"
   ]
  },
  {
   "cell_type": "code",
   "execution_count": 45,
   "metadata": {
    "collapsed": false
   },
   "outputs": [
    {
     "data": {
      "text/plain": [
       "'string'"
      ]
     },
     "execution_count": 45,
     "metadata": {},
     "output_type": "execute_result"
    }
   ],
   "source": [
    "types[3].typeName()"
   ]
  },
  {
   "cell_type": "code",
   "execution_count": 46,
   "metadata": {
    "collapsed": false
   },
   "outputs": [
    {
     "data": {
      "text/plain": [
       "{u'_projectid': StringType,\n",
       " u'_schoolid': StringType,\n",
       " u'_teacher_acctid': StringType,\n",
       " u'date_completed': DateType,\n",
       " u'date_expiration': DateType,\n",
       " u'date_posted': DateType,\n",
       " u'date_thank_you_packet_mailed': DateType,\n",
       " u'eligible_almost_home_match': BooleanType,\n",
       " u'eligible_double_your_impact_match': BooleanType,\n",
       " u'fulfillment_labor_materials': FloatType,\n",
       " u'funding_status': StringType,\n",
       " u'grade_level': StringType,\n",
       " u'num_donors': FloatType,\n",
       " u'payment_processing_charges': FloatType,\n",
       " u'poverty_level': StringType,\n",
       " u'primary_focus_area': StringType,\n",
       " u'primary_focus_subject': StringType,\n",
       " u'resource_type': StringType,\n",
       " u'sales_tax': FloatType,\n",
       " u'school_charter': BooleanType,\n",
       " u'school_charter_ready_promise': BooleanType,\n",
       " u'school_city': StringType,\n",
       " u'school_county': StringType,\n",
       " u'school_district': StringType,\n",
       " u'school_kipp': BooleanType,\n",
       " u'school_latitude': FloatType,\n",
       " u'school_longitude': FloatType,\n",
       " u'school_magnet': BooleanType,\n",
       " u'school_metro': StringType,\n",
       " u'school_ncesid': StringType,\n",
       " u'school_nlns': BooleanType,\n",
       " u'school_state': StringType,\n",
       " u'school_year_round': BooleanType,\n",
       " u'school_zip': StringType,\n",
       " u'secondary_focus_area': StringType,\n",
       " u'secondary_focus_subject': StringType,\n",
       " u'students_reached': FloatType,\n",
       " u'teacher_ny_teaching_fellow': BooleanType,\n",
       " u'teacher_prefix': StringType,\n",
       " u'teacher_teach_for_america': BooleanType,\n",
       " u'total_donations': FloatType,\n",
       " u'total_price_excluding_optional_support': FloatType,\n",
       " u'total_price_including_optional_support': FloatType,\n",
       " u'vendor_shipping_charges': FloatType}"
      ]
     },
     "execution_count": 46,
     "metadata": {},
     "output_type": "execute_result"
    }
   ],
   "source": [
    "column_type_lookup = dict(zip(header_list, types))\n",
    "column_type_lookup"
   ]
  },
  {
   "cell_type": "code",
   "execution_count": 47,
   "metadata": {
    "collapsed": false
   },
   "outputs": [],
   "source": [
    "import json\n",
    "\n",
    "def convert_types(d):\n",
    "    for field in d:\n",
    "        if field[0] == \"_\":\n",
    "            transform = type_conversion_func['id']\n",
    "        else:\n",
    "            transform = type_conversion_func[column_type_lookup[field].typeName()]\n",
    "        \n",
    "        d[field] = transform(d[field])\n",
    "        \n",
    "    return json.dumps(d)"
   ]
  },
  {
   "cell_type": "code",
   "execution_count": 48,
   "metadata": {
    "collapsed": false
   },
   "outputs": [],
   "source": [
    "rdd_typed = rdd_dict.map(convert_types)"
   ]
  },
  {
   "cell_type": "code",
   "execution_count": 49,
   "metadata": {
    "collapsed": false
   },
   "outputs": [
    {
     "data": {
      "text/plain": [
       "['{\"total_price_including_optional_support\": 341.49, \"school_district\": \"New York City Dept Of Ed\", \"secondary_focus_area\": null, \"primary_focus_area\": \"Literacy & Language\", \"school_latitude\": 40.841691, \"date_thank_you_packet_mailed\": \"2007-03-08 00:00:00\", \"school_year_round\": false, \"school_charter\": false, \"_projectid\": \"e565fb42185c6e9f22806ad9d5ac8a77\", \"_schoolid\": \"45e7ddbdd7023f1eb65a6cc028d7414f\", \"teacher_teach_for_america\": false, \"school_magnet\": false, \"school_kipp\": false, \"date_posted\": \"2007-03-08 00:00:00\", \"payment_processing_charges\": null, \"grade_level\": \"Grades 9-12\", \"primary_focus_subject\": \"Literacy\", \"school_ncesid\": \"360009001332\", \"poverty_level\": \"highest poverty\", \"school_state\": \"NY\", \"school_charter_ready_promise\": false, \"teacher_prefix\": \"Mr.\", \"school_county\": \"Bronx\", \"date_expiration\": \"2003-12-31 00:00:00\", \"vendor_shipping_charges\": null, \"students_reached\": 0.0, \"school_city\": \"Bronx\", \"num_donors\": 1.0, \"eligible_double_your_impact_match\": false, \"funding_status\": \"completed\", \"school_longitude\": -73.875457, \"total_donations\": 308.0, \"teacher_ny_teaching_fellow\": false, \"date_completed\": \"2007-03-08 00:00:00\", \"secondary_focus_subject\": null, \"eligible_almost_home_match\": false, \"school_nlns\": false, \"school_metro\": \"urban\", \"fulfillment_labor_materials\": null, \"total_price_excluding_optional_support\": 280.02, \"sales_tax\": null, \"school_zip\": \"10460\", \"resource_type\": \"Books\", \"_teacher_acctid\": \"2e17c8c91cb58132d8103a9aa8797e80\"}']"
      ]
     },
     "execution_count": 49,
     "metadata": {},
     "output_type": "execute_result"
    }
   ],
   "source": [
    "rdd_typed.take(1)"
   ]
  },
  {
   "cell_type": "code",
   "execution_count": 50,
   "metadata": {
    "collapsed": false
   },
   "outputs": [],
   "source": [
    "from pyspark.sql import Row\n",
    "\n",
    "# create SQLContext for DataFrame\n",
    "sqlContext = ps.HiveContext(sc)"
   ]
  },
  {
   "cell_type": "code",
   "execution_count": 51,
   "metadata": {
    "collapsed": false
   },
   "outputs": [],
   "source": [
    "# infer schema\n",
    "df = sqlContext.jsonRDD(rdd_typed)"
   ]
  },
  {
   "cell_type": "code",
   "execution_count": 52,
   "metadata": {
    "collapsed": false
   },
   "outputs": [
    {
     "name": "stdout",
     "output_type": "stream",
     "text": [
      "root\n",
      " |-- _projectid: string (nullable = true)\n",
      " |-- _schoolid: string (nullable = true)\n",
      " |-- _teacher_acctid: string (nullable = true)\n",
      " |-- date_completed: string (nullable = true)\n",
      " |-- date_expiration: string (nullable = true)\n",
      " |-- date_posted: string (nullable = true)\n",
      " |-- date_thank_you_packet_mailed: string (nullable = true)\n",
      " |-- eligible_almost_home_match: boolean (nullable = true)\n",
      " |-- eligible_double_your_impact_match: boolean (nullable = true)\n",
      " |-- fulfillment_labor_materials: double (nullable = true)\n",
      " |-- funding_status: string (nullable = true)\n",
      " |-- grade_level: string (nullable = true)\n",
      " |-- num_donors: double (nullable = true)\n",
      " |-- payment_processing_charges: double (nullable = true)\n",
      " |-- poverty_level: string (nullable = true)\n",
      " |-- primary_focus_area: string (nullable = true)\n",
      " |-- primary_focus_subject: string (nullable = true)\n",
      " |-- resource_type: string (nullable = true)\n",
      " |-- sales_tax: double (nullable = true)\n",
      " |-- school_charter: boolean (nullable = true)\n",
      " |-- school_charter_ready_promise: boolean (nullable = true)\n",
      " |-- school_city: string (nullable = true)\n",
      " |-- school_county: string (nullable = true)\n",
      " |-- school_district: string (nullable = true)\n",
      " |-- school_kipp: boolean (nullable = true)\n",
      " |-- school_latitude: double (nullable = true)\n",
      " |-- school_longitude: double (nullable = true)\n",
      " |-- school_magnet: boolean (nullable = true)\n",
      " |-- school_metro: string (nullable = true)\n",
      " |-- school_ncesid: string (nullable = true)\n",
      " |-- school_nlns: boolean (nullable = true)\n",
      " |-- school_state: string (nullable = true)\n",
      " |-- school_year_round: boolean (nullable = true)\n",
      " |-- school_zip: string (nullable = true)\n",
      " |-- secondary_focus_area: string (nullable = true)\n",
      " |-- secondary_focus_subject: string (nullable = true)\n",
      " |-- students_reached: double (nullable = true)\n",
      " |-- teacher_ny_teaching_fellow: boolean (nullable = true)\n",
      " |-- teacher_prefix: string (nullable = true)\n",
      " |-- teacher_teach_for_america: boolean (nullable = true)\n",
      " |-- total_donations: double (nullable = true)\n",
      " |-- total_price_excluding_optional_support: double (nullable = true)\n",
      " |-- total_price_including_optional_support: double (nullable = true)\n",
      " |-- vendor_shipping_charges: double (nullable = true)\n",
      "\n"
     ]
    }
   ],
   "source": [
    "# unfortunately the date types didn't get inferrred\n",
    "df.printSchema()"
   ]
  },
  {
   "cell_type": "code",
   "execution_count": 53,
   "metadata": {
    "collapsed": true
   },
   "outputs": [],
   "source": [
    "structs = map(lambda x: StructField(*x), zip(header_list, types))"
   ]
  },
  {
   "cell_type": "code",
   "execution_count": 54,
   "metadata": {
    "collapsed": false
   },
   "outputs": [
    {
     "data": {
      "text/plain": [
       "[StructField(_projectid,StringType,true),\n",
       " StructField(_teacher_acctid,StringType,true),\n",
       " StructField(_schoolid,StringType,true),\n",
       " StructField(school_ncesid,StringType,true),\n",
       " StructField(school_latitude,FloatType,true),\n",
       " StructField(school_longitude,FloatType,true),\n",
       " StructField(school_city,StringType,true),\n",
       " StructField(school_state,StringType,true),\n",
       " StructField(school_zip,StringType,true),\n",
       " StructField(school_metro,StringType,true),\n",
       " StructField(school_district,StringType,true),\n",
       " StructField(school_county,StringType,true),\n",
       " StructField(school_charter,BooleanType,true),\n",
       " StructField(school_magnet,BooleanType,true),\n",
       " StructField(school_year_round,BooleanType,true),\n",
       " StructField(school_nlns,BooleanType,true),\n",
       " StructField(school_kipp,BooleanType,true),\n",
       " StructField(school_charter_ready_promise,BooleanType,true),\n",
       " StructField(teacher_prefix,StringType,true),\n",
       " StructField(teacher_teach_for_america,BooleanType,true),\n",
       " StructField(teacher_ny_teaching_fellow,BooleanType,true),\n",
       " StructField(primary_focus_subject,StringType,true),\n",
       " StructField(primary_focus_area,StringType,true),\n",
       " StructField(secondary_focus_subject,StringType,true),\n",
       " StructField(secondary_focus_area,StringType,true),\n",
       " StructField(resource_type,StringType,true),\n",
       " StructField(poverty_level,StringType,true),\n",
       " StructField(grade_level,StringType,true),\n",
       " StructField(vendor_shipping_charges,FloatType,true),\n",
       " StructField(sales_tax,FloatType,true),\n",
       " StructField(payment_processing_charges,FloatType,true),\n",
       " StructField(fulfillment_labor_materials,FloatType,true),\n",
       " StructField(total_price_excluding_optional_support,FloatType,true),\n",
       " StructField(total_price_including_optional_support,FloatType,true),\n",
       " StructField(students_reached,FloatType,true),\n",
       " StructField(total_donations,FloatType,true),\n",
       " StructField(num_donors,FloatType,true),\n",
       " StructField(eligible_double_your_impact_match,BooleanType,true),\n",
       " StructField(eligible_almost_home_match,BooleanType,true),\n",
       " StructField(funding_status,StringType,true),\n",
       " StructField(date_posted,DateType,true),\n",
       " StructField(date_completed,DateType,true),\n",
       " StructField(date_thank_you_packet_mailed,DateType,true),\n",
       " StructField(date_expiration,DateType,true)]"
      ]
     },
     "execution_count": 54,
     "metadata": {},
     "output_type": "execute_result"
    }
   ],
   "source": [
    "schema = StructType(structs)\n",
    "schema.fields"
   ]
  },
  {
   "cell_type": "code",
   "execution_count": 55,
   "metadata": {
    "collapsed": true
   },
   "outputs": [],
   "source": [
    "# force schema\n",
    "df_force = sqlContext.jsonRDD(rdd_typed, schema=schema)"
   ]
  },
  {
   "cell_type": "markdown",
   "metadata": {},
   "source": [
    "Now I have already converted this RDD into a dataframe in a similar manner to how we created a dataframe in the SQL video.  If you would like to see how I did it, please refer to the exercise notebook."
   ]
  },
  {
   "cell_type": "code",
   "execution_count": 56,
   "metadata": {
    "collapsed": false
   },
   "outputs": [
    {
     "name": "stdout",
     "output_type": "stream",
     "text": [
      "root\n",
      " |-- _projectid: string (nullable = true)\n",
      " |-- _teacher_acctid: string (nullable = true)\n",
      " |-- _schoolid: string (nullable = true)\n",
      " |-- school_ncesid: string (nullable = true)\n",
      " |-- school_latitude: float (nullable = true)\n",
      " |-- school_longitude: float (nullable = true)\n",
      " |-- school_city: string (nullable = true)\n",
      " |-- school_state: string (nullable = true)\n",
      " |-- school_zip: string (nullable = true)\n",
      " |-- school_metro: string (nullable = true)\n",
      " |-- school_district: string (nullable = true)\n",
      " |-- school_county: string (nullable = true)\n",
      " |-- school_charter: boolean (nullable = true)\n",
      " |-- school_magnet: boolean (nullable = true)\n",
      " |-- school_year_round: boolean (nullable = true)\n",
      " |-- school_nlns: boolean (nullable = true)\n",
      " |-- school_kipp: boolean (nullable = true)\n",
      " |-- school_charter_ready_promise: boolean (nullable = true)\n",
      " |-- teacher_prefix: string (nullable = true)\n",
      " |-- teacher_teach_for_america: boolean (nullable = true)\n",
      " |-- teacher_ny_teaching_fellow: boolean (nullable = true)\n",
      " |-- primary_focus_subject: string (nullable = true)\n",
      " |-- primary_focus_area: string (nullable = true)\n",
      " |-- secondary_focus_subject: string (nullable = true)\n",
      " |-- secondary_focus_area: string (nullable = true)\n",
      " |-- resource_type: string (nullable = true)\n",
      " |-- poverty_level: string (nullable = true)\n",
      " |-- grade_level: string (nullable = true)\n",
      " |-- vendor_shipping_charges: float (nullable = true)\n",
      " |-- sales_tax: float (nullable = true)\n",
      " |-- payment_processing_charges: float (nullable = true)\n",
      " |-- fulfillment_labor_materials: float (nullable = true)\n",
      " |-- total_price_excluding_optional_support: float (nullable = true)\n",
      " |-- total_price_including_optional_support: float (nullable = true)\n",
      " |-- students_reached: float (nullable = true)\n",
      " |-- total_donations: float (nullable = true)\n",
      " |-- num_donors: float (nullable = true)\n",
      " |-- eligible_double_your_impact_match: boolean (nullable = true)\n",
      " |-- eligible_almost_home_match: boolean (nullable = true)\n",
      " |-- funding_status: string (nullable = true)\n",
      " |-- date_posted: date (nullable = true)\n",
      " |-- date_completed: date (nullable = true)\n",
      " |-- date_thank_you_packet_mailed: date (nullable = true)\n",
      " |-- date_expiration: date (nullable = true)\n",
      "\n"
     ]
    }
   ],
   "source": [
    "df_force.printSchema()"
   ]
  },
  {
   "cell_type": "code",
   "execution_count": 57,
   "metadata": {
    "collapsed": false
   },
   "outputs": [
    {
     "data": {
      "text/plain": [
       "Row(_projectid=u'e565fb42185c6e9f22806ad9d5ac8a77', _teacher_acctid=u'2e17c8c91cb58132d8103a9aa8797e80', _schoolid=u'45e7ddbdd7023f1eb65a6cc028d7414f', school_ncesid=u'360009001332', school_latitude=40.84169006347656, school_longitude=-73.87545776367188, school_city=u'Bronx', school_state=u'NY', school_zip=u'10460', school_metro=u'urban', school_district=u'New York City Dept Of Ed', school_county=u'Bronx', school_charter=False, school_magnet=False, school_year_round=False, school_nlns=False, school_kipp=False, school_charter_ready_promise=False, teacher_prefix=u'Mr.', teacher_teach_for_america=False, teacher_ny_teaching_fellow=False, primary_focus_subject=u'Literacy', primary_focus_area=u'Literacy & Language', secondary_focus_subject=None, secondary_focus_area=None, resource_type=u'Books', poverty_level=u'highest poverty', grade_level=u'Grades 9-12', vendor_shipping_charges=None, sales_tax=None, payment_processing_charges=None, fulfillment_labor_materials=None, total_price_excluding_optional_support=280.0199890136719, total_price_including_optional_support=341.489990234375, students_reached=0.0, total_donations=308.0, num_donors=1.0, eligible_double_your_impact_match=False, eligible_almost_home_match=False, funding_status=u'completed', date_posted=datetime.date(2007, 3, 8), date_completed=datetime.date(2007, 3, 8), date_thank_you_packet_mailed=datetime.date(2007, 3, 8), date_expiration=datetime.date(2003, 12, 31))"
      ]
     },
     "execution_count": 57,
     "metadata": {},
     "output_type": "execute_result"
    }
   ],
   "source": [
    "# when schema forced, dates convert correctly\n",
    "df_force.first()"
   ]
  },
  {
   "cell_type": "code",
   "execution_count": 58,
   "metadata": {
    "collapsed": false
   },
   "outputs": [
    {
     "name": "stdout",
     "output_type": "stream",
     "text": [
      "+--------------------+--------------------+--------------------+-------------+---------------+----------------+-----------+------------+----------+------------+--------------------+--------------------+--------------+-------------+-----------------+-----------+-----------+----------------------------+--------------+-------------------------+--------------------------+---------------------+-------------------+-----------------------+--------------------+-------------+---------------+-----------+-----------------------+---------+--------------------------+---------------------------+--------------------------------------+--------------------------------------+----------------+---------------+----------+---------------------------------+--------------------------+--------------+-----------+--------------+----------------------------+---------------+\n",
      "|          _projectid|     _teacher_acctid|           _schoolid|school_ncesid|school_latitude|school_longitude|school_city|school_state|school_zip|school_metro|     school_district|       school_county|school_charter|school_magnet|school_year_round|school_nlns|school_kipp|school_charter_ready_promise|teacher_prefix|teacher_teach_for_america|teacher_ny_teaching_fellow|primary_focus_subject| primary_focus_area|secondary_focus_subject|secondary_focus_area|resource_type|  poverty_level|grade_level|vendor_shipping_charges|sales_tax|payment_processing_charges|fulfillment_labor_materials|total_price_excluding_optional_support|total_price_including_optional_support|students_reached|total_donations|num_donors|eligible_double_your_impact_match|eligible_almost_home_match|funding_status|date_posted|date_completed|date_thank_you_packet_mailed|date_expiration|\n",
      "+--------------------+--------------------+--------------------+-------------+---------------+----------------+-----------+------------+----------+------------+--------------------+--------------------+--------------+-------------+-----------------+-----------+-----------+----------------------------+--------------+-------------------------+--------------------------+---------------------+-------------------+-----------------------+--------------------+-------------+---------------+-----------+-----------------------+---------+--------------------------+---------------------------+--------------------------------------+--------------------------------------+----------------+---------------+----------+---------------------------------+--------------------------+--------------+-----------+--------------+----------------------------+---------------+\n",
      "|e565fb42185c6e9f2...|2e17c8c91cb58132d...|45e7ddbdd7023f1eb...| 360009001332|       40.84169|       -73.87546|      Bronx|          NY|     10460|       urban|New York City Dep...|               Bronx|         false|        false|            false|      false|      false|                       false|           Mr.|                    false|                     false|             Literacy|Literacy & Language|                   null|                null|        Books|highest poverty|Grades 9-12|                   null|     null|                      null|                       null|                                280.02|                                341.49|             0.0|          308.0|       1.0|                            false|                     false|     completed| 2007-03-08|    2007-03-08|                  2007-03-08|     2003-12-31|\n",
      "|76108ed46f99f27be...|6b3721c9585633fa7...|45e7ddbdd7023f1eb...| 360009001332|       40.84169|       -73.87546|      Bronx|          NY|     10460|       urban|New York City Dep...|               Bronx|         false|        false|            false|      false|      false|                       false|           Ms.|                    false|                     false| Health & Life Sci...|     Math & Science|                   null|                null|   Technology|highest poverty|Grades 9-12|                   null|     null|                      null|                       null|                                299.95|                                365.79|             0.0|          329.0|       1.0|                            false|                     false|     completed| 2002-11-11|    2002-12-06|                  2002-12-06|     2003-12-31|\n",
      "|2568882e490684975...|ed55d66251be5810b...|923a1f4850d4e09ad...| 360007702871|       40.74221|      -74.002045|   New York|          NY|     10011|       urban|New York City Dep...|New York (Manhattan)|         false|        false|            false|      false|      false|                       false|           Mr.|                    false|                     false|      Performing Arts|   Music & The Arts|                   null|                null|        Trips|highest poverty|Grades 9-12|                   null|     null|                      null|                       null|                                 290.0|                                353.66|             0.0|          319.0|       1.0|                            false|                     false|     completed| 2002-11-11|    2002-12-09|                  2002-12-09|     2003-12-31|\n",
      "|e49f6d07f9da7086d...|ba7ada7b8ef61280b...|45e7ddbdd7023f1eb...| 360009001332|       40.84169|       -73.87546|      Bronx|          NY|     10460|       urban|New York City Dep...|               Bronx|         false|        false|            false|      false|      false|                       false|           Ms.|                    false|                     false| College & Career ...|   Applied Learning|                   null|                null|        Books|highest poverty|Grades 9-12|                   null|     null|                      null|                       null|                                348.04|                                424.44|             0.0|          382.0|       1.0|                            false|                     false|     completed| 2002-11-11|    2002-12-06|                  2002-12-06|     2003-12-31|\n",
      "|548b161b4e808fb58...|58574f5ee5f3d74a4...|45e7ddbdd7023f1eb...| 360009001332|       40.84169|       -73.87546|      Bronx|          NY|     10460|       urban|New York City Dep...|               Bronx|         false|        false|            false|      false|      false|                       false|           Ms.|                    false|                     false|  Character Education|   Applied Learning|                   null|                null|        Books|highest poverty|Grades 9-12|                   null|     null|                      null|                       null|                                297.39|                                362.67|             0.0|          327.0|       1.0|                            false|                     false|     completed| 2002-11-11|    2002-12-06|                  2002-12-06|     2003-12-31|\n",
      "|dfc5e3a3bd22d8ee9...|fedc7312fac70db43...|45e7ddbdd7023f1eb...| 360009001332|       40.84169|       -73.87546|      Bronx|          NY|     10460|       urban|New York City Dep...|               Bronx|         false|        false|            false|      false|      false|                       false|           Ms.|                    false|                     false| Literature & Writing|Literacy & Language|                   null|                null|        Books|highest poverty|Grades 9-12|                   null|     null|                      null|                       null|                                388.39|                                473.65|             0.0|         388.39|       1.0|                            false|                     false|     completed| 2002-11-11|    2002-12-06|                  2002-12-06|     2003-12-31|\n",
      "|be3c6a88818ef68fd...|2e6deb2edcb9b2ef9...|45e7ddbdd7023f1eb...| 360009001332|       40.84169|       -73.87546|      Bronx|          NY|     10460|       urban|New York City Dep...|               Bronx|         false|        false|            false|      false|      false|                       false|           Ms.|                    false|                     false|  History & Geography|   History & Civics|                   null|                null|   Technology|highest poverty|Grades 9-12|                   null|     null|                      null|                       null|                                 402.0|                                490.24|             0.0|          402.0|       1.0|                            false|                     false|     completed| 2002-11-11|    2002-12-06|                  2002-12-06|     2003-12-31|\n",
      "|dd7ed1d74f70fb0e7...|d8f151a88a6d298fe...|45e7ddbdd7023f1eb...| 360009001332|       40.84169|       -73.87546|      Bronx|          NY|     10460|       urban|New York City Dep...|               Bronx|         false|        false|            false|      false|      false|                       false|           Mr.|                    false|                     false|  History & Geography|   History & Civics|                   null|                null|     Visitors|highest poverty|Grades 9-12|                   null|     null|                      null|                       null|                                 400.0|                                 487.8|             0.0|          440.0|       1.0|                            false|                     false|     completed| 2002-11-11|    2002-12-09|                  2002-12-09|     2001-12-31|\n",
      "|c5d4a7877c463ed59...|262af4de852862825...|8c9ab8c0210743816...|         null|      40.826958|       -73.89222|      BRONX|          NY|     10459|        null|                null|               Bronx|         false|        false|            false|      false|      false|                       false|           Ms.|                    false|                     false| Literature & Writing|Literacy & Language|                   null|                null|        Books|    low poverty|Grades 9-12|                   null|     null|                      null|                       null|                                321.19|                                 391.7|             0.0|          353.0|       1.0|                            false|                     false|     completed| 2002-11-11|    2002-12-06|                  2002-12-06|     2003-12-31|\n",
      "|8d94b238b50e7fade...|f8e7fa9cc031249fa...|15b661612d21c9dd3...|         null|      40.826958|       -73.89222|      Bronx|          NY|     10459|        null|                null|               Bronx|         false|        false|            false|      false|      false|                       false|           Ms.|                    false|                     false| Environmental Sci...|     Math & Science|                   null|                null|   Technology|highest poverty|Grades 9-12|                   null|     null|                      null|                       null|                                 900.0|                               1097.56|             0.0|         1000.0|       1.0|                            false|                     false|     completed| 2002-11-11|    2002-12-06|                  2002-12-06|     2003-12-31|\n",
      "|8b19da4400111a0d6...|760f8b3ac86e3ac28...|45e7ddbdd7023f1eb...| 360009001332|       40.84169|       -73.87546|      Bronx|          NY|     10460|       urban|New York City Dep...|               Bronx|         false|        false|            false|      false|      false|                       false|           Ms.|                    false|                     false|             Literacy|Literacy & Language|                   null|                null|        Books|highest poverty|Grades 9-12|                   null|     null|                      null|                       null|                                846.35|                               1032.13|             0.0|         846.35|       1.0|                            false|                     false|     completed| 2002-11-11|    2002-12-06|                  2002-12-06|     2003-12-31|\n",
      "|4f93f03be059a8772...|e5d28482308e20079...|9bc7d4d92193a4536...| 360009705560|       40.70178|       -74.01184|   New York|          NY|     10004|       urban|               Other|New York (Manhattan)|         false|        false|            false|      false|      false|                       false|           Mr.|                    false|                     false|      Performing Arts|   Music & The Arts|                   null|                null|        Other|highest poverty|Grades 9-12|                   null|     null|                      null|                       null|                                 300.0|                                365.85|             0.0|          300.0|       1.0|                            false|                     false|     completed| 2002-11-11|    2002-12-06|                  2002-12-06|     2003-12-31|\n",
      "|eef82859f1dd503d0...|8fb8a281a46527b9e...|45e7ddbdd7023f1eb...| 360009001332|       40.84169|       -73.87546|      Bronx|          NY|     10460|       urban|New York City Dep...|               Bronx|         false|        false|            false|      false|      false|                       false|           Mr.|                    false|                     false|  History & Geography|   History & Civics|                   null|                null|   Technology|highest poverty|Grades 9-12|                   null|     null|                      null|                       null|                                4000.0|                               4878.05|             0.0|         4600.0|       2.0|                            false|                     false|     completed| 2003-01-18|    2003-04-18|                  2003-08-28|     2003-12-31|\n",
      "|f38c2d5f55f4078eb...|964aa5f2734897fbd...|eab5debe9b88fbb9b...| 360007703705|      40.783325|       -73.94593|   New York|          NY|     10128|       urban|New York City Dep...|New York (Manhattan)|         false|        false|            false|      false|      false|                       false|           Ms.|                    false|                     false| Literature & Writing|Literacy & Language|                   null|                null|        Books|highest poverty| Grades 6-8|                   null|     null|                      null|                       null|                                335.27|                                408.87|             0.0|         335.27|       1.0|                            false|                     false|     completed| 2002-11-11|    2002-12-09|                  2002-12-09|     2003-12-31|\n",
      "|ec6717d760d379863...|8fb8a281a46527b9e...|45e7ddbdd7023f1eb...| 360009001332|       40.84169|       -73.87546|      Bronx|          NY|     10460|       urban|New York City Dep...|               Bronx|         false|        false|            false|      false|      false|                       false|           Mr.|                    false|                     false|      Extracurricular|   Applied Learning|                   null|                null|     Supplies|highest poverty|Grades 9-12|                   null|     null|                      null|                       null|                                230.89|                                281.57|             0.0|          253.0|       1.0|                            false|                     false|     completed| 2002-11-11|    2002-12-06|                  2002-12-06|     2003-12-31|\n",
      "|17466db6d832881ba...|dab65ac402878a610...|1ae4695be589a3681...| 360007700585|       40.76552|       -73.96009|   New York|          NY|     10065|        null|New York City Dep...|New York (Manhattan)|         false|        false|            false|      false|      false|                       false|           Ms.|                    false|                     false|          Visual Arts|   Music & The Arts|                   null|                null|        Other|highest poverty|Grades 9-12|                   null|     null|                      null|                       null|                                 350.0|                                426.83|             0.0|          350.0|       1.0|                            false|                     false|     completed| 2002-11-11|    2002-12-06|                  2002-12-06|     2003-12-31|\n",
      "|f4a27a5e375c9a496...|5955995b38eba124a...|5c5c444dd1bf31c3b...| 360007705566|      40.768253|      -73.988976|   New York|          NY|     10019|       urban|Empowerment Suppo...|New York (Manhattan)|         false|        false|            false|      false|      false|                       false|           Ms.|                    false|                     false|    Early Development|   Applied Learning|                   null|                null|   Technology|highest poverty|Grades 9-12|                   null|     null|                      null|                       null|                                2700.0|                               3292.68|             0.0|         2970.0|       1.0|                            false|                     false|     completed| 2002-10-03|    2002-10-03|                  2003-01-06|     2003-12-31|\n",
      "|52b04391f8e0284e4...|ded4b1235dbdaedeb...|8c9ab8c0210743816...|         null|      40.826958|       -73.89222|      BRONX|          NY|     10459|        null|                null|               Bronx|         false|        false|            false|      false|      false|                       false|           Ms.|                    false|                     false|      Performing Arts|   Music & The Arts|                   null|                null|     Supplies|    low poverty|Grades 9-12|                   null|     null|                      null|                       null|                                 500.0|                                609.76|             0.0|          500.0|       1.0|                            false|                     false|     completed| 2002-11-11|    2002-12-06|                  2002-12-06|     2003-12-31|\n",
      "|c97b3d603e499978c...|263a93c35a3a52ea1...|cb1ac51c57e5ecb8f...| 360009200826|       40.68683|       -73.98084|   Brooklyn|          NY|     11217|       urban|New York City Dep...|    Kings (Brooklyn)|         false|        false|            false|      false|      false|                       false|           Ms.|                    false|                     false|          Mathematics|     Math & Science|                   null|                null|        Trips|highest poverty|Grades 9-12|                   null|     null|                      null|                       null|                                 650.0|                                792.68|             0.0|          700.0|       3.0|                            false|                     false|     completed| 2002-11-11|    2002-12-06|                  2002-12-06|     2003-12-31|\n",
      "|0cab719d819193626...|2e17c8c91cb58132d...|45e7ddbdd7023f1eb...| 360009001332|       40.84169|       -73.87546|      Bronx|          NY|     10460|       urban|New York City Dep...|               Bronx|         false|        false|            false|      false|      false|                       false|           Mr.|                    false|                     false| Literature & Writing|Literacy & Language|                   null|                null|   Technology|highest poverty|Grades 9-12|                   null|     null|                      null|                       null|                                 527.4|                                643.17|             0.0|          590.0|       9.0|                            false|                     false|     completed| 2002-11-11|    2002-12-06|                  2002-12-06|     2003-12-31|\n",
      "+--------------------+--------------------+--------------------+-------------+---------------+----------------+-----------+------------+----------+------------+--------------------+--------------------+--------------+-------------+-----------------+-----------+-----------+----------------------------+--------------+-------------------------+--------------------------+---------------------+-------------------+-----------------------+--------------------+-------------+---------------+-----------+-----------------------+---------+--------------------------+---------------------------+--------------------------------------+--------------------------------------+----------------+---------------+----------+---------------------------------+--------------------------+--------------+-----------+--------------+----------------------------+---------------+\n",
      "\n"
     ]
    }
   ],
   "source": [
    "df_force.show()"
   ]
  },
  {
   "cell_type": "code",
   "execution_count": 59,
   "metadata": {
    "collapsed": false
   },
   "outputs": [],
   "source": [
    "# subselect relevant columns\n",
    "df_subselect = df_force.select('school_city', 'primary_focus_area', \\\n",
    "                               df_force['resource_type'].alias('resource'), \\\n",
    "                               'poverty_level','grade_level', \\\n",
    "                               df_force['total_price_excluding_optional_support'].alias('p_exclude'), \\\n",
    "                               df_force['total_donations'].alias('total_d'), \\\n",
    "                               df_force['funding_status'].alias('status'))"
   ]
  },
  {
   "cell_type": "code",
   "execution_count": 60,
   "metadata": {
    "collapsed": false,
    "scrolled": true
   },
   "outputs": [
    {
     "name": "stdout",
     "output_type": "stream",
     "text": [
      "+-----------+-------------------+----------+---------------+-----------+---------+-------+---------+\n",
      "|school_city| primary_focus_area|  resource|  poverty_level|grade_level|p_exclude|total_d|   status|\n",
      "+-----------+-------------------+----------+---------------+-----------+---------+-------+---------+\n",
      "|      Bronx|Literacy & Language|     Books|highest poverty|Grades 9-12|   280.02|  308.0|completed|\n",
      "|      Bronx|     Math & Science|Technology|highest poverty|Grades 9-12|   299.95|  329.0|completed|\n",
      "|   New York|   Music & The Arts|     Trips|highest poverty|Grades 9-12|    290.0|  319.0|completed|\n",
      "|      Bronx|   Applied Learning|     Books|highest poverty|Grades 9-12|   348.04|  382.0|completed|\n",
      "|      Bronx|   Applied Learning|     Books|highest poverty|Grades 9-12|   297.39|  327.0|completed|\n",
      "|      Bronx|Literacy & Language|     Books|highest poverty|Grades 9-12|   388.39| 388.39|completed|\n",
      "|      Bronx|   History & Civics|Technology|highest poverty|Grades 9-12|    402.0|  402.0|completed|\n",
      "|      Bronx|   History & Civics|  Visitors|highest poverty|Grades 9-12|    400.0|  440.0|completed|\n",
      "|      BRONX|Literacy & Language|     Books|    low poverty|Grades 9-12|   321.19|  353.0|completed|\n",
      "|      Bronx|     Math & Science|Technology|highest poverty|Grades 9-12|    900.0| 1000.0|completed|\n",
      "|      Bronx|Literacy & Language|     Books|highest poverty|Grades 9-12|   846.35| 846.35|completed|\n",
      "|   New York|   Music & The Arts|     Other|highest poverty|Grades 9-12|    300.0|  300.0|completed|\n",
      "|      Bronx|   History & Civics|Technology|highest poverty|Grades 9-12|   4000.0| 4600.0|completed|\n",
      "|   New York|Literacy & Language|     Books|highest poverty| Grades 6-8|   335.27| 335.27|completed|\n",
      "|      Bronx|   Applied Learning|  Supplies|highest poverty|Grades 9-12|   230.89|  253.0|completed|\n",
      "|   New York|   Music & The Arts|     Other|highest poverty|Grades 9-12|    350.0|  350.0|completed|\n",
      "|   New York|   Applied Learning|Technology|highest poverty|Grades 9-12|   2700.0| 2970.0|completed|\n",
      "|      BRONX|   Music & The Arts|  Supplies|    low poverty|Grades 9-12|    500.0|  500.0|completed|\n",
      "|   Brooklyn|     Math & Science|     Trips|highest poverty|Grades 9-12|    650.0|  700.0|completed|\n",
      "|      Bronx|Literacy & Language|Technology|highest poverty|Grades 9-12|    527.4|  590.0|completed|\n",
      "+-----------+-------------------+----------+---------------+-----------+---------+-------+---------+\n",
      "\n"
     ]
    }
   ],
   "source": [
    "# formats nicely now\n",
    "df_subselect.show()"
   ]
  },
  {
   "cell_type": "markdown",
   "metadata": {},
   "source": [
    "## Null Values Checks (take 2)"
   ]
  },
  {
   "cell_type": "code",
   "execution_count": 61,
   "metadata": {
    "collapsed": false,
    "scrolled": true
   },
   "outputs": [
    {
     "data": {
      "text/plain": [
       "[Row(students_reached=None, funding_status=u'completed'),\n",
       " Row(students_reached=None, funding_status=u'completed'),\n",
       " Row(students_reached=None, funding_status=u'expired'),\n",
       " Row(students_reached=None, funding_status=u'completed'),\n",
       " Row(students_reached=None, funding_status=u'completed'),\n",
       " Row(students_reached=None, funding_status=u'expired'),\n",
       " Row(students_reached=None, funding_status=u'expired'),\n",
       " Row(students_reached=None, funding_status=u'completed'),\n",
       " Row(students_reached=None, funding_status=u'expired'),\n",
       " Row(students_reached=None, funding_status=u'completed'),\n",
       " Row(students_reached=None, funding_status=u'expired'),\n",
       " Row(students_reached=None, funding_status=u'expired'),\n",
       " Row(students_reached=None, funding_status=u'completed'),\n",
       " Row(students_reached=None, funding_status=u'expired'),\n",
       " Row(students_reached=None, funding_status=u'expired'),\n",
       " Row(students_reached=None, funding_status=u'completed'),\n",
       " Row(students_reached=None, funding_status=u'completed'),\n",
       " Row(students_reached=None, funding_status=u'expired'),\n",
       " Row(students_reached=None, funding_status=u'expired'),\n",
       " Row(students_reached=None, funding_status=u'completed'),\n",
       " Row(students_reached=None, funding_status=u'completed'),\n",
       " Row(students_reached=None, funding_status=u'expired'),\n",
       " Row(students_reached=None, funding_status=u'expired'),\n",
       " Row(students_reached=None, funding_status=u'completed'),\n",
       " Row(students_reached=None, funding_status=u'completed'),\n",
       " Row(students_reached=None, funding_status=u'expired'),\n",
       " Row(students_reached=None, funding_status=u'completed'),\n",
       " Row(students_reached=None, funding_status=u'completed'),\n",
       " Row(students_reached=None, funding_status=u'expired'),\n",
       " Row(students_reached=None, funding_status=u'completed'),\n",
       " Row(students_reached=None, funding_status=u'completed'),\n",
       " Row(students_reached=None, funding_status=u'expired'),\n",
       " Row(students_reached=None, funding_status=u'expired'),\n",
       " Row(students_reached=None, funding_status=u'completed'),\n",
       " Row(students_reached=None, funding_status=u'completed'),\n",
       " Row(students_reached=None, funding_status=u'expired'),\n",
       " Row(students_reached=None, funding_status=u'expired'),\n",
       " Row(students_reached=None, funding_status=u'completed'),\n",
       " Row(students_reached=None, funding_status=u'completed'),\n",
       " Row(students_reached=None, funding_status=u'expired'),\n",
       " Row(students_reached=None, funding_status=u'completed'),\n",
       " Row(students_reached=None, funding_status=u'completed'),\n",
       " Row(students_reached=None, funding_status=u'completed'),\n",
       " Row(students_reached=None, funding_status=u'expired'),\n",
       " Row(students_reached=None, funding_status=u'expired'),\n",
       " Row(students_reached=None, funding_status=u'expired'),\n",
       " Row(students_reached=None, funding_status=u'expired'),\n",
       " Row(students_reached=None, funding_status=u'completed'),\n",
       " Row(students_reached=None, funding_status=u'completed'),\n",
       " Row(students_reached=None, funding_status=u'completed'),\n",
       " Row(students_reached=None, funding_status=u'completed'),\n",
       " Row(students_reached=None, funding_status=u'completed'),\n",
       " Row(students_reached=None, funding_status=u'completed'),\n",
       " Row(students_reached=None, funding_status=u'completed'),\n",
       " Row(students_reached=None, funding_status=u'completed'),\n",
       " Row(students_reached=None, funding_status=u'expired'),\n",
       " Row(students_reached=None, funding_status=u'completed'),\n",
       " Row(students_reached=None, funding_status=u'expired'),\n",
       " Row(students_reached=None, funding_status=u'completed'),\n",
       " Row(students_reached=None, funding_status=u'expired'),\n",
       " Row(students_reached=None, funding_status=u'completed'),\n",
       " Row(students_reached=None, funding_status=u'expired'),\n",
       " Row(students_reached=None, funding_status=u'completed'),\n",
       " Row(students_reached=None, funding_status=u'expired'),\n",
       " Row(students_reached=None, funding_status=u'completed'),\n",
       " Row(students_reached=None, funding_status=u'completed'),\n",
       " Row(students_reached=None, funding_status=u'completed'),\n",
       " Row(students_reached=None, funding_status=u'expired'),\n",
       " Row(students_reached=None, funding_status=u'expired'),\n",
       " Row(students_reached=None, funding_status=u'completed'),\n",
       " Row(students_reached=None, funding_status=u'completed'),\n",
       " Row(students_reached=None, funding_status=u'expired'),\n",
       " Row(students_reached=None, funding_status=u'completed'),\n",
       " Row(students_reached=None, funding_status=u'expired'),\n",
       " Row(students_reached=None, funding_status=u'completed'),\n",
       " Row(students_reached=None, funding_status=u'completed'),\n",
       " Row(students_reached=None, funding_status=u'expired'),\n",
       " Row(students_reached=None, funding_status=u'expired'),\n",
       " Row(students_reached=None, funding_status=u'completed'),\n",
       " Row(students_reached=None, funding_status=u'completed'),\n",
       " Row(students_reached=None, funding_status=u'completed'),\n",
       " Row(students_reached=None, funding_status=u'completed'),\n",
       " Row(students_reached=None, funding_status=u'expired'),\n",
       " Row(students_reached=None, funding_status=u'completed'),\n",
       " Row(students_reached=None, funding_status=u'completed'),\n",
       " Row(students_reached=None, funding_status=u'completed'),\n",
       " Row(students_reached=None, funding_status=u'completed'),\n",
       " Row(students_reached=None, funding_status=u'expired'),\n",
       " Row(students_reached=None, funding_status=u'expired'),\n",
       " Row(students_reached=None, funding_status=u'expired'),\n",
       " Row(students_reached=None, funding_status=u'completed'),\n",
       " Row(students_reached=None, funding_status=u'expired'),\n",
       " Row(students_reached=None, funding_status=u'completed'),\n",
       " Row(students_reached=None, funding_status=u'expired'),\n",
       " Row(students_reached=None, funding_status=u'completed'),\n",
       " Row(students_reached=None, funding_status=u'completed'),\n",
       " Row(students_reached=None, funding_status=u'completed'),\n",
       " Row(students_reached=None, funding_status=u'completed'),\n",
       " Row(students_reached=None, funding_status=u'completed'),\n",
       " Row(students_reached=None, funding_status=u'completed'),\n",
       " Row(students_reached=None, funding_status=u'completed'),\n",
       " Row(students_reached=None, funding_status=u'expired'),\n",
       " Row(students_reached=None, funding_status=u'completed'),\n",
       " Row(students_reached=None, funding_status=u'completed'),\n",
       " Row(students_reached=None, funding_status=u'completed'),\n",
       " Row(students_reached=None, funding_status=u'expired'),\n",
       " Row(students_reached=None, funding_status=u'expired'),\n",
       " Row(students_reached=None, funding_status=u'expired'),\n",
       " Row(students_reached=None, funding_status=u'completed'),\n",
       " Row(students_reached=None, funding_status=u'expired'),\n",
       " Row(students_reached=None, funding_status=u'expired'),\n",
       " Row(students_reached=None, funding_status=u'expired'),\n",
       " Row(students_reached=None, funding_status=u'completed'),\n",
       " Row(students_reached=None, funding_status=u'completed'),\n",
       " Row(students_reached=None, funding_status=u'completed'),\n",
       " Row(students_reached=None, funding_status=u'completed'),\n",
       " Row(students_reached=None, funding_status=u'completed'),\n",
       " Row(students_reached=None, funding_status=u'completed'),\n",
       " Row(students_reached=None, funding_status=u'completed'),\n",
       " Row(students_reached=None, funding_status=u'completed'),\n",
       " Row(students_reached=None, funding_status=u'completed'),\n",
       " Row(students_reached=None, funding_status=u'expired'),\n",
       " Row(students_reached=None, funding_status=u'completed'),\n",
       " Row(students_reached=None, funding_status=u'completed'),\n",
       " Row(students_reached=None, funding_status=u'completed'),\n",
       " Row(students_reached=None, funding_status=u'completed'),\n",
       " Row(students_reached=None, funding_status=u'expired'),\n",
       " Row(students_reached=None, funding_status=u'expired'),\n",
       " Row(students_reached=None, funding_status=u'completed'),\n",
       " Row(students_reached=None, funding_status=u'expired'),\n",
       " Row(students_reached=None, funding_status=u'completed'),\n",
       " Row(students_reached=None, funding_status=u'completed'),\n",
       " Row(students_reached=None, funding_status=u'completed'),\n",
       " Row(students_reached=None, funding_status=u'completed'),\n",
       " Row(students_reached=None, funding_status=u'completed'),\n",
       " Row(students_reached=None, funding_status=u'expired'),\n",
       " Row(students_reached=None, funding_status=u'completed'),\n",
       " Row(students_reached=None, funding_status=u'completed'),\n",
       " Row(students_reached=None, funding_status=u'completed'),\n",
       " Row(students_reached=None, funding_status=u'expired'),\n",
       " Row(students_reached=None, funding_status=u'completed'),\n",
       " Row(students_reached=None, funding_status=u'completed'),\n",
       " Row(students_reached=None, funding_status=u'expired'),\n",
       " Row(students_reached=None, funding_status=u'completed'),\n",
       " Row(students_reached=None, funding_status=u'expired'),\n",
       " Row(students_reached=None, funding_status=u'completed'),\n",
       " Row(students_reached=None, funding_status=u'expired'),\n",
       " Row(students_reached=None, funding_status=u'completed'),\n",
       " Row(students_reached=None, funding_status=u'live'),\n",
       " Row(students_reached=None, funding_status=u'live')]"
      ]
     },
     "execution_count": 61,
     "metadata": {},
     "output_type": "execute_result"
    }
   ],
   "source": [
    "df_force.filter(df_force['students_reached'].isNull()).select('students_reached', 'funding_status').collect()"
   ]
  },
  {
   "cell_type": "code",
   "execution_count": 62,
   "metadata": {
    "collapsed": true
   },
   "outputs": [],
   "source": [
    "df_no_null = df_force.fillna(0, ['students_reached'])"
   ]
  },
  {
   "cell_type": "markdown",
   "metadata": {},
   "source": [
    "## Frequent Items"
   ]
  },
  {
   "cell_type": "code",
   "execution_count": 63,
   "metadata": {
    "collapsed": false
   },
   "outputs": [],
   "source": [
    "freq_items = df_no_null.freqItems(['school_city', 'primary_focus_area', \\\n",
    "                                     'grade_level', 'poverty_level','resource_type'], 0.7).collect()"
   ]
  },
  {
   "cell_type": "code",
   "execution_count": 64,
   "metadata": {
    "collapsed": false
   },
   "outputs": [
    {
     "data": {
      "text/plain": [
       "Row(school_city_freqItems=[u'Los Angeles'], primary_focus_area_freqItems=[u'Literacy & Language'], grade_level_freqItems=[u'Grades PreK-2'], poverty_level_freqItems=[u'highest poverty'], resource_type_freqItems=[u'Supplies'])"
      ]
     },
     "execution_count": 64,
     "metadata": {},
     "output_type": "execute_result"
    }
   ],
   "source": [
    "freq_items[0]"
   ]
  },
  {
   "cell_type": "code",
   "execution_count": 65,
   "metadata": {
    "collapsed": false
   },
   "outputs": [
    {
     "data": {
      "text/plain": [
       "Row(num_donors_freqItems=[2.0, 1.0, 0.0])"
      ]
     },
     "execution_count": 65,
     "metadata": {},
     "output_type": "execute_result"
    }
   ],
   "source": [
    "df_no_null.freqItems(['num_donors'], .3).collect()[0]"
   ]
  },
  {
   "cell_type": "markdown",
   "metadata": {},
   "source": [
    "## Distributions"
   ]
  },
  {
   "cell_type": "code",
   "execution_count": 66,
   "metadata": {
    "collapsed": false
   },
   "outputs": [
    {
     "name": "stdout",
     "output_type": "stream",
     "text": [
      "+--------------+------+\n",
      "|funding_status| count|\n",
      "+--------------+------+\n",
      "|     completed|515005|\n",
      "|   reallocated|  7200|\n",
      "|       expired|207853|\n",
      "|          live| 41871|\n",
      "+--------------+------+\n",
      "\n"
     ]
    }
   ],
   "source": [
    "df_no_null.groupby('funding_status').count().show()"
   ]
  },
  {
   "cell_type": "code",
   "execution_count": 67,
   "metadata": {
    "collapsed": false
   },
   "outputs": [],
   "source": [
    "df_complete = df_no_null.filter(df_no_null['funding_status'] == 'completed')\n",
    "df_expired = df_no_null.filter(df_no_null['funding_status'] == 'expired')"
   ]
  },
  {
   "cell_type": "code",
   "execution_count": 68,
   "metadata": {
    "collapsed": false
   },
   "outputs": [],
   "source": [
    "df_complete.write.json('file://' + cwd + '/data/donors_choose/opendata_completed.json')\n",
    "df_expired.write.json('file://' + cwd + '/data/donors_choose/opendata_expired.json')"
   ]
  },
  {
   "cell_type": "code",
   "execution_count": 69,
   "metadata": {
    "collapsed": false
   },
   "outputs": [],
   "source": [
    "df_complete.groupby('num_donors').count().write.json('file://' + cwd + '/data/donors_choose/agg/num_donors_completed.json')\n",
    "df_expired.groupby('num_donors').count().write.json('file://' + cwd + '/data/donors_choose/agg/num_donors_expired.json')"
   ]
  },
  {
   "cell_type": "code",
   "execution_count": 70,
   "metadata": {
    "collapsed": false
   },
   "outputs": [
    {
     "name": "stdout",
     "output_type": "stream",
     "text": [
      "256M\tdata//airline-data\r\n",
      " 50M\tdata//churn\r\n",
      "904K\tdata//donors_choose/agg/num_donors_completed.json\r\n",
      "904K\tdata//donors_choose/agg/num_donors_expired.json\r\n",
      "1.8M\tdata//donors_choose/agg\r\n",
      "679M\tdata//donors_choose/opendata_completed.json\r\n",
      "259M\tdata//donors_choose/opendata_expired.json\r\n",
      "2.4G\tdata//donors_choose\r\n",
      "8.0M\tdata//readychef\r\n",
      "2.7G\tdata/\r\n"
     ]
    }
   ],
   "source": [
    "!du -h data/"
   ]
  },
  {
   "cell_type": "code",
   "execution_count": 71,
   "metadata": {
    "collapsed": false
   },
   "outputs": [
    {
     "name": "stdout",
     "output_type": "stream",
     "text": [
      "+-------+------------------+-----------------+------------------+------------------+------------------+\n",
      "|summary|   total_donations|       num_donors|  students_reached|         p_exclude|         p_include|\n",
      "+-------+------------------+-----------------+------------------+------------------+------------------+\n",
      "|  count|            771929|           771929|            771929|            771929|            771929|\n",
      "|   mean|370.85023398481707|4.264279486843997| 96.69740740404882| 569.6223687446723|  676.180708551764|\n",
      "| stddev| 733.4647726421459|6.132976060232441|2118.3875384029384|11763.955807309705|14344.347534777195|\n",
      "|    min|               0.0|              0.0|               0.0|               0.0|               0.0|\n",
      "|    max|          244778.0|            521.0|          999999.0|       1.0250017E7|       1.2500021E7|\n",
      "+-------+------------------+-----------------+------------------+------------------+------------------+\n",
      "\n"
     ]
    }
   ],
   "source": [
    "df_no_null.select('total_donations', 'num_donors', 'students_reached', \\\n",
    "                  df_no_null['total_price_excluding_optional_support'].alias('p_exclude'), \\\n",
    "                  df_no_null['total_price_including_optional_support'].alias('p_include')) \\\n",
    "          .describe().show()"
   ]
  },
  {
   "cell_type": "code",
   "execution_count": 72,
   "metadata": {
    "collapsed": false
   },
   "outputs": [],
   "source": [
    "price_rdd = df_no_null.select('total_price_excluding_optional_support').rdd.map(lambda r: r.asDict().values()[0])"
   ]
  },
  {
   "cell_type": "code",
   "execution_count": 73,
   "metadata": {
    "collapsed": false
   },
   "outputs": [
    {
     "data": {
      "text/plain": [
       "[10250017.0, 1000000.0, 437212.0]"
      ]
     },
     "execution_count": 73,
     "metadata": {},
     "output_type": "execute_result"
    }
   ],
   "source": [
    "# massive outliers, will skew histogram buckets\n",
    "outliers = price_rdd.top(3)\n",
    "outliers"
   ]
  },
  {
   "cell_type": "code",
   "execution_count": 74,
   "metadata": {
    "collapsed": true
   },
   "outputs": [],
   "source": [
    "# for continuous columns we can use Histogram RDD function\n",
    "hist = price_rdd.filter(lambda x: x not in outliers).histogram(100)"
   ]
  },
  {
   "cell_type": "code",
   "execution_count": 75,
   "metadata": {
    "collapsed": false
   },
   "outputs": [
    {
     "data": {
      "text/plain": [
       "([0.0,\n",
       "  1397.2540625,\n",
       "  2794.508125,\n",
       "  4191.7621874999995,\n",
       "  5589.01625,\n",
       "  6986.2703125,\n",
       "  8383.524374999999,\n",
       "  9780.7784375,\n",
       "  11178.0325,\n",
       "  12575.2865625,\n",
       "  13972.540625,\n",
       "  15369.7946875,\n",
       "  16767.048749999998,\n",
       "  18164.3028125,\n",
       "  19561.556875,\n",
       "  20958.8109375,\n",
       "  22356.065,\n",
       "  23753.3190625,\n",
       "  25150.573125,\n",
       "  26547.8271875,\n",
       "  27945.08125,\n",
       "  29342.3353125,\n",
       "  30739.589375,\n",
       "  32136.8434375,\n",
       "  33534.097499999996,\n",
       "  34931.3515625,\n",
       "  36328.605625,\n",
       "  37725.8596875,\n",
       "  39123.11375,\n",
       "  40520.3678125,\n",
       "  41917.621875,\n",
       "  43314.8759375,\n",
       "  44712.13,\n",
       "  46109.384062499994,\n",
       "  47506.638125,\n",
       "  48903.892187499994,\n",
       "  50301.14625,\n",
       "  51698.400312499994,\n",
       "  53095.654375,\n",
       "  54492.908437499995,\n",
       "  55890.1625,\n",
       "  57287.416562499995,\n",
       "  58684.670625,\n",
       "  60081.924687499995,\n",
       "  61479.17875,\n",
       "  62876.432812499996,\n",
       "  64273.686875,\n",
       "  65670.9409375,\n",
       "  67068.19499999999,\n",
       "  68465.44906249999,\n",
       "  69862.703125,\n",
       "  71259.9571875,\n",
       "  72657.21125,\n",
       "  74054.46531249999,\n",
       "  75451.719375,\n",
       "  76848.9734375,\n",
       "  78246.2275,\n",
       "  79643.48156249999,\n",
       "  81040.735625,\n",
       "  82437.9896875,\n",
       "  83835.24375,\n",
       "  85232.49781249999,\n",
       "  86629.751875,\n",
       "  88027.0059375,\n",
       "  89424.26,\n",
       "  90821.51406249999,\n",
       "  92218.76812499999,\n",
       "  93616.0221875,\n",
       "  95013.27625,\n",
       "  96410.53031249999,\n",
       "  97807.78437499999,\n",
       "  99205.0384375,\n",
       "  100602.2925,\n",
       "  101999.54656249999,\n",
       "  103396.80062499999,\n",
       "  104794.0546875,\n",
       "  106191.30875,\n",
       "  107588.5628125,\n",
       "  108985.81687499999,\n",
       "  110383.0709375,\n",
       "  111780.325,\n",
       "  113177.5790625,\n",
       "  114574.83312499999,\n",
       "  115972.08718749999,\n",
       "  117369.34125,\n",
       "  118766.5953125,\n",
       "  120163.84937499999,\n",
       "  121561.10343749999,\n",
       "  122958.3575,\n",
       "  124355.6115625,\n",
       "  125752.86562499999,\n",
       "  127150.11968749999,\n",
       "  128547.37375,\n",
       "  129944.6278125,\n",
       "  131341.881875,\n",
       "  132739.1359375,\n",
       "  134136.38999999998,\n",
       "  135533.64406249998,\n",
       "  136930.89812499998,\n",
       "  138328.1521875,\n",
       "  139725.40625],\n",
       " [732633,\n",
       "  33143,\n",
       "  3110,\n",
       "  1052,\n",
       "  630,\n",
       "  443,\n",
       "  198,\n",
       "  184,\n",
       "  111,\n",
       "  69,\n",
       "  68,\n",
       "  39,\n",
       "  28,\n",
       "  22,\n",
       "  25,\n",
       "  21,\n",
       "  7,\n",
       "  12,\n",
       "  15,\n",
       "  11,\n",
       "  9,\n",
       "  12,\n",
       "  7,\n",
       "  6,\n",
       "  11,\n",
       "  6,\n",
       "  5,\n",
       "  6,\n",
       "  3,\n",
       "  2,\n",
       "  0,\n",
       "  2,\n",
       "  5,\n",
       "  1,\n",
       "  2,\n",
       "  2,\n",
       "  5,\n",
       "  0,\n",
       "  0,\n",
       "  0,\n",
       "  1,\n",
       "  2,\n",
       "  2,\n",
       "  0,\n",
       "  1,\n",
       "  2,\n",
       "  0,\n",
       "  0,\n",
       "  0,\n",
       "  1,\n",
       "  1,\n",
       "  2,\n",
       "  3,\n",
       "  0,\n",
       "  0,\n",
       "  0,\n",
       "  1,\n",
       "  0,\n",
       "  0,\n",
       "  0,\n",
       "  0,\n",
       "  1,\n",
       "  0,\n",
       "  0,\n",
       "  0,\n",
       "  0,\n",
       "  0,\n",
       "  1,\n",
       "  0,\n",
       "  0,\n",
       "  1,\n",
       "  0,\n",
       "  0,\n",
       "  0,\n",
       "  0,\n",
       "  0,\n",
       "  0,\n",
       "  0,\n",
       "  0,\n",
       "  0,\n",
       "  0,\n",
       "  0,\n",
       "  0,\n",
       "  0,\n",
       "  0,\n",
       "  0,\n",
       "  0,\n",
       "  0,\n",
       "  0,\n",
       "  0,\n",
       "  0,\n",
       "  0,\n",
       "  0,\n",
       "  0,\n",
       "  0,\n",
       "  0,\n",
       "  0,\n",
       "  0,\n",
       "  0,\n",
       "  2])"
      ]
     },
     "execution_count": 75,
     "metadata": {},
     "output_type": "execute_result"
    }
   ],
   "source": [
    "hist"
   ]
  },
  {
   "cell_type": "code",
   "execution_count": 76,
   "metadata": {
    "collapsed": false
   },
   "outputs": [
    {
     "name": "stdout",
     "output_type": "stream",
     "text": [
      "Populating the interactive namespace from numpy and matplotlib\n"
     ]
    },
    {
     "name": "stderr",
     "output_type": "stream",
     "text": [
      "WARNING: pylab import has clobbered these variables: ['datetime', 'hist', 'record']\n",
      "`%matplotlib` prevents importing * from pylab and numpy\n"
     ]
    }
   ],
   "source": [
    "import matplotlib.pyplot as plt\n",
    "import pandas as pd\n",
    "\n",
    "%pylab inline"
   ]
  },
  {
   "cell_type": "code",
   "execution_count": 79,
   "metadata": {
    "collapsed": true
   },
   "outputs": [],
   "source": [
    "def plot_rdd_hist(hist):\n",
    "    idx = []\n",
    "\n",
    "    for i in range(len(hist[0]) - 1):\n",
    "        idx.append((hist[0][i] + hist[0][i+1])/ 2)\n",
    "        \n",
    "    pd.DataFrame({'counts': hist[1], 'index': idx}).set_index('index').plot(figsize=(16,5))"
   ]
  },
  {
   "cell_type": "code",
   "execution_count": 80,
   "metadata": {
    "collapsed": true
   },
   "outputs": [],
   "source": [
    "cheap_histogram = price_rdd.filter(lambda x: x < 5000).histogram(100)"
   ]
  },
  {
   "cell_type": "code",
   "execution_count": 81,
   "metadata": {
    "collapsed": false
   },
   "outputs": [
    {
     "data": {
      "text/plain": [
       "([0.0,\n",
       "  49.9906982421875,\n",
       "  99.981396484375,\n",
       "  149.9720947265625,\n",
       "  199.96279296875,\n",
       "  249.9534912109375,\n",
       "  299.944189453125,\n",
       "  349.9348876953125,\n",
       "  399.9255859375,\n",
       "  449.91628417968747,\n",
       "  499.906982421875,\n",
       "  549.8976806640625,\n",
       "  599.88837890625,\n",
       "  649.8790771484374,\n",
       "  699.869775390625,\n",
       "  749.8604736328125,\n",
       "  799.851171875,\n",
       "  849.8418701171875,\n",
       "  899.8325683593749,\n",
       "  949.8232666015625,\n",
       "  999.81396484375,\n",
       "  1049.8046630859374,\n",
       "  1099.795361328125,\n",
       "  1149.7860595703125,\n",
       "  1199.7767578125,\n",
       "  1249.7674560546875,\n",
       "  1299.7581542968749,\n",
       "  1349.7488525390625,\n",
       "  1399.73955078125,\n",
       "  1449.7302490234374,\n",
       "  1499.720947265625,\n",
       "  1549.7116455078124,\n",
       "  1599.70234375,\n",
       "  1649.6930419921875,\n",
       "  1699.683740234375,\n",
       "  1749.6744384765625,\n",
       "  1799.6651367187499,\n",
       "  1849.6558349609375,\n",
       "  1899.646533203125,\n",
       "  1949.6372314453124,\n",
       "  1999.6279296875,\n",
       "  2049.6186279296876,\n",
       "  2099.6093261718747,\n",
       "  2149.6000244140623,\n",
       "  2199.59072265625,\n",
       "  2249.5814208984375,\n",
       "  2299.572119140625,\n",
       "  2349.562817382812,\n",
       "  2399.553515625,\n",
       "  2449.5442138671874,\n",
       "  2499.534912109375,\n",
       "  2549.5256103515626,\n",
       "  2599.5163085937497,\n",
       "  2649.5070068359373,\n",
       "  2699.497705078125,\n",
       "  2749.4884033203125,\n",
       "  2799.4791015625,\n",
       "  2849.469799804687,\n",
       "  2899.460498046875,\n",
       "  2949.4511962890624,\n",
       "  2999.44189453125,\n",
       "  3049.4325927734376,\n",
       "  3099.4232910156247,\n",
       "  3149.4139892578123,\n",
       "  3199.4046875,\n",
       "  3249.3953857421875,\n",
       "  3299.386083984375,\n",
       "  3349.376782226562,\n",
       "  3399.36748046875,\n",
       "  3449.3581787109374,\n",
       "  3499.348876953125,\n",
       "  3549.3395751953126,\n",
       "  3599.3302734374997,\n",
       "  3649.3209716796873,\n",
       "  3699.311669921875,\n",
       "  3749.3023681640625,\n",
       "  3799.29306640625,\n",
       "  3849.283764648437,\n",
       "  3899.274462890625,\n",
       "  3949.2651611328124,\n",
       "  3999.255859375,\n",
       "  4049.2465576171876,\n",
       "  4099.237255859375,\n",
       "  4149.227954101562,\n",
       "  4199.218652343749,\n",
       "  4249.2093505859375,\n",
       "  4299.200048828125,\n",
       "  4349.190747070313,\n",
       "  4399.1814453125,\n",
       "  4449.172143554687,\n",
       "  4499.162841796875,\n",
       "  4549.153540039062,\n",
       "  4599.14423828125,\n",
       "  4649.134936523437,\n",
       "  4699.125634765624,\n",
       "  4749.1163330078125,\n",
       "  4799.10703125,\n",
       "  4849.097729492188,\n",
       "  4899.088427734375,\n",
       "  4949.079125976562,\n",
       "  4999.06982421875],\n",
       " [473,\n",
       "  1111,\n",
       "  31048,\n",
       "  69021,\n",
       "  63669,\n",
       "  60606,\n",
       "  68017,\n",
       "  66916,\n",
       "  78830,\n",
       "  67977,\n",
       "  35923,\n",
       "  26841,\n",
       "  22944,\n",
       "  22618,\n",
       "  18835,\n",
       "  18844,\n",
       "  22257,\n",
       "  15945,\n",
       "  13446,\n",
       "  6098,\n",
       "  4158,\n",
       "  2964,\n",
       "  3013,\n",
       "  2355,\n",
       "  2624,\n",
       "  2315,\n",
       "  1854,\n",
       "  1996,\n",
       "  1834,\n",
       "  1782,\n",
       "  1758,\n",
       "  1940,\n",
       "  1875,\n",
       "  3335,\n",
       "  1410,\n",
       "  1342,\n",
       "  1256,\n",
       "  1342,\n",
       "  1293,\n",
       "  1667,\n",
       "  1543,\n",
       "  2708,\n",
       "  1008,\n",
       "  1170,\n",
       "  1955,\n",
       "  1220,\n",
       "  400,\n",
       "  374,\n",
       "  426,\n",
       "  265,\n",
       "  230,\n",
       "  217,\n",
       "  166,\n",
       "  210,\n",
       "  208,\n",
       "  184,\n",
       "  212,\n",
       "  147,\n",
       "  149,\n",
       "  126,\n",
       "  226,\n",
       "  186,\n",
       "  132,\n",
       "  155,\n",
       "  128,\n",
       "  145,\n",
       "  179,\n",
       "  119,\n",
       "  83,\n",
       "  85,\n",
       "  86,\n",
       "  88,\n",
       "  73,\n",
       "  77,\n",
       "  74,\n",
       "  61,\n",
       "  73,\n",
       "  60,\n",
       "  77,\n",
       "  59,\n",
       "  62,\n",
       "  79,\n",
       "  71,\n",
       "  62,\n",
       "  50,\n",
       "  63,\n",
       "  46,\n",
       "  55,\n",
       "  46,\n",
       "  56,\n",
       "  49,\n",
       "  47,\n",
       "  35,\n",
       "  46,\n",
       "  26,\n",
       "  33,\n",
       "  27,\n",
       "  43,\n",
       "  43,\n",
       "  40])"
      ]
     },
     "execution_count": 81,
     "metadata": {},
     "output_type": "execute_result"
    }
   ],
   "source": [
    "cheap_histogram"
   ]
  },
  {
   "cell_type": "code",
   "execution_count": 82,
   "metadata": {
    "collapsed": false
   },
   "outputs": [
    {
     "data": {
      "image/png": "[encoded data removed]",
      "text/plain": [
       "<matplotlib.figure.Figure at 0x110f03590>"
      ]
     },
     "metadata": {},
     "output_type": "display_data"
    }
   ],
   "source": [
    "plot_rdd_hist(cheap_histogram)"
   ]
  },
  {
   "cell_type": "code",
   "execution_count": 83,
   "metadata": {
    "collapsed": false
   },
   "outputs": [
    {
     "data": {
      "image/png": "[encoded data removed]",
      "text/plain": [
       "<matplotlib.figure.Figure at 0x111a8f210>"
      ]
     },
     "metadata": {},
     "output_type": "display_data"
    }
   ],
   "source": [
    "plot_rdd_hist(price_rdd.filter(lambda x: x < 30000).histogram(100))"
   ]
  },
  {
   "cell_type": "markdown",
   "metadata": {},
   "source": [
    "The true power of Spark comes when we start passing data and operations between the local driver and the Spark context.  In doing so we can combine operations that are most efficient in Spark on a cluster with local methods that operate on smaller data.  \n",
    "\n",
    "Here we are using Spark to do the heavy lifting of creating distributiions of the relevant queries, and then explore/visualize the condensed data with pandas and matplotlib locally. \n",
    "\n",
    "> For an example of passing these results to a client side D3.js interactive chart see the following: http://bl.ocks.org/Jay-Oh-eN/c532c8703547cf148006 \n"
   ]
  },
  {
   "cell_type": "code",
   "execution_count": 84,
   "metadata": {
    "collapsed": false
   },
   "outputs": [
    {
     "data": {
      "text/html": [
       "\n",
       "        <iframe\n",
       "            width=\"960\"\n",
       "            height=\"500\"\n",
       "            src=\"http://bl.ocks.org/Jay-Oh-eN/raw/c532c8703547cf148006/d7c0db2150bdde2a56acce2456a5bbe19527a79b/\"\n",
       "            frameborder=\"0\"\n",
       "            allowfullscreen\n",
       "        ></iframe>\n",
       "        "
      ],
      "text/plain": [
       "<IPython.lib.display.IFrame at 0x111e34410>"
      ]
     },
     "execution_count": 84,
     "metadata": {},
     "output_type": "execute_result"
    }
   ],
   "source": [
    "from IPython.display import IFrame\n",
    "\n",
    "IFrame('http://bl.ocks.org/Jay-Oh-eN/raw/c532c8703547cf148006/d7c0db2150bdde2a56acce2456a5bbe19527a79b/', width=960, height=500)"
   ]
  },
  {
   "cell_type": "code",
   "execution_count": 85,
   "metadata": {
    "collapsed": true
   },
   "outputs": [],
   "source": [
    "def spark_histogram(df, column):\n",
    "    donor_counts = df.groupby(column).count()\n",
    "    donor_df = donor_counts.toPandas()\n",
    "    donor_df[column] = donor_df.num_donors.astype(float)\n",
    "    return donor_df.sort(column).set_index(column).iloc[:50,:].plot(kind='bar', figsize=(14,5))"
   ]
  },
  {
   "cell_type": "code",
   "execution_count": 86,
   "metadata": {
    "collapsed": false
   },
   "outputs": [
    {
     "data": {
      "text/plain": [
       "<matplotlib.axes._subplots.AxesSubplot at 0x111c98110>"
      ]
     },
     "execution_count": 86,
     "metadata": {},
     "output_type": "execute_result"
    },
    {
     "data": {
      "image/png": "[encoded data removed]",
      "text/plain": [
       "<matplotlib.figure.Figure at 0x111e34b90>"
      ]
     },
     "metadata": {},
     "output_type": "display_data"
    }
   ],
   "source": [
    "spark_histogram(df_complete, 'num_donors')"
   ]
  },
  {
   "cell_type": "code",
   "execution_count": 87,
   "metadata": {
    "collapsed": false
   },
   "outputs": [
    {
     "data": {
      "text/plain": [
       "<matplotlib.axes._subplots.AxesSubplot at 0x111dcfd50>"
      ]
     },
     "execution_count": 87,
     "metadata": {},
     "output_type": "execute_result"
    },
    {
     "data": {
      "image/png": "[encoded data removed]",
      "text/plain": [
       "<matplotlib.figure.Figure at 0x111c98b50>"
      ]
     },
     "metadata": {},
     "output_type": "display_data"
    }
   ],
   "source": [
    "spark_histogram(df_expired, 'num_donors')"
   ]
  },
  {
   "cell_type": "markdown",
   "metadata": {},
   "source": [
    "## Interactions"
   ]
  },
  {
   "cell_type": "code",
   "execution_count": 88,
   "metadata": {
    "collapsed": false
   },
   "outputs": [
    {
     "name": "stdout",
     "output_type": "stream",
     "text": [
      "+-----------------------------+-------+-----+---------+-----------+\n",
      "|school_charter_funding_status|expired| live|completed|reallocated|\n",
      "+-----------------------------+-------+-----+---------+-----------+\n",
      "|                        false| 191960|38509|   465558|       6297|\n",
      "|                         true|  15893| 3362|    49447|        903|\n",
      "+-----------------------------+-------+-----+---------+-----------+\n",
      "\n",
      "+----------------------------+-------+-----+---------+-----------+\n",
      "|school_magnet_funding_status|expired| live|completed|reallocated|\n",
      "+----------------------------+-------+-----+---------+-----------+\n",
      "|                       false| 190178|38690|   465711|       6483|\n",
      "|                        true|  17675| 3181|    49294|        717|\n",
      "+----------------------------+-------+-----+---------+-----------+\n",
      "\n",
      "+---------------------------+-------+---------+-----+-----------+\n",
      "|school_metro_funding_status|expired|completed| live|reallocated|\n",
      "+---------------------------+-------+---------+-----+-----------+\n",
      "|                   suburban|  51652|   116829|12671|       1434|\n",
      "|                      rural|  32507|    55250| 5358|        737|\n",
      "|                      urban|  94566|   283643|18013|       4089|\n",
      "|                       null|  29128|    59283| 5829|        940|\n",
      "+---------------------------+-------+---------+-----+-----------+\n",
      "\n",
      "+----------------------------+-------+-----+---------+-----------+\n",
      "|poverty_level_funding_status|expired| live|completed|reallocated|\n",
      "+----------------------------+-------+-----+---------+-----------+\n",
      "|                 low poverty|   5399| 1462|    12844|        187|\n",
      "|                high poverty|  60856|11390|   127877|       1715|\n",
      "|            moderate poverty|  33840| 7077|    67536|        784|\n",
      "|             highest poverty| 107758|21942|   306748|       4514|\n",
      "+----------------------------+-------+-----+---------+-----------+\n",
      "\n",
      "+--------------------------+-----+---------+-----------+-------+\n",
      "|grade_level_funding_status| live|completed|reallocated|expired|\n",
      "+--------------------------+-----+---------+-----------+-------+\n",
      "|                      null|   13|       14|          0|      6|\n",
      "|                Grades 6-8| 7206|    87921|       1543|  36275|\n",
      "|                Grades 3-5|13671|   157688|       2112|  65773|\n",
      "|             Grades PreK-2|15628|   192224|       2149|  77265|\n",
      "|               Grades 9-12| 5353|    77158|       1396|  28534|\n",
      "+--------------------------+-----+---------+-----------+-------+\n",
      "\n"
     ]
    }
   ],
   "source": [
    "# categorical/boolean fields can give valuable facets (crosstabs)\n",
    "df_no_null.crosstab('school_charter', 'funding_status').show()\n",
    "df_no_null.crosstab('school_magnet', 'funding_status').show()\n",
    "df_no_null.crosstab('school_metro', 'funding_status').show()\n",
    "df_no_null.crosstab('poverty_level', 'funding_status').show()\n",
    "df_no_null.crosstab('grade_level', 'funding_status').show()"
   ]
  },
  {
   "cell_type": "code",
   "execution_count": 89,
   "metadata": {
    "collapsed": false
   },
   "outputs": [
    {
     "name": "stdout",
     "output_type": "stream",
     "text": [
      "+----------------------------+-----+---------+-----------+-------+\n",
      "|resource_type_funding_status| live|completed|reallocated|expired|\n",
      "+----------------------------+-----+---------+-----------+-------+\n",
      "|                        null|    2|       28|          0|     18|\n",
      "|                       Other| 4542|    54610|        747|  22550|\n",
      "|                       Books| 5982|   118810|       1527|  34554|\n",
      "|                    Visitors|  102|      806|          6|    341|\n",
      "|                    Supplies|11939|   185870|       2602|  63406|\n",
      "|                       Trips|  347|     4381|         62|   1474|\n",
      "|                  Technology|18957|   150500|       2256|  85510|\n",
      "+----------------------------+-----+---------+-----------+-------+\n",
      "\n",
      "+--------------------------------+-----+--------+-----+----------+------+--------+----+\n",
      "|primary_focus_area_resource_type|Trips|Visitors|Other|Technology| Books|Supplies|null|\n",
      "+--------------------------------+-----+--------+-----+----------+------+--------+----+\n",
      "|             Literacy & Language|  630|     228|32795|    109605|127282|   75924|   4|\n",
      "|                            null|    0|       0|    0|         0|     1|       0|  41|\n",
      "|                Applied Learning| 1197|     104| 9429|     17869|  4863|   22596|   0|\n",
      "|                  Math & Science| 1902|     323|16353|     75189| 11746|   89101|   3|\n",
      "|                Music & The Arts|  947|     441| 8305|     19289|  2883|   37804|   0|\n",
      "|                 Health & Sports|  159|      54| 4633|      3054|   432|   12970|   0|\n",
      "|                   Special Needs|  241|      32| 7636|     19359|  4112|   17151|   0|\n",
      "|                History & Civics| 1188|      73| 3298|     12858|  9554|    8271|   0|\n",
      "+--------------------------------+-----+--------+-----+----------+------+--------+----+\n",
      "\n"
     ]
    }
   ],
   "source": [
    "df_no_null.crosstab('resource_type', 'funding_status').show()\n",
    "df_no_null.crosstab('primary_focus_area', 'resource_type').show()"
   ]
  },
  {
   "cell_type": "code",
   "execution_count": 90,
   "metadata": {
    "collapsed": false,
    "scrolled": true
   },
   "outputs": [
    {
     "data": {
      "text/plain": [
       "0.007004254706419042"
      ]
     },
     "execution_count": 90,
     "metadata": {},
     "output_type": "execute_result"
    }
   ],
   "source": [
    "df_no_null.stat.corr('total_price_excluding_optional_support', 'num_donors')"
   ]
  },
  {
   "cell_type": "code",
   "execution_count": 91,
   "metadata": {
    "collapsed": false
   },
   "outputs": [
    {
     "data": {
      "text/plain": [
       "0.0006159991686679948"
      ]
     },
     "execution_count": 91,
     "metadata": {},
     "output_type": "execute_result"
    }
   ],
   "source": [
    "df_no_null.stat.corr('total_price_excluding_optional_support', 'students_reached')"
   ]
  },
  {
   "cell_type": "code",
   "execution_count": 92,
   "metadata": {
    "collapsed": false
   },
   "outputs": [
    {
     "data": {
      "text/plain": [
       "0.9999972199123168"
      ]
     },
     "execution_count": 92,
     "metadata": {},
     "output_type": "execute_result"
    }
   ],
   "source": [
    "df_no_null.stat.corr('total_price_excluding_optional_support', 'total_price_including_optional_support')"
   ]
  }
 ],
 "metadata": {
  "kernelspec": {
   "display_name": "Python 2",
   "language": "python",
   "name": "python2"
  },
  "language_info": {
   "codemirror_mode": {
    "name": "ipython",
    "version": 2
   },
   "file_extension": ".py",
   "mimetype": "text/x-python",
   "name": "python",
   "nbconvert_exporter": "python",
   "pygments_lexer": "ipython2",
   "version": "2.7.9"
  }
 },
 "nbformat": 4,
 "nbformat_minor": 0
}
