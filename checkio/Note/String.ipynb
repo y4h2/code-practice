{
 "cells": [
  {
   "cell_type": "markdown",
   "metadata": {},
   "source": [
    "# Remove Punctuations"
   ]
  },
  {
   "cell_type": "code",
   "execution_count": 4,
   "metadata": {
    "collapsed": false
   },
   "outputs": [
    {
     "name": "stdout",
     "output_type": "stream",
     "text": [
      "Hello I am Yu\n"
     ]
    }
   ],
   "source": [
    "'''\n",
    "this method is quicker than replace, \n",
    "but it can not replace punctuation as space\n",
    "'''\n",
    "import string\n",
    "text = 'Hello, I am Yu.'\n",
    "exclude = set(string.punctuation)\n",
    "text = ''.join(ch for ch in text if ch not in exclude)\n",
    "print text"
   ]
  },
  {
   "cell_type": "code",
   "execution_count": 7,
   "metadata": {
    "collapsed": false
   },
   "outputs": [
    {
     "name": "stdout",
     "output_type": "stream",
     "text": [
      "Hello I am Yu \n"
     ]
    }
   ],
   "source": [
    "# Replace Punctuation to Space\n",
    "import string\n",
    "text = 'Hello,I am Yu.'\n",
    "exclude = set(string.punctuation)\n",
    "for c in exclude:\n",
    "  if c in text:\n",
    "    text = text.replace(c, ' ')\n",
    "print text"
   ]
  },
  {
   "cell_type": "markdown",
   "metadata": {},
   "source": [
    "# Normal Methods"
   ]
  },
  {
   "cell_type": "markdown",
   "metadata": {},
   "source": [
    "# Attributes"
   ]
  },
  {
   "cell_type": "code",
   "execution_count": null,
   "metadata": {
    "collapsed": true
   },
   "outputs": [],
   "source": []
  }
 ],
 "metadata": {
  "kernelspec": {
   "display_name": "Python 2",
   "language": "python",
   "name": "python2"
  },
  "language_info": {
   "codemirror_mode": {
    "name": "ipython",
    "version": 2
   },
   "file_extension": ".py",
   "mimetype": "text/x-python",
   "name": "python",
   "nbconvert_exporter": "python",
   "pygments_lexer": "ipython2",
   "version": "2.7.11"
  }
 },
 "nbformat": 4,
 "nbformat_minor": 0
}
