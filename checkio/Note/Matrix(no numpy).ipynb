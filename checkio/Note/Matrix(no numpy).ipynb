{
 "cells": [
  {
   "cell_type": "markdown",
   "metadata": {},
   "source": [
    "# Define"
   ]
  },
  {
   "cell_type": "code",
   "execution_count": 3,
   "metadata": {
    "collapsed": false
   },
   "outputs": [
    {
     "name": "stdout",
     "output_type": "stream",
     "text": [
      "[[ 0  1  2  3  4  5]\n",
      " [ 6  7  8  9 10 11]\n",
      " [12 13 14 15 16 17]\n",
      " [18 19 20 21 22 23]\n",
      " [24 25 26 27 28 29]\n",
      " [30 31 32 33 34 35]]\n"
     ]
    }
   ],
   "source": [
    "import numpy\n",
    "matrix = numpy.arange(36).reshape(6, 6)\n",
    "print matrix"
   ]
  },
  {
   "cell_type": "markdown",
   "metadata": {},
   "source": [
    "# Matrix Transpose"
   ]
  },
  {
   "cell_type": "code",
   "execution_count": 6,
   "metadata": {
    "collapsed": false
   },
   "outputs": [
    {
     "data": {
      "text/plain": [
       "[(0, 6, 12, 18, 24, 30),\n",
       " (1, 7, 13, 19, 25, 31),\n",
       " (2, 8, 14, 20, 26, 32),\n",
       " (3, 9, 15, 21, 27, 33),\n",
       " (4, 10, 16, 22, 28, 34),\n",
       " (5, 11, 17, 23, 29, 35)]"
      ]
     },
     "execution_count": 6,
     "metadata": {},
     "output_type": "execute_result"
    }
   ],
   "source": [
    "# matrix transpose\n",
    "zip(*matrix)"
   ]
  },
  {
   "cell_type": "markdown",
   "metadata": {},
   "source": [
    "# Sum of Row & Column "
   ]
  },
  {
   "cell_type": "code",
   "execution_count": 7,
   "metadata": {
    "collapsed": false
   },
   "outputs": [
    {
     "name": "stdout",
     "output_type": "stream",
     "text": [
      "[15, 51, 87, 123, 159, 195]\n",
      "[90, 96, 102, 108, 114, 120]\n"
     ]
    }
   ],
   "source": [
    "# sum of rows\n",
    "row_sum = []\n",
    "for row in matrix:\n",
    "    row_sum.append(sum(row))\n",
    "\n",
    "print row_sum\n",
    "\n",
    "# sum of columns\n",
    "col_sum = []\n",
    "for col in zip(*matrix):\n",
    "  col_sum.append(sum(col))\n",
    "\n",
    "print col_sum"
   ]
  },
  {
   "cell_type": "markdown",
   "metadata": {},
   "source": [
    "# Matrix Rotation"
   ]
  },
  {
   "cell_type": "code",
   "execution_count": 22,
   "metadata": {
    "collapsed": false
   },
   "outputs": [
    {
     "data": {
      "text/plain": [
       "[(30, 24, 18, 12, 6, 0),\n",
       " (31, 25, 19, 13, 7, 1),\n",
       " (32, 26, 20, 14, 8, 2),\n",
       " (33, 27, 21, 15, 9, 3),\n",
       " (34, 28, 22, 16, 10, 4),\n",
       " (35, 29, 23, 17, 11, 5)]"
      ]
     },
     "execution_count": 22,
     "metadata": {},
     "output_type": "execute_result"
    }
   ],
   "source": [
    "# rotate clockwise\n",
    "zip(*matrix[::-1])"
   ]
  },
  {
   "cell_type": "code",
   "execution_count": 24,
   "metadata": {
    "collapsed": false
   },
   "outputs": [
    {
     "data": {
      "text/plain": [
       "[(5, 11, 17, 23, 29, 35),\n",
       " (4, 10, 16, 22, 28, 34),\n",
       " (3, 9, 15, 21, 27, 33),\n",
       " (2, 8, 14, 20, 26, 32),\n",
       " (1, 7, 13, 19, 25, 31),\n",
       " (0, 6, 12, 18, 24, 30)]"
      ]
     },
     "execution_count": 24,
     "metadata": {},
     "output_type": "execute_result"
    }
   ],
   "source": [
    "# rotate counterclockwise\n",
    "zip(*matrix)[::-1]"
   ]
  },
  {
   "cell_type": "code",
   "execution_count": null,
   "metadata": {
    "collapsed": true
   },
   "outputs": [],
   "source": []
  }
 ],
 "metadata": {
  "kernelspec": {
   "display_name": "Python 2",
   "language": "python",
   "name": "python2"
  },
  "language_info": {
   "codemirror_mode": {
    "name": "ipython",
    "version": 2
   },
   "file_extension": ".py",
   "mimetype": "text/x-python",
   "name": "python",
   "nbconvert_exporter": "python",
   "pygments_lexer": "ipython2",
   "version": "2.7.11"
  }
 },
 "nbformat": 4,
 "nbformat_minor": 0
}
